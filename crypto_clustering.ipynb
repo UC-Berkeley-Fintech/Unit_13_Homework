{
 "cells": [
  {
   "cell_type": "markdown",
   "metadata": {},
   "source": [
    "# Clustering Crypto"
   ]
  },
  {
   "cell_type": "code",
   "execution_count": 84,
   "metadata": {
    "tags": []
   },
   "outputs": [],
   "source": [
    "# Initial imports\n",
    "import requests\n",
    "import pandas as pd\n",
    "import matplotlib.pyplot as plt\n",
    "import hvplot.pandas\n",
    "import plotly.express as px\n",
    "from sklearn.preprocessing import StandardScaler, MinMaxScaler\n",
    "from sklearn.decomposition import PCA\n",
    "from sklearn.cluster import KMeans\n",
    "from path import Path"
   ]
  },
  {
   "cell_type": "markdown",
   "metadata": {},
   "source": [
    "### Fetching Cryptocurrency Data"
   ]
  },
  {
   "cell_type": "code",
   "execution_count": 85,
   "metadata": {},
   "outputs": [
    {
     "data": {
      "text/html": [
       "<div>\n",
       "<style scoped>\n",
       "    .dataframe tbody tr th:only-of-type {\n",
       "        vertical-align: middle;\n",
       "    }\n",
       "\n",
       "    .dataframe tbody tr th {\n",
       "        vertical-align: top;\n",
       "    }\n",
       "\n",
       "    .dataframe thead th {\n",
       "        text-align: right;\n",
       "    }\n",
       "</style>\n",
       "<table border=\"1\" class=\"dataframe\">\n",
       "  <thead>\n",
       "    <tr style=\"text-align: right;\">\n",
       "      <th></th>\n",
       "      <th>CoinName</th>\n",
       "      <th>Algorithm</th>\n",
       "      <th>IsTrading</th>\n",
       "      <th>ProofType</th>\n",
       "      <th>TotalCoinsMined</th>\n",
       "      <th>TotalCoinSupply</th>\n",
       "    </tr>\n",
       "  </thead>\n",
       "  <tbody>\n",
       "    <tr>\n",
       "      <th>42</th>\n",
       "      <td>42 Coin</td>\n",
       "      <td>Scrypt</td>\n",
       "      <td>True</td>\n",
       "      <td>PoW/PoS</td>\n",
       "      <td>4.199995e+01</td>\n",
       "      <td>42</td>\n",
       "    </tr>\n",
       "    <tr>\n",
       "      <th>365</th>\n",
       "      <td>365Coin</td>\n",
       "      <td>X11</td>\n",
       "      <td>True</td>\n",
       "      <td>PoW/PoS</td>\n",
       "      <td>NaN</td>\n",
       "      <td>2300000000</td>\n",
       "    </tr>\n",
       "    <tr>\n",
       "      <th>404</th>\n",
       "      <td>404Coin</td>\n",
       "      <td>Scrypt</td>\n",
       "      <td>True</td>\n",
       "      <td>PoW/PoS</td>\n",
       "      <td>1.055185e+09</td>\n",
       "      <td>532000000</td>\n",
       "    </tr>\n",
       "    <tr>\n",
       "      <th>611</th>\n",
       "      <td>SixEleven</td>\n",
       "      <td>SHA-256</td>\n",
       "      <td>True</td>\n",
       "      <td>PoW</td>\n",
       "      <td>NaN</td>\n",
       "      <td>611000</td>\n",
       "    </tr>\n",
       "    <tr>\n",
       "      <th>808</th>\n",
       "      <td>808</td>\n",
       "      <td>SHA-256</td>\n",
       "      <td>True</td>\n",
       "      <td>PoW/PoS</td>\n",
       "      <td>0.000000e+00</td>\n",
       "      <td>0</td>\n",
       "    </tr>\n",
       "    <tr>\n",
       "      <th>...</th>\n",
       "      <td>...</td>\n",
       "      <td>...</td>\n",
       "      <td>...</td>\n",
       "      <td>...</td>\n",
       "      <td>...</td>\n",
       "      <td>...</td>\n",
       "    </tr>\n",
       "    <tr>\n",
       "      <th>XBC</th>\n",
       "      <td>BitcoinPlus</td>\n",
       "      <td>Scrypt</td>\n",
       "      <td>True</td>\n",
       "      <td>PoS</td>\n",
       "      <td>1.283270e+05</td>\n",
       "      <td>1000000</td>\n",
       "    </tr>\n",
       "    <tr>\n",
       "      <th>DVTC</th>\n",
       "      <td>DivotyCoin</td>\n",
       "      <td>Scrypt</td>\n",
       "      <td>False</td>\n",
       "      <td>PoW/PoS</td>\n",
       "      <td>2.149121e+07</td>\n",
       "      <td>100000000</td>\n",
       "    </tr>\n",
       "    <tr>\n",
       "      <th>GIOT</th>\n",
       "      <td>Giotto Coin</td>\n",
       "      <td>Scrypt</td>\n",
       "      <td>False</td>\n",
       "      <td>PoW/PoS</td>\n",
       "      <td>NaN</td>\n",
       "      <td>233100000</td>\n",
       "    </tr>\n",
       "    <tr>\n",
       "      <th>OPSC</th>\n",
       "      <td>OpenSourceCoin</td>\n",
       "      <td>SHA-256</td>\n",
       "      <td>False</td>\n",
       "      <td>PoW/PoS</td>\n",
       "      <td>NaN</td>\n",
       "      <td>21000000</td>\n",
       "    </tr>\n",
       "    <tr>\n",
       "      <th>PUNK</th>\n",
       "      <td>SteamPunk</td>\n",
       "      <td>PoS</td>\n",
       "      <td>False</td>\n",
       "      <td>PoS</td>\n",
       "      <td>NaN</td>\n",
       "      <td>40000000</td>\n",
       "    </tr>\n",
       "  </tbody>\n",
       "</table>\n",
       "<p>1252 rows × 6 columns</p>\n",
       "</div>"
      ],
      "text/plain": [
       "            CoinName Algorithm  IsTrading ProofType  TotalCoinsMined  \\\n",
       "42           42 Coin    Scrypt       True   PoW/PoS     4.199995e+01   \n",
       "365          365Coin       X11       True   PoW/PoS              NaN   \n",
       "404          404Coin    Scrypt       True   PoW/PoS     1.055185e+09   \n",
       "611        SixEleven   SHA-256       True       PoW              NaN   \n",
       "808              808   SHA-256       True   PoW/PoS     0.000000e+00   \n",
       "...              ...       ...        ...       ...              ...   \n",
       "XBC      BitcoinPlus    Scrypt       True       PoS     1.283270e+05   \n",
       "DVTC      DivotyCoin    Scrypt      False   PoW/PoS     2.149121e+07   \n",
       "GIOT     Giotto Coin    Scrypt      False   PoW/PoS              NaN   \n",
       "OPSC  OpenSourceCoin   SHA-256      False   PoW/PoS              NaN   \n",
       "PUNK       SteamPunk       PoS      False       PoS              NaN   \n",
       "\n",
       "     TotalCoinSupply  \n",
       "42                42  \n",
       "365       2300000000  \n",
       "404        532000000  \n",
       "611           611000  \n",
       "808                0  \n",
       "...              ...  \n",
       "XBC          1000000  \n",
       "DVTC       100000000  \n",
       "GIOT       233100000  \n",
       "OPSC        21000000  \n",
       "PUNK        40000000  \n",
       "\n",
       "[1252 rows x 6 columns]"
      ]
     },
     "execution_count": 85,
     "metadata": {},
     "output_type": "execute_result"
    }
   ],
   "source": [
    "# Set the path\n",
    "file_path = Path(\"Resources/crypto_data.csv\")\n",
    "\n",
    "# Create a DataFrame\n",
    "crypto_df = pd.read_csv(file_path, index_col=0)\n",
    "crypto_df"
   ]
  },
  {
   "cell_type": "markdown",
   "metadata": {},
   "source": [
    "### Data Preprocessing"
   ]
  },
  {
   "cell_type": "code",
   "execution_count": 86,
   "metadata": {},
   "outputs": [],
   "source": [
    "# Keep only cryptocurrencies that are trading\n",
    "crypto_df = crypto_df[crypto_df.IsTrading==True]"
   ]
  },
  {
   "cell_type": "code",
   "execution_count": 87,
   "metadata": {},
   "outputs": [
    {
     "data": {
      "text/html": [
       "<div>\n",
       "<style scoped>\n",
       "    .dataframe tbody tr th:only-of-type {\n",
       "        vertical-align: middle;\n",
       "    }\n",
       "\n",
       "    .dataframe tbody tr th {\n",
       "        vertical-align: top;\n",
       "    }\n",
       "\n",
       "    .dataframe thead th {\n",
       "        text-align: right;\n",
       "    }\n",
       "</style>\n",
       "<table border=\"1\" class=\"dataframe\">\n",
       "  <thead>\n",
       "    <tr style=\"text-align: right;\">\n",
       "      <th></th>\n",
       "      <th>CoinName</th>\n",
       "      <th>Algorithm</th>\n",
       "      <th>IsTrading</th>\n",
       "      <th>ProofType</th>\n",
       "      <th>TotalCoinsMined</th>\n",
       "      <th>TotalCoinSupply</th>\n",
       "    </tr>\n",
       "  </thead>\n",
       "  <tbody>\n",
       "    <tr>\n",
       "      <th>42</th>\n",
       "      <td>42 Coin</td>\n",
       "      <td>Scrypt</td>\n",
       "      <td>True</td>\n",
       "      <td>PoW/PoS</td>\n",
       "      <td>4.199995e+01</td>\n",
       "      <td>42</td>\n",
       "    </tr>\n",
       "    <tr>\n",
       "      <th>365</th>\n",
       "      <td>365Coin</td>\n",
       "      <td>X11</td>\n",
       "      <td>True</td>\n",
       "      <td>PoW/PoS</td>\n",
       "      <td>NaN</td>\n",
       "      <td>2300000000</td>\n",
       "    </tr>\n",
       "    <tr>\n",
       "      <th>404</th>\n",
       "      <td>404Coin</td>\n",
       "      <td>Scrypt</td>\n",
       "      <td>True</td>\n",
       "      <td>PoW/PoS</td>\n",
       "      <td>1.055185e+09</td>\n",
       "      <td>532000000</td>\n",
       "    </tr>\n",
       "    <tr>\n",
       "      <th>611</th>\n",
       "      <td>SixEleven</td>\n",
       "      <td>SHA-256</td>\n",
       "      <td>True</td>\n",
       "      <td>PoW</td>\n",
       "      <td>NaN</td>\n",
       "      <td>611000</td>\n",
       "    </tr>\n",
       "    <tr>\n",
       "      <th>808</th>\n",
       "      <td>808</td>\n",
       "      <td>SHA-256</td>\n",
       "      <td>True</td>\n",
       "      <td>PoW/PoS</td>\n",
       "      <td>0.000000e+00</td>\n",
       "      <td>0</td>\n",
       "    </tr>\n",
       "    <tr>\n",
       "      <th>...</th>\n",
       "      <td>...</td>\n",
       "      <td>...</td>\n",
       "      <td>...</td>\n",
       "      <td>...</td>\n",
       "      <td>...</td>\n",
       "      <td>...</td>\n",
       "    </tr>\n",
       "    <tr>\n",
       "      <th>SERO</th>\n",
       "      <td>Super Zero</td>\n",
       "      <td>Ethash</td>\n",
       "      <td>True</td>\n",
       "      <td>PoW</td>\n",
       "      <td>NaN</td>\n",
       "      <td>1000000000</td>\n",
       "    </tr>\n",
       "    <tr>\n",
       "      <th>UOS</th>\n",
       "      <td>UOS</td>\n",
       "      <td>SHA-256</td>\n",
       "      <td>True</td>\n",
       "      <td>DPoI</td>\n",
       "      <td>NaN</td>\n",
       "      <td>1000000000</td>\n",
       "    </tr>\n",
       "    <tr>\n",
       "      <th>BDX</th>\n",
       "      <td>Beldex</td>\n",
       "      <td>CryptoNight</td>\n",
       "      <td>True</td>\n",
       "      <td>PoW</td>\n",
       "      <td>9.802226e+08</td>\n",
       "      <td>1400222610</td>\n",
       "    </tr>\n",
       "    <tr>\n",
       "      <th>ZEN</th>\n",
       "      <td>Horizen</td>\n",
       "      <td>Equihash</td>\n",
       "      <td>True</td>\n",
       "      <td>PoW</td>\n",
       "      <td>7.296538e+06</td>\n",
       "      <td>21000000</td>\n",
       "    </tr>\n",
       "    <tr>\n",
       "      <th>XBC</th>\n",
       "      <td>BitcoinPlus</td>\n",
       "      <td>Scrypt</td>\n",
       "      <td>True</td>\n",
       "      <td>PoS</td>\n",
       "      <td>1.283270e+05</td>\n",
       "      <td>1000000</td>\n",
       "    </tr>\n",
       "  </tbody>\n",
       "</table>\n",
       "<p>1144 rows × 6 columns</p>\n",
       "</div>"
      ],
      "text/plain": [
       "         CoinName    Algorithm  IsTrading ProofType  TotalCoinsMined  \\\n",
       "42        42 Coin       Scrypt       True   PoW/PoS     4.199995e+01   \n",
       "365       365Coin          X11       True   PoW/PoS              NaN   \n",
       "404       404Coin       Scrypt       True   PoW/PoS     1.055185e+09   \n",
       "611     SixEleven      SHA-256       True       PoW              NaN   \n",
       "808           808      SHA-256       True   PoW/PoS     0.000000e+00   \n",
       "...           ...          ...        ...       ...              ...   \n",
       "SERO   Super Zero       Ethash       True       PoW              NaN   \n",
       "UOS           UOS      SHA-256       True      DPoI              NaN   \n",
       "BDX        Beldex  CryptoNight       True       PoW     9.802226e+08   \n",
       "ZEN       Horizen     Equihash       True       PoW     7.296538e+06   \n",
       "XBC   BitcoinPlus       Scrypt       True       PoS     1.283270e+05   \n",
       "\n",
       "     TotalCoinSupply  \n",
       "42                42  \n",
       "365       2300000000  \n",
       "404        532000000  \n",
       "611           611000  \n",
       "808                0  \n",
       "...              ...  \n",
       "SERO      1000000000  \n",
       "UOS       1000000000  \n",
       "BDX       1400222610  \n",
       "ZEN         21000000  \n",
       "XBC          1000000  \n",
       "\n",
       "[1144 rows x 6 columns]"
      ]
     },
     "execution_count": 87,
     "metadata": {},
     "output_type": "execute_result"
    }
   ],
   "source": [
    "crypto_df"
   ]
  },
  {
   "cell_type": "code",
   "execution_count": 88,
   "metadata": {},
   "outputs": [],
   "source": [
    "# Keep only cryptocurrencies with a working algorithm\n",
    "crypto_df = crypto_df[crypto_df.Algorithm.notna()]"
   ]
  },
  {
   "cell_type": "code",
   "execution_count": 89,
   "metadata": {},
   "outputs": [
    {
     "data": {
      "text/html": [
       "<div>\n",
       "<style scoped>\n",
       "    .dataframe tbody tr th:only-of-type {\n",
       "        vertical-align: middle;\n",
       "    }\n",
       "\n",
       "    .dataframe tbody tr th {\n",
       "        vertical-align: top;\n",
       "    }\n",
       "\n",
       "    .dataframe thead th {\n",
       "        text-align: right;\n",
       "    }\n",
       "</style>\n",
       "<table border=\"1\" class=\"dataframe\">\n",
       "  <thead>\n",
       "    <tr style=\"text-align: right;\">\n",
       "      <th></th>\n",
       "      <th>CoinName</th>\n",
       "      <th>Algorithm</th>\n",
       "      <th>IsTrading</th>\n",
       "      <th>ProofType</th>\n",
       "      <th>TotalCoinsMined</th>\n",
       "      <th>TotalCoinSupply</th>\n",
       "    </tr>\n",
       "  </thead>\n",
       "  <tbody>\n",
       "    <tr>\n",
       "      <th>42</th>\n",
       "      <td>42 Coin</td>\n",
       "      <td>Scrypt</td>\n",
       "      <td>True</td>\n",
       "      <td>PoW/PoS</td>\n",
       "      <td>4.199995e+01</td>\n",
       "      <td>42</td>\n",
       "    </tr>\n",
       "    <tr>\n",
       "      <th>365</th>\n",
       "      <td>365Coin</td>\n",
       "      <td>X11</td>\n",
       "      <td>True</td>\n",
       "      <td>PoW/PoS</td>\n",
       "      <td>NaN</td>\n",
       "      <td>2300000000</td>\n",
       "    </tr>\n",
       "    <tr>\n",
       "      <th>404</th>\n",
       "      <td>404Coin</td>\n",
       "      <td>Scrypt</td>\n",
       "      <td>True</td>\n",
       "      <td>PoW/PoS</td>\n",
       "      <td>1.055185e+09</td>\n",
       "      <td>532000000</td>\n",
       "    </tr>\n",
       "    <tr>\n",
       "      <th>611</th>\n",
       "      <td>SixEleven</td>\n",
       "      <td>SHA-256</td>\n",
       "      <td>True</td>\n",
       "      <td>PoW</td>\n",
       "      <td>NaN</td>\n",
       "      <td>611000</td>\n",
       "    </tr>\n",
       "    <tr>\n",
       "      <th>808</th>\n",
       "      <td>808</td>\n",
       "      <td>SHA-256</td>\n",
       "      <td>True</td>\n",
       "      <td>PoW/PoS</td>\n",
       "      <td>0.000000e+00</td>\n",
       "      <td>0</td>\n",
       "    </tr>\n",
       "    <tr>\n",
       "      <th>...</th>\n",
       "      <td>...</td>\n",
       "      <td>...</td>\n",
       "      <td>...</td>\n",
       "      <td>...</td>\n",
       "      <td>...</td>\n",
       "      <td>...</td>\n",
       "    </tr>\n",
       "    <tr>\n",
       "      <th>SERO</th>\n",
       "      <td>Super Zero</td>\n",
       "      <td>Ethash</td>\n",
       "      <td>True</td>\n",
       "      <td>PoW</td>\n",
       "      <td>NaN</td>\n",
       "      <td>1000000000</td>\n",
       "    </tr>\n",
       "    <tr>\n",
       "      <th>UOS</th>\n",
       "      <td>UOS</td>\n",
       "      <td>SHA-256</td>\n",
       "      <td>True</td>\n",
       "      <td>DPoI</td>\n",
       "      <td>NaN</td>\n",
       "      <td>1000000000</td>\n",
       "    </tr>\n",
       "    <tr>\n",
       "      <th>BDX</th>\n",
       "      <td>Beldex</td>\n",
       "      <td>CryptoNight</td>\n",
       "      <td>True</td>\n",
       "      <td>PoW</td>\n",
       "      <td>9.802226e+08</td>\n",
       "      <td>1400222610</td>\n",
       "    </tr>\n",
       "    <tr>\n",
       "      <th>ZEN</th>\n",
       "      <td>Horizen</td>\n",
       "      <td>Equihash</td>\n",
       "      <td>True</td>\n",
       "      <td>PoW</td>\n",
       "      <td>7.296538e+06</td>\n",
       "      <td>21000000</td>\n",
       "    </tr>\n",
       "    <tr>\n",
       "      <th>XBC</th>\n",
       "      <td>BitcoinPlus</td>\n",
       "      <td>Scrypt</td>\n",
       "      <td>True</td>\n",
       "      <td>PoS</td>\n",
       "      <td>1.283270e+05</td>\n",
       "      <td>1000000</td>\n",
       "    </tr>\n",
       "  </tbody>\n",
       "</table>\n",
       "<p>1144 rows × 6 columns</p>\n",
       "</div>"
      ],
      "text/plain": [
       "         CoinName    Algorithm  IsTrading ProofType  TotalCoinsMined  \\\n",
       "42        42 Coin       Scrypt       True   PoW/PoS     4.199995e+01   \n",
       "365       365Coin          X11       True   PoW/PoS              NaN   \n",
       "404       404Coin       Scrypt       True   PoW/PoS     1.055185e+09   \n",
       "611     SixEleven      SHA-256       True       PoW              NaN   \n",
       "808           808      SHA-256       True   PoW/PoS     0.000000e+00   \n",
       "...           ...          ...        ...       ...              ...   \n",
       "SERO   Super Zero       Ethash       True       PoW              NaN   \n",
       "UOS           UOS      SHA-256       True      DPoI              NaN   \n",
       "BDX        Beldex  CryptoNight       True       PoW     9.802226e+08   \n",
       "ZEN       Horizen     Equihash       True       PoW     7.296538e+06   \n",
       "XBC   BitcoinPlus       Scrypt       True       PoS     1.283270e+05   \n",
       "\n",
       "     TotalCoinSupply  \n",
       "42                42  \n",
       "365       2300000000  \n",
       "404        532000000  \n",
       "611           611000  \n",
       "808                0  \n",
       "...              ...  \n",
       "SERO      1000000000  \n",
       "UOS       1000000000  \n",
       "BDX       1400222610  \n",
       "ZEN         21000000  \n",
       "XBC          1000000  \n",
       "\n",
       "[1144 rows x 6 columns]"
      ]
     },
     "execution_count": 89,
     "metadata": {},
     "output_type": "execute_result"
    }
   ],
   "source": [
    "crypto_df"
   ]
  },
  {
   "cell_type": "code",
   "execution_count": 90,
   "metadata": {},
   "outputs": [
    {
     "data": {
      "text/html": [
       "<div>\n",
       "<style scoped>\n",
       "    .dataframe tbody tr th:only-of-type {\n",
       "        vertical-align: middle;\n",
       "    }\n",
       "\n",
       "    .dataframe tbody tr th {\n",
       "        vertical-align: top;\n",
       "    }\n",
       "\n",
       "    .dataframe thead th {\n",
       "        text-align: right;\n",
       "    }\n",
       "</style>\n",
       "<table border=\"1\" class=\"dataframe\">\n",
       "  <thead>\n",
       "    <tr style=\"text-align: right;\">\n",
       "      <th></th>\n",
       "      <th>CoinName</th>\n",
       "      <th>Algorithm</th>\n",
       "      <th>ProofType</th>\n",
       "      <th>TotalCoinsMined</th>\n",
       "      <th>TotalCoinSupply</th>\n",
       "    </tr>\n",
       "  </thead>\n",
       "  <tbody>\n",
       "    <tr>\n",
       "      <th>42</th>\n",
       "      <td>42 Coin</td>\n",
       "      <td>Scrypt</td>\n",
       "      <td>PoW/PoS</td>\n",
       "      <td>4.199995e+01</td>\n",
       "      <td>42</td>\n",
       "    </tr>\n",
       "    <tr>\n",
       "      <th>365</th>\n",
       "      <td>365Coin</td>\n",
       "      <td>X11</td>\n",
       "      <td>PoW/PoS</td>\n",
       "      <td>NaN</td>\n",
       "      <td>2300000000</td>\n",
       "    </tr>\n",
       "    <tr>\n",
       "      <th>404</th>\n",
       "      <td>404Coin</td>\n",
       "      <td>Scrypt</td>\n",
       "      <td>PoW/PoS</td>\n",
       "      <td>1.055185e+09</td>\n",
       "      <td>532000000</td>\n",
       "    </tr>\n",
       "    <tr>\n",
       "      <th>611</th>\n",
       "      <td>SixEleven</td>\n",
       "      <td>SHA-256</td>\n",
       "      <td>PoW</td>\n",
       "      <td>NaN</td>\n",
       "      <td>611000</td>\n",
       "    </tr>\n",
       "    <tr>\n",
       "      <th>808</th>\n",
       "      <td>808</td>\n",
       "      <td>SHA-256</td>\n",
       "      <td>PoW/PoS</td>\n",
       "      <td>0.000000e+00</td>\n",
       "      <td>0</td>\n",
       "    </tr>\n",
       "  </tbody>\n",
       "</table>\n",
       "</div>"
      ],
      "text/plain": [
       "      CoinName Algorithm ProofType  TotalCoinsMined TotalCoinSupply\n",
       "42     42 Coin    Scrypt   PoW/PoS     4.199995e+01              42\n",
       "365    365Coin       X11   PoW/PoS              NaN      2300000000\n",
       "404    404Coin    Scrypt   PoW/PoS     1.055185e+09       532000000\n",
       "611  SixEleven   SHA-256       PoW              NaN          611000\n",
       "808        808   SHA-256   PoW/PoS     0.000000e+00               0"
      ]
     },
     "execution_count": 90,
     "metadata": {},
     "output_type": "execute_result"
    }
   ],
   "source": [
    "# Remove the \"IsTrading\" column\n",
    "crypto_df = crypto_df.drop(columns=\"IsTrading\")\n",
    "crypto_df.head()"
   ]
  },
  {
   "cell_type": "code",
   "execution_count": 91,
   "metadata": {},
   "outputs": [
    {
     "data": {
      "text/html": [
       "<div>\n",
       "<style scoped>\n",
       "    .dataframe tbody tr th:only-of-type {\n",
       "        vertical-align: middle;\n",
       "    }\n",
       "\n",
       "    .dataframe tbody tr th {\n",
       "        vertical-align: top;\n",
       "    }\n",
       "\n",
       "    .dataframe thead th {\n",
       "        text-align: right;\n",
       "    }\n",
       "</style>\n",
       "<table border=\"1\" class=\"dataframe\">\n",
       "  <thead>\n",
       "    <tr style=\"text-align: right;\">\n",
       "      <th></th>\n",
       "      <th>CoinName</th>\n",
       "      <th>Algorithm</th>\n",
       "      <th>ProofType</th>\n",
       "      <th>TotalCoinsMined</th>\n",
       "      <th>TotalCoinSupply</th>\n",
       "    </tr>\n",
       "  </thead>\n",
       "  <tbody>\n",
       "    <tr>\n",
       "      <th>42</th>\n",
       "      <td>42 Coin</td>\n",
       "      <td>Scrypt</td>\n",
       "      <td>PoW/PoS</td>\n",
       "      <td>4.199995e+01</td>\n",
       "      <td>42</td>\n",
       "    </tr>\n",
       "    <tr>\n",
       "      <th>404</th>\n",
       "      <td>404Coin</td>\n",
       "      <td>Scrypt</td>\n",
       "      <td>PoW/PoS</td>\n",
       "      <td>1.055185e+09</td>\n",
       "      <td>532000000</td>\n",
       "    </tr>\n",
       "    <tr>\n",
       "      <th>808</th>\n",
       "      <td>808</td>\n",
       "      <td>SHA-256</td>\n",
       "      <td>PoW/PoS</td>\n",
       "      <td>0.000000e+00</td>\n",
       "      <td>0</td>\n",
       "    </tr>\n",
       "    <tr>\n",
       "      <th>1337</th>\n",
       "      <td>EliteCoin</td>\n",
       "      <td>X13</td>\n",
       "      <td>PoW/PoS</td>\n",
       "      <td>2.927942e+10</td>\n",
       "      <td>314159265359</td>\n",
       "    </tr>\n",
       "    <tr>\n",
       "      <th>BTC</th>\n",
       "      <td>Bitcoin</td>\n",
       "      <td>SHA-256</td>\n",
       "      <td>PoW</td>\n",
       "      <td>1.792718e+07</td>\n",
       "      <td>21000000</td>\n",
       "    </tr>\n",
       "    <tr>\n",
       "      <th>...</th>\n",
       "      <td>...</td>\n",
       "      <td>...</td>\n",
       "      <td>...</td>\n",
       "      <td>...</td>\n",
       "      <td>...</td>\n",
       "    </tr>\n",
       "    <tr>\n",
       "      <th>ZEPH</th>\n",
       "      <td>ZEPHYR</td>\n",
       "      <td>SHA-256</td>\n",
       "      <td>DPoS</td>\n",
       "      <td>2.000000e+09</td>\n",
       "      <td>2000000000</td>\n",
       "    </tr>\n",
       "    <tr>\n",
       "      <th>GAP</th>\n",
       "      <td>Gapcoin</td>\n",
       "      <td>Scrypt</td>\n",
       "      <td>PoW/PoS</td>\n",
       "      <td>1.493105e+07</td>\n",
       "      <td>250000000</td>\n",
       "    </tr>\n",
       "    <tr>\n",
       "      <th>BDX</th>\n",
       "      <td>Beldex</td>\n",
       "      <td>CryptoNight</td>\n",
       "      <td>PoW</td>\n",
       "      <td>9.802226e+08</td>\n",
       "      <td>1400222610</td>\n",
       "    </tr>\n",
       "    <tr>\n",
       "      <th>ZEN</th>\n",
       "      <td>Horizen</td>\n",
       "      <td>Equihash</td>\n",
       "      <td>PoW</td>\n",
       "      <td>7.296538e+06</td>\n",
       "      <td>21000000</td>\n",
       "    </tr>\n",
       "    <tr>\n",
       "      <th>XBC</th>\n",
       "      <td>BitcoinPlus</td>\n",
       "      <td>Scrypt</td>\n",
       "      <td>PoS</td>\n",
       "      <td>1.283270e+05</td>\n",
       "      <td>1000000</td>\n",
       "    </tr>\n",
       "  </tbody>\n",
       "</table>\n",
       "<p>685 rows × 5 columns</p>\n",
       "</div>"
      ],
      "text/plain": [
       "         CoinName    Algorithm ProofType  TotalCoinsMined TotalCoinSupply\n",
       "42        42 Coin       Scrypt   PoW/PoS     4.199995e+01              42\n",
       "404       404Coin       Scrypt   PoW/PoS     1.055185e+09       532000000\n",
       "808           808      SHA-256   PoW/PoS     0.000000e+00               0\n",
       "1337    EliteCoin          X13   PoW/PoS     2.927942e+10    314159265359\n",
       "BTC       Bitcoin      SHA-256       PoW     1.792718e+07        21000000\n",
       "...           ...          ...       ...              ...             ...\n",
       "ZEPH       ZEPHYR      SHA-256      DPoS     2.000000e+09      2000000000\n",
       "GAP       Gapcoin       Scrypt   PoW/PoS     1.493105e+07       250000000\n",
       "BDX        Beldex  CryptoNight       PoW     9.802226e+08      1400222610\n",
       "ZEN       Horizen     Equihash       PoW     7.296538e+06        21000000\n",
       "XBC   BitcoinPlus       Scrypt       PoS     1.283270e+05         1000000\n",
       "\n",
       "[685 rows x 5 columns]"
      ]
     },
     "execution_count": 91,
     "metadata": {},
     "output_type": "execute_result"
    }
   ],
   "source": [
    "# Remove rows with at least 1 null value\n",
    "crypto_df.dropna(inplace=True)\n",
    "crypto_df"
   ]
  },
  {
   "cell_type": "code",
   "execution_count": 92,
   "metadata": {},
   "outputs": [
    {
     "data": {
      "text/html": [
       "<div>\n",
       "<style scoped>\n",
       "    .dataframe tbody tr th:only-of-type {\n",
       "        vertical-align: middle;\n",
       "    }\n",
       "\n",
       "    .dataframe tbody tr th {\n",
       "        vertical-align: top;\n",
       "    }\n",
       "\n",
       "    .dataframe thead th {\n",
       "        text-align: right;\n",
       "    }\n",
       "</style>\n",
       "<table border=\"1\" class=\"dataframe\">\n",
       "  <thead>\n",
       "    <tr style=\"text-align: right;\">\n",
       "      <th></th>\n",
       "      <th>CoinName</th>\n",
       "      <th>Algorithm</th>\n",
       "      <th>ProofType</th>\n",
       "      <th>TotalCoinsMined</th>\n",
       "      <th>TotalCoinSupply</th>\n",
       "    </tr>\n",
       "  </thead>\n",
       "  <tbody>\n",
       "    <tr>\n",
       "      <th>42</th>\n",
       "      <td>42 Coin</td>\n",
       "      <td>Scrypt</td>\n",
       "      <td>PoW/PoS</td>\n",
       "      <td>4.199995e+01</td>\n",
       "      <td>42</td>\n",
       "    </tr>\n",
       "    <tr>\n",
       "      <th>404</th>\n",
       "      <td>404Coin</td>\n",
       "      <td>Scrypt</td>\n",
       "      <td>PoW/PoS</td>\n",
       "      <td>1.055185e+09</td>\n",
       "      <td>532000000</td>\n",
       "    </tr>\n",
       "    <tr>\n",
       "      <th>1337</th>\n",
       "      <td>EliteCoin</td>\n",
       "      <td>X13</td>\n",
       "      <td>PoW/PoS</td>\n",
       "      <td>2.927942e+10</td>\n",
       "      <td>314159265359</td>\n",
       "    </tr>\n",
       "    <tr>\n",
       "      <th>BTC</th>\n",
       "      <td>Bitcoin</td>\n",
       "      <td>SHA-256</td>\n",
       "      <td>PoW</td>\n",
       "      <td>1.792718e+07</td>\n",
       "      <td>21000000</td>\n",
       "    </tr>\n",
       "    <tr>\n",
       "      <th>ETH</th>\n",
       "      <td>Ethereum</td>\n",
       "      <td>Ethash</td>\n",
       "      <td>PoW</td>\n",
       "      <td>1.076842e+08</td>\n",
       "      <td>0</td>\n",
       "    </tr>\n",
       "    <tr>\n",
       "      <th>...</th>\n",
       "      <td>...</td>\n",
       "      <td>...</td>\n",
       "      <td>...</td>\n",
       "      <td>...</td>\n",
       "      <td>...</td>\n",
       "    </tr>\n",
       "    <tr>\n",
       "      <th>ZEPH</th>\n",
       "      <td>ZEPHYR</td>\n",
       "      <td>SHA-256</td>\n",
       "      <td>DPoS</td>\n",
       "      <td>2.000000e+09</td>\n",
       "      <td>2000000000</td>\n",
       "    </tr>\n",
       "    <tr>\n",
       "      <th>GAP</th>\n",
       "      <td>Gapcoin</td>\n",
       "      <td>Scrypt</td>\n",
       "      <td>PoW/PoS</td>\n",
       "      <td>1.493105e+07</td>\n",
       "      <td>250000000</td>\n",
       "    </tr>\n",
       "    <tr>\n",
       "      <th>BDX</th>\n",
       "      <td>Beldex</td>\n",
       "      <td>CryptoNight</td>\n",
       "      <td>PoW</td>\n",
       "      <td>9.802226e+08</td>\n",
       "      <td>1400222610</td>\n",
       "    </tr>\n",
       "    <tr>\n",
       "      <th>ZEN</th>\n",
       "      <td>Horizen</td>\n",
       "      <td>Equihash</td>\n",
       "      <td>PoW</td>\n",
       "      <td>7.296538e+06</td>\n",
       "      <td>21000000</td>\n",
       "    </tr>\n",
       "    <tr>\n",
       "      <th>XBC</th>\n",
       "      <td>BitcoinPlus</td>\n",
       "      <td>Scrypt</td>\n",
       "      <td>PoS</td>\n",
       "      <td>1.283270e+05</td>\n",
       "      <td>1000000</td>\n",
       "    </tr>\n",
       "  </tbody>\n",
       "</table>\n",
       "<p>532 rows × 5 columns</p>\n",
       "</div>"
      ],
      "text/plain": [
       "         CoinName    Algorithm ProofType  TotalCoinsMined TotalCoinSupply\n",
       "42        42 Coin       Scrypt   PoW/PoS     4.199995e+01              42\n",
       "404       404Coin       Scrypt   PoW/PoS     1.055185e+09       532000000\n",
       "1337    EliteCoin          X13   PoW/PoS     2.927942e+10    314159265359\n",
       "BTC       Bitcoin      SHA-256       PoW     1.792718e+07        21000000\n",
       "ETH      Ethereum       Ethash       PoW     1.076842e+08               0\n",
       "...           ...          ...       ...              ...             ...\n",
       "ZEPH       ZEPHYR      SHA-256      DPoS     2.000000e+09      2000000000\n",
       "GAP       Gapcoin       Scrypt   PoW/PoS     1.493105e+07       250000000\n",
       "BDX        Beldex  CryptoNight       PoW     9.802226e+08      1400222610\n",
       "ZEN       Horizen     Equihash       PoW     7.296538e+06        21000000\n",
       "XBC   BitcoinPlus       Scrypt       PoS     1.283270e+05         1000000\n",
       "\n",
       "[532 rows x 5 columns]"
      ]
     },
     "execution_count": 92,
     "metadata": {},
     "output_type": "execute_result"
    }
   ],
   "source": [
    "# Remove rows with cryptocurrencies having no coins mined\n",
    "crypto_df = crypto_df[crypto_df.TotalCoinsMined>0]\n",
    "crypto_df"
   ]
  },
  {
   "cell_type": "code",
   "execution_count": 93,
   "metadata": {},
   "outputs": [],
   "source": [
    "# Drop rows where there are 'N/A' text values\n",
    "#crypto_df = crypto_df[(crypto_df['CoinName']!= \"N/A\") & (crypto_df['Algorithm']!=\"N/A\") & (crypto_df['ProofType']!=\"N/A\")]\n",
    "crypto_df = crypto_df[crypto_df != 'N/A']"
   ]
  },
  {
   "cell_type": "code",
   "execution_count": 94,
   "metadata": {},
   "outputs": [
    {
     "data": {
      "text/html": [
       "<div>\n",
       "<style scoped>\n",
       "    .dataframe tbody tr th:only-of-type {\n",
       "        vertical-align: middle;\n",
       "    }\n",
       "\n",
       "    .dataframe tbody tr th {\n",
       "        vertical-align: top;\n",
       "    }\n",
       "\n",
       "    .dataframe thead th {\n",
       "        text-align: right;\n",
       "    }\n",
       "</style>\n",
       "<table border=\"1\" class=\"dataframe\">\n",
       "  <thead>\n",
       "    <tr style=\"text-align: right;\">\n",
       "      <th></th>\n",
       "      <th>CoinName</th>\n",
       "      <th>Algorithm</th>\n",
       "      <th>ProofType</th>\n",
       "      <th>TotalCoinsMined</th>\n",
       "      <th>TotalCoinSupply</th>\n",
       "    </tr>\n",
       "  </thead>\n",
       "  <tbody>\n",
       "    <tr>\n",
       "      <th>42</th>\n",
       "      <td>42 Coin</td>\n",
       "      <td>Scrypt</td>\n",
       "      <td>PoW/PoS</td>\n",
       "      <td>4.199995e+01</td>\n",
       "      <td>42</td>\n",
       "    </tr>\n",
       "    <tr>\n",
       "      <th>404</th>\n",
       "      <td>404Coin</td>\n",
       "      <td>Scrypt</td>\n",
       "      <td>PoW/PoS</td>\n",
       "      <td>1.055185e+09</td>\n",
       "      <td>532000000</td>\n",
       "    </tr>\n",
       "    <tr>\n",
       "      <th>1337</th>\n",
       "      <td>EliteCoin</td>\n",
       "      <td>X13</td>\n",
       "      <td>PoW/PoS</td>\n",
       "      <td>2.927942e+10</td>\n",
       "      <td>314159265359</td>\n",
       "    </tr>\n",
       "    <tr>\n",
       "      <th>BTC</th>\n",
       "      <td>Bitcoin</td>\n",
       "      <td>SHA-256</td>\n",
       "      <td>PoW</td>\n",
       "      <td>1.792718e+07</td>\n",
       "      <td>21000000</td>\n",
       "    </tr>\n",
       "    <tr>\n",
       "      <th>ETH</th>\n",
       "      <td>Ethereum</td>\n",
       "      <td>Ethash</td>\n",
       "      <td>PoW</td>\n",
       "      <td>1.076842e+08</td>\n",
       "      <td>0</td>\n",
       "    </tr>\n",
       "    <tr>\n",
       "      <th>...</th>\n",
       "      <td>...</td>\n",
       "      <td>...</td>\n",
       "      <td>...</td>\n",
       "      <td>...</td>\n",
       "      <td>...</td>\n",
       "    </tr>\n",
       "    <tr>\n",
       "      <th>ZEPH</th>\n",
       "      <td>ZEPHYR</td>\n",
       "      <td>SHA-256</td>\n",
       "      <td>DPoS</td>\n",
       "      <td>2.000000e+09</td>\n",
       "      <td>2000000000</td>\n",
       "    </tr>\n",
       "    <tr>\n",
       "      <th>GAP</th>\n",
       "      <td>Gapcoin</td>\n",
       "      <td>Scrypt</td>\n",
       "      <td>PoW/PoS</td>\n",
       "      <td>1.493105e+07</td>\n",
       "      <td>250000000</td>\n",
       "    </tr>\n",
       "    <tr>\n",
       "      <th>BDX</th>\n",
       "      <td>Beldex</td>\n",
       "      <td>CryptoNight</td>\n",
       "      <td>PoW</td>\n",
       "      <td>9.802226e+08</td>\n",
       "      <td>1400222610</td>\n",
       "    </tr>\n",
       "    <tr>\n",
       "      <th>ZEN</th>\n",
       "      <td>Horizen</td>\n",
       "      <td>Equihash</td>\n",
       "      <td>PoW</td>\n",
       "      <td>7.296538e+06</td>\n",
       "      <td>21000000</td>\n",
       "    </tr>\n",
       "    <tr>\n",
       "      <th>XBC</th>\n",
       "      <td>BitcoinPlus</td>\n",
       "      <td>Scrypt</td>\n",
       "      <td>PoS</td>\n",
       "      <td>1.283270e+05</td>\n",
       "      <td>1000000</td>\n",
       "    </tr>\n",
       "  </tbody>\n",
       "</table>\n",
       "<p>532 rows × 5 columns</p>\n",
       "</div>"
      ],
      "text/plain": [
       "         CoinName    Algorithm ProofType  TotalCoinsMined TotalCoinSupply\n",
       "42        42 Coin       Scrypt   PoW/PoS     4.199995e+01              42\n",
       "404       404Coin       Scrypt   PoW/PoS     1.055185e+09       532000000\n",
       "1337    EliteCoin          X13   PoW/PoS     2.927942e+10    314159265359\n",
       "BTC       Bitcoin      SHA-256       PoW     1.792718e+07        21000000\n",
       "ETH      Ethereum       Ethash       PoW     1.076842e+08               0\n",
       "...           ...          ...       ...              ...             ...\n",
       "ZEPH       ZEPHYR      SHA-256      DPoS     2.000000e+09      2000000000\n",
       "GAP       Gapcoin       Scrypt   PoW/PoS     1.493105e+07       250000000\n",
       "BDX        Beldex  CryptoNight       PoW     9.802226e+08      1400222610\n",
       "ZEN       Horizen     Equihash       PoW     7.296538e+06        21000000\n",
       "XBC   BitcoinPlus       Scrypt       PoS     1.283270e+05         1000000\n",
       "\n",
       "[532 rows x 5 columns]"
      ]
     },
     "execution_count": 94,
     "metadata": {},
     "output_type": "execute_result"
    }
   ],
   "source": [
    "crypto_df"
   ]
  },
  {
   "cell_type": "code",
   "execution_count": 95,
   "metadata": {},
   "outputs": [
    {
     "data": {
      "text/html": [
       "<div>\n",
       "<style scoped>\n",
       "    .dataframe tbody tr th:only-of-type {\n",
       "        vertical-align: middle;\n",
       "    }\n",
       "\n",
       "    .dataframe tbody tr th {\n",
       "        vertical-align: top;\n",
       "    }\n",
       "\n",
       "    .dataframe thead th {\n",
       "        text-align: right;\n",
       "    }\n",
       "</style>\n",
       "<table border=\"1\" class=\"dataframe\">\n",
       "  <thead>\n",
       "    <tr style=\"text-align: right;\">\n",
       "      <th></th>\n",
       "      <th>CoinName</th>\n",
       "    </tr>\n",
       "  </thead>\n",
       "  <tbody>\n",
       "    <tr>\n",
       "      <th>42</th>\n",
       "      <td>42 Coin</td>\n",
       "    </tr>\n",
       "    <tr>\n",
       "      <th>404</th>\n",
       "      <td>404Coin</td>\n",
       "    </tr>\n",
       "    <tr>\n",
       "      <th>1337</th>\n",
       "      <td>EliteCoin</td>\n",
       "    </tr>\n",
       "    <tr>\n",
       "      <th>BTC</th>\n",
       "      <td>Bitcoin</td>\n",
       "    </tr>\n",
       "    <tr>\n",
       "      <th>ETH</th>\n",
       "      <td>Ethereum</td>\n",
       "    </tr>\n",
       "  </tbody>\n",
       "</table>\n",
       "</div>"
      ],
      "text/plain": [
       "       CoinName\n",
       "42      42 Coin\n",
       "404     404Coin\n",
       "1337  EliteCoin\n",
       "BTC     Bitcoin\n",
       "ETH    Ethereum"
      ]
     },
     "execution_count": 95,
     "metadata": {},
     "output_type": "execute_result"
    }
   ],
   "source": [
    "# Store the 'CoinName'column in its own DataFrame prior to dropping it from crypto_df\n",
    "coin_name_df = pd.DataFrame(crypto_df[\"CoinName\"])\n",
    "coin_name_df.head()"
   ]
  },
  {
   "cell_type": "code",
   "execution_count": 96,
   "metadata": {},
   "outputs": [
    {
     "data": {
      "text/html": [
       "<div>\n",
       "<style scoped>\n",
       "    .dataframe tbody tr th:only-of-type {\n",
       "        vertical-align: middle;\n",
       "    }\n",
       "\n",
       "    .dataframe tbody tr th {\n",
       "        vertical-align: top;\n",
       "    }\n",
       "\n",
       "    .dataframe thead th {\n",
       "        text-align: right;\n",
       "    }\n",
       "</style>\n",
       "<table border=\"1\" class=\"dataframe\">\n",
       "  <thead>\n",
       "    <tr style=\"text-align: right;\">\n",
       "      <th></th>\n",
       "      <th>Algorithm</th>\n",
       "      <th>ProofType</th>\n",
       "      <th>TotalCoinsMined</th>\n",
       "      <th>TotalCoinSupply</th>\n",
       "    </tr>\n",
       "  </thead>\n",
       "  <tbody>\n",
       "    <tr>\n",
       "      <th>42</th>\n",
       "      <td>Scrypt</td>\n",
       "      <td>PoW/PoS</td>\n",
       "      <td>4.199995e+01</td>\n",
       "      <td>42</td>\n",
       "    </tr>\n",
       "    <tr>\n",
       "      <th>404</th>\n",
       "      <td>Scrypt</td>\n",
       "      <td>PoW/PoS</td>\n",
       "      <td>1.055185e+09</td>\n",
       "      <td>532000000</td>\n",
       "    </tr>\n",
       "    <tr>\n",
       "      <th>1337</th>\n",
       "      <td>X13</td>\n",
       "      <td>PoW/PoS</td>\n",
       "      <td>2.927942e+10</td>\n",
       "      <td>314159265359</td>\n",
       "    </tr>\n",
       "    <tr>\n",
       "      <th>BTC</th>\n",
       "      <td>SHA-256</td>\n",
       "      <td>PoW</td>\n",
       "      <td>1.792718e+07</td>\n",
       "      <td>21000000</td>\n",
       "    </tr>\n",
       "    <tr>\n",
       "      <th>ETH</th>\n",
       "      <td>Ethash</td>\n",
       "      <td>PoW</td>\n",
       "      <td>1.076842e+08</td>\n",
       "      <td>0</td>\n",
       "    </tr>\n",
       "  </tbody>\n",
       "</table>\n",
       "</div>"
      ],
      "text/plain": [
       "     Algorithm ProofType  TotalCoinsMined TotalCoinSupply\n",
       "42      Scrypt   PoW/PoS     4.199995e+01              42\n",
       "404     Scrypt   PoW/PoS     1.055185e+09       532000000\n",
       "1337       X13   PoW/PoS     2.927942e+10    314159265359\n",
       "BTC    SHA-256       PoW     1.792718e+07        21000000\n",
       "ETH     Ethash       PoW     1.076842e+08               0"
      ]
     },
     "execution_count": 96,
     "metadata": {},
     "output_type": "execute_result"
    }
   ],
   "source": [
    "# Drop the 'CoinName' column since it's not going to be used on the clustering algorithm\n",
    "crypto_df = crypto_df.drop(columns=\"CoinName\")\n",
    "crypto_df.head()"
   ]
  },
  {
   "cell_type": "code",
   "execution_count": 97,
   "metadata": {},
   "outputs": [
    {
     "data": {
      "text/html": [
       "<div>\n",
       "<style scoped>\n",
       "    .dataframe tbody tr th:only-of-type {\n",
       "        vertical-align: middle;\n",
       "    }\n",
       "\n",
       "    .dataframe tbody tr th {\n",
       "        vertical-align: top;\n",
       "    }\n",
       "\n",
       "    .dataframe thead th {\n",
       "        text-align: right;\n",
       "    }\n",
       "</style>\n",
       "<table border=\"1\" class=\"dataframe\">\n",
       "  <thead>\n",
       "    <tr style=\"text-align: right;\">\n",
       "      <th></th>\n",
       "      <th>TotalCoinsMined</th>\n",
       "      <th>TotalCoinSupply</th>\n",
       "      <th>Algorithm_1GB AES Pattern Search</th>\n",
       "      <th>Algorithm_536</th>\n",
       "      <th>Algorithm_Argon2d</th>\n",
       "      <th>Algorithm_BLAKE256</th>\n",
       "      <th>Algorithm_Blake</th>\n",
       "      <th>Algorithm_Blake2S</th>\n",
       "      <th>Algorithm_Blake2b</th>\n",
       "      <th>Algorithm_C11</th>\n",
       "      <th>...</th>\n",
       "      <th>ProofType_PoW/PoS</th>\n",
       "      <th>ProofType_PoW/PoS</th>\n",
       "      <th>ProofType_PoW/PoW</th>\n",
       "      <th>ProofType_PoW/nPoS</th>\n",
       "      <th>ProofType_Pos</th>\n",
       "      <th>ProofType_Proof of Authority</th>\n",
       "      <th>ProofType_Proof of Trust</th>\n",
       "      <th>ProofType_TPoS</th>\n",
       "      <th>ProofType_Zero-Knowledge Proof</th>\n",
       "      <th>ProofType_dPoW/PoW</th>\n",
       "    </tr>\n",
       "  </thead>\n",
       "  <tbody>\n",
       "    <tr>\n",
       "      <th>42</th>\n",
       "      <td>4.199995e+01</td>\n",
       "      <td>42</td>\n",
       "      <td>0</td>\n",
       "      <td>0</td>\n",
       "      <td>0</td>\n",
       "      <td>0</td>\n",
       "      <td>0</td>\n",
       "      <td>0</td>\n",
       "      <td>0</td>\n",
       "      <td>0</td>\n",
       "      <td>...</td>\n",
       "      <td>1</td>\n",
       "      <td>0</td>\n",
       "      <td>0</td>\n",
       "      <td>0</td>\n",
       "      <td>0</td>\n",
       "      <td>0</td>\n",
       "      <td>0</td>\n",
       "      <td>0</td>\n",
       "      <td>0</td>\n",
       "      <td>0</td>\n",
       "    </tr>\n",
       "    <tr>\n",
       "      <th>404</th>\n",
       "      <td>1.055185e+09</td>\n",
       "      <td>532000000</td>\n",
       "      <td>0</td>\n",
       "      <td>0</td>\n",
       "      <td>0</td>\n",
       "      <td>0</td>\n",
       "      <td>0</td>\n",
       "      <td>0</td>\n",
       "      <td>0</td>\n",
       "      <td>0</td>\n",
       "      <td>...</td>\n",
       "      <td>1</td>\n",
       "      <td>0</td>\n",
       "      <td>0</td>\n",
       "      <td>0</td>\n",
       "      <td>0</td>\n",
       "      <td>0</td>\n",
       "      <td>0</td>\n",
       "      <td>0</td>\n",
       "      <td>0</td>\n",
       "      <td>0</td>\n",
       "    </tr>\n",
       "    <tr>\n",
       "      <th>1337</th>\n",
       "      <td>2.927942e+10</td>\n",
       "      <td>314159265359</td>\n",
       "      <td>0</td>\n",
       "      <td>0</td>\n",
       "      <td>0</td>\n",
       "      <td>0</td>\n",
       "      <td>0</td>\n",
       "      <td>0</td>\n",
       "      <td>0</td>\n",
       "      <td>0</td>\n",
       "      <td>...</td>\n",
       "      <td>1</td>\n",
       "      <td>0</td>\n",
       "      <td>0</td>\n",
       "      <td>0</td>\n",
       "      <td>0</td>\n",
       "      <td>0</td>\n",
       "      <td>0</td>\n",
       "      <td>0</td>\n",
       "      <td>0</td>\n",
       "      <td>0</td>\n",
       "    </tr>\n",
       "    <tr>\n",
       "      <th>BTC</th>\n",
       "      <td>1.792718e+07</td>\n",
       "      <td>21000000</td>\n",
       "      <td>0</td>\n",
       "      <td>0</td>\n",
       "      <td>0</td>\n",
       "      <td>0</td>\n",
       "      <td>0</td>\n",
       "      <td>0</td>\n",
       "      <td>0</td>\n",
       "      <td>0</td>\n",
       "      <td>...</td>\n",
       "      <td>0</td>\n",
       "      <td>0</td>\n",
       "      <td>0</td>\n",
       "      <td>0</td>\n",
       "      <td>0</td>\n",
       "      <td>0</td>\n",
       "      <td>0</td>\n",
       "      <td>0</td>\n",
       "      <td>0</td>\n",
       "      <td>0</td>\n",
       "    </tr>\n",
       "    <tr>\n",
       "      <th>ETH</th>\n",
       "      <td>1.076842e+08</td>\n",
       "      <td>0</td>\n",
       "      <td>0</td>\n",
       "      <td>0</td>\n",
       "      <td>0</td>\n",
       "      <td>0</td>\n",
       "      <td>0</td>\n",
       "      <td>0</td>\n",
       "      <td>0</td>\n",
       "      <td>0</td>\n",
       "      <td>...</td>\n",
       "      <td>0</td>\n",
       "      <td>0</td>\n",
       "      <td>0</td>\n",
       "      <td>0</td>\n",
       "      <td>0</td>\n",
       "      <td>0</td>\n",
       "      <td>0</td>\n",
       "      <td>0</td>\n",
       "      <td>0</td>\n",
       "      <td>0</td>\n",
       "    </tr>\n",
       "    <tr>\n",
       "      <th>LTC</th>\n",
       "      <td>6.303924e+07</td>\n",
       "      <td>84000000</td>\n",
       "      <td>0</td>\n",
       "      <td>0</td>\n",
       "      <td>0</td>\n",
       "      <td>0</td>\n",
       "      <td>0</td>\n",
       "      <td>0</td>\n",
       "      <td>0</td>\n",
       "      <td>0</td>\n",
       "      <td>...</td>\n",
       "      <td>0</td>\n",
       "      <td>0</td>\n",
       "      <td>0</td>\n",
       "      <td>0</td>\n",
       "      <td>0</td>\n",
       "      <td>0</td>\n",
       "      <td>0</td>\n",
       "      <td>0</td>\n",
       "      <td>0</td>\n",
       "      <td>0</td>\n",
       "    </tr>\n",
       "    <tr>\n",
       "      <th>DASH</th>\n",
       "      <td>9.031294e+06</td>\n",
       "      <td>22000000</td>\n",
       "      <td>0</td>\n",
       "      <td>0</td>\n",
       "      <td>0</td>\n",
       "      <td>0</td>\n",
       "      <td>0</td>\n",
       "      <td>0</td>\n",
       "      <td>0</td>\n",
       "      <td>0</td>\n",
       "      <td>...</td>\n",
       "      <td>1</td>\n",
       "      <td>0</td>\n",
       "      <td>0</td>\n",
       "      <td>0</td>\n",
       "      <td>0</td>\n",
       "      <td>0</td>\n",
       "      <td>0</td>\n",
       "      <td>0</td>\n",
       "      <td>0</td>\n",
       "      <td>0</td>\n",
       "    </tr>\n",
       "    <tr>\n",
       "      <th>XMR</th>\n",
       "      <td>1.720114e+07</td>\n",
       "      <td>0</td>\n",
       "      <td>0</td>\n",
       "      <td>0</td>\n",
       "      <td>0</td>\n",
       "      <td>0</td>\n",
       "      <td>0</td>\n",
       "      <td>0</td>\n",
       "      <td>0</td>\n",
       "      <td>0</td>\n",
       "      <td>...</td>\n",
       "      <td>0</td>\n",
       "      <td>0</td>\n",
       "      <td>0</td>\n",
       "      <td>0</td>\n",
       "      <td>0</td>\n",
       "      <td>0</td>\n",
       "      <td>0</td>\n",
       "      <td>0</td>\n",
       "      <td>0</td>\n",
       "      <td>0</td>\n",
       "    </tr>\n",
       "    <tr>\n",
       "      <th>ETC</th>\n",
       "      <td>1.133597e+08</td>\n",
       "      <td>210000000</td>\n",
       "      <td>0</td>\n",
       "      <td>0</td>\n",
       "      <td>0</td>\n",
       "      <td>0</td>\n",
       "      <td>0</td>\n",
       "      <td>0</td>\n",
       "      <td>0</td>\n",
       "      <td>0</td>\n",
       "      <td>...</td>\n",
       "      <td>0</td>\n",
       "      <td>0</td>\n",
       "      <td>0</td>\n",
       "      <td>0</td>\n",
       "      <td>0</td>\n",
       "      <td>0</td>\n",
       "      <td>0</td>\n",
       "      <td>0</td>\n",
       "      <td>0</td>\n",
       "      <td>0</td>\n",
       "    </tr>\n",
       "    <tr>\n",
       "      <th>ZEC</th>\n",
       "      <td>7.383056e+06</td>\n",
       "      <td>21000000</td>\n",
       "      <td>0</td>\n",
       "      <td>0</td>\n",
       "      <td>0</td>\n",
       "      <td>0</td>\n",
       "      <td>0</td>\n",
       "      <td>0</td>\n",
       "      <td>0</td>\n",
       "      <td>0</td>\n",
       "      <td>...</td>\n",
       "      <td>0</td>\n",
       "      <td>0</td>\n",
       "      <td>0</td>\n",
       "      <td>0</td>\n",
       "      <td>0</td>\n",
       "      <td>0</td>\n",
       "      <td>0</td>\n",
       "      <td>0</td>\n",
       "      <td>0</td>\n",
       "      <td>0</td>\n",
       "    </tr>\n",
       "  </tbody>\n",
       "</table>\n",
       "<p>10 rows × 98 columns</p>\n",
       "</div>"
      ],
      "text/plain": [
       "      TotalCoinsMined TotalCoinSupply  Algorithm_1GB AES Pattern Search  \\\n",
       "42       4.199995e+01              42                                 0   \n",
       "404      1.055185e+09       532000000                                 0   \n",
       "1337     2.927942e+10    314159265359                                 0   \n",
       "BTC      1.792718e+07        21000000                                 0   \n",
       "ETH      1.076842e+08               0                                 0   \n",
       "LTC      6.303924e+07        84000000                                 0   \n",
       "DASH     9.031294e+06        22000000                                 0   \n",
       "XMR      1.720114e+07               0                                 0   \n",
       "ETC      1.133597e+08       210000000                                 0   \n",
       "ZEC      7.383056e+06        21000000                                 0   \n",
       "\n",
       "      Algorithm_536  Algorithm_Argon2d  Algorithm_BLAKE256  Algorithm_Blake  \\\n",
       "42                0                  0                   0                0   \n",
       "404               0                  0                   0                0   \n",
       "1337              0                  0                   0                0   \n",
       "BTC               0                  0                   0                0   \n",
       "ETH               0                  0                   0                0   \n",
       "LTC               0                  0                   0                0   \n",
       "DASH              0                  0                   0                0   \n",
       "XMR               0                  0                   0                0   \n",
       "ETC               0                  0                   0                0   \n",
       "ZEC               0                  0                   0                0   \n",
       "\n",
       "      Algorithm_Blake2S  Algorithm_Blake2b  Algorithm_C11  ...  \\\n",
       "42                    0                  0              0  ...   \n",
       "404                   0                  0              0  ...   \n",
       "1337                  0                  0              0  ...   \n",
       "BTC                   0                  0              0  ...   \n",
       "ETH                   0                  0              0  ...   \n",
       "LTC                   0                  0              0  ...   \n",
       "DASH                  0                  0              0  ...   \n",
       "XMR                   0                  0              0  ...   \n",
       "ETC                   0                  0              0  ...   \n",
       "ZEC                   0                  0              0  ...   \n",
       "\n",
       "      ProofType_PoW/PoS  ProofType_PoW/PoS   ProofType_PoW/PoW  \\\n",
       "42                    1                   0                  0   \n",
       "404                   1                   0                  0   \n",
       "1337                  1                   0                  0   \n",
       "BTC                   0                   0                  0   \n",
       "ETH                   0                   0                  0   \n",
       "LTC                   0                   0                  0   \n",
       "DASH                  1                   0                  0   \n",
       "XMR                   0                   0                  0   \n",
       "ETC                   0                   0                  0   \n",
       "ZEC                   0                   0                  0   \n",
       "\n",
       "      ProofType_PoW/nPoS  ProofType_Pos  ProofType_Proof of Authority  \\\n",
       "42                     0              0                             0   \n",
       "404                    0              0                             0   \n",
       "1337                   0              0                             0   \n",
       "BTC                    0              0                             0   \n",
       "ETH                    0              0                             0   \n",
       "LTC                    0              0                             0   \n",
       "DASH                   0              0                             0   \n",
       "XMR                    0              0                             0   \n",
       "ETC                    0              0                             0   \n",
       "ZEC                    0              0                             0   \n",
       "\n",
       "      ProofType_Proof of Trust  ProofType_TPoS  \\\n",
       "42                           0               0   \n",
       "404                          0               0   \n",
       "1337                         0               0   \n",
       "BTC                          0               0   \n",
       "ETH                          0               0   \n",
       "LTC                          0               0   \n",
       "DASH                         0               0   \n",
       "XMR                          0               0   \n",
       "ETC                          0               0   \n",
       "ZEC                          0               0   \n",
       "\n",
       "      ProofType_Zero-Knowledge Proof  ProofType_dPoW/PoW  \n",
       "42                                 0                   0  \n",
       "404                                0                   0  \n",
       "1337                               0                   0  \n",
       "BTC                                0                   0  \n",
       "ETH                                0                   0  \n",
       "LTC                                0                   0  \n",
       "DASH                               0                   0  \n",
       "XMR                                0                   0  \n",
       "ETC                                0                   0  \n",
       "ZEC                                0                   0  \n",
       "\n",
       "[10 rows x 98 columns]"
      ]
     },
     "execution_count": 97,
     "metadata": {},
     "output_type": "execute_result"
    }
   ],
   "source": [
    "# Create dummy variables for text features\n",
    "X = pd.get_dummies(crypto_df, columns=[\"Algorithm\", \"ProofType\"])\n",
    "X.head(10)"
   ]
  },
  {
   "cell_type": "code",
   "execution_count": 98,
   "metadata": {},
   "outputs": [
    {
     "data": {
      "text/plain": [
       "array([[-0.11710817, -0.1528703 , -0.0433963 , -0.0433963 , -0.0433963 ,\n",
       "        -0.06142951, -0.07530656, -0.0433963 , -0.06142951, -0.06142951,\n",
       "        -0.0433963 , -0.0433963 , -0.19245009, -0.06142951, -0.09740465,\n",
       "        -0.0433963 , -0.11547005, -0.07530656, -0.0433963 , -0.0433963 ,\n",
       "        -0.15191091, -0.0433963 , -0.13118084, -0.0433963 , -0.0433963 ,\n",
       "        -0.08703883, -0.0433963 , -0.0433963 , -0.0433963 , -0.0433963 ,\n",
       "        -0.06142951, -0.0433963 , -0.08703883, -0.08703883, -0.08703883,\n",
       "        -0.0433963 , -0.13118084, -0.13840913, -0.13840913, -0.0433963 ,\n",
       "        -0.06142951, -0.0433963 , -0.07530656, -0.18168574, -0.0433963 ,\n",
       "        -0.0433963 , -0.0433963 , -0.07530656, -0.15826614, -0.31491833,\n",
       "        -0.0433963 , -0.08703883, -0.07530656, -0.06142951,  1.38675049,\n",
       "        -0.0433963 , -0.0433963 , -0.06142951, -0.0433963 , -0.0433963 ,\n",
       "        -0.0433963 , -0.0433963 , -0.0433963 , -0.0433963 , -0.0433963 ,\n",
       "        -0.0433963 , -0.39879994, -0.0433963 , -0.18168574, -0.0433963 ,\n",
       "        -0.08703883, -0.08703883, -0.10680283, -0.0433963 , -0.13118084,\n",
       "        -0.0433963 , -0.0433963 , -0.0433963 , -0.0433963 , -0.07530656,\n",
       "        -0.43911856, -0.0433963 , -0.06142951, -0.0433963 , -0.0433963 ,\n",
       "        -0.89632016, -0.0433963 , -0.0433963 ,  1.42222617, -0.0433963 ,\n",
       "        -0.0433963 , -0.0433963 , -0.0433963 , -0.0433963 , -0.0433963 ,\n",
       "        -0.0433963 , -0.0433963 , -0.0433963 ],\n",
       "       [-0.09396955, -0.145009  , -0.0433963 , -0.0433963 , -0.0433963 ,\n",
       "        -0.06142951, -0.07530656, -0.0433963 , -0.06142951, -0.06142951,\n",
       "        -0.0433963 , -0.0433963 , -0.19245009, -0.06142951, -0.09740465,\n",
       "        -0.0433963 , -0.11547005, -0.07530656, -0.0433963 , -0.0433963 ,\n",
       "        -0.15191091, -0.0433963 , -0.13118084, -0.0433963 , -0.0433963 ,\n",
       "        -0.08703883, -0.0433963 , -0.0433963 , -0.0433963 , -0.0433963 ,\n",
       "        -0.06142951, -0.0433963 , -0.08703883, -0.08703883, -0.08703883,\n",
       "        -0.0433963 , -0.13118084, -0.13840913, -0.13840913, -0.0433963 ,\n",
       "        -0.06142951, -0.0433963 , -0.07530656, -0.18168574, -0.0433963 ,\n",
       "        -0.0433963 , -0.0433963 , -0.07530656, -0.15826614, -0.31491833,\n",
       "        -0.0433963 , -0.08703883, -0.07530656, -0.06142951,  1.38675049,\n",
       "        -0.0433963 , -0.0433963 , -0.06142951, -0.0433963 , -0.0433963 ,\n",
       "        -0.0433963 , -0.0433963 , -0.0433963 , -0.0433963 , -0.0433963 ,\n",
       "        -0.0433963 , -0.39879994, -0.0433963 , -0.18168574, -0.0433963 ,\n",
       "        -0.08703883, -0.08703883, -0.10680283, -0.0433963 , -0.13118084,\n",
       "        -0.0433963 , -0.0433963 , -0.0433963 , -0.0433963 , -0.07530656,\n",
       "        -0.43911856, -0.0433963 , -0.06142951, -0.0433963 , -0.0433963 ,\n",
       "        -0.89632016, -0.0433963 , -0.0433963 ,  1.42222617, -0.0433963 ,\n",
       "        -0.0433963 , -0.0433963 , -0.0433963 , -0.0433963 , -0.0433963 ,\n",
       "        -0.0433963 , -0.0433963 , -0.0433963 ],\n",
       "       [ 0.52494561,  4.48942416, -0.0433963 , -0.0433963 , -0.0433963 ,\n",
       "        -0.06142951, -0.07530656, -0.0433963 , -0.06142951, -0.06142951,\n",
       "        -0.0433963 , -0.0433963 , -0.19245009, -0.06142951, -0.09740465,\n",
       "        -0.0433963 , -0.11547005, -0.07530656, -0.0433963 , -0.0433963 ,\n",
       "        -0.15191091, -0.0433963 , -0.13118084, -0.0433963 , -0.0433963 ,\n",
       "        -0.08703883, -0.0433963 , -0.0433963 , -0.0433963 , -0.0433963 ,\n",
       "        -0.06142951, -0.0433963 , -0.08703883, -0.08703883, -0.08703883,\n",
       "        -0.0433963 , -0.13118084, -0.13840913, -0.13840913, -0.0433963 ,\n",
       "        -0.06142951, -0.0433963 , -0.07530656, -0.18168574, -0.0433963 ,\n",
       "        -0.0433963 , -0.0433963 , -0.07530656, -0.15826614, -0.31491833,\n",
       "        -0.0433963 , -0.08703883, -0.07530656, -0.06142951, -0.72111026,\n",
       "        -0.0433963 , -0.0433963 , -0.06142951, -0.0433963 , -0.0433963 ,\n",
       "        -0.0433963 , -0.0433963 , -0.0433963 , -0.0433963 , -0.0433963 ,\n",
       "        -0.0433963 , -0.39879994, -0.0433963 ,  5.50400923, -0.0433963 ,\n",
       "        -0.08703883, -0.08703883, -0.10680283, -0.0433963 , -0.13118084,\n",
       "        -0.0433963 , -0.0433963 , -0.0433963 , -0.0433963 , -0.07530656,\n",
       "        -0.43911856, -0.0433963 , -0.06142951, -0.0433963 , -0.0433963 ,\n",
       "        -0.89632016, -0.0433963 , -0.0433963 ,  1.42222617, -0.0433963 ,\n",
       "        -0.0433963 , -0.0433963 , -0.0433963 , -0.0433963 , -0.0433963 ,\n",
       "        -0.0433963 , -0.0433963 , -0.0433963 ],\n",
       "       [-0.11671506, -0.15255998, -0.0433963 , -0.0433963 , -0.0433963 ,\n",
       "        -0.06142951, -0.07530656, -0.0433963 , -0.06142951, -0.06142951,\n",
       "        -0.0433963 , -0.0433963 , -0.19245009, -0.06142951, -0.09740465,\n",
       "        -0.0433963 , -0.11547005, -0.07530656, -0.0433963 , -0.0433963 ,\n",
       "        -0.15191091, -0.0433963 , -0.13118084, -0.0433963 , -0.0433963 ,\n",
       "        -0.08703883, -0.0433963 , -0.0433963 , -0.0433963 , -0.0433963 ,\n",
       "        -0.06142951, -0.0433963 , -0.08703883, -0.08703883, -0.08703883,\n",
       "        -0.0433963 , -0.13118084, -0.13840913, -0.13840913, -0.0433963 ,\n",
       "        -0.06142951, -0.0433963 , -0.07530656, -0.18168574, -0.0433963 ,\n",
       "        -0.0433963 , -0.0433963 , -0.07530656, -0.15826614,  3.17542648,\n",
       "        -0.0433963 , -0.08703883, -0.07530656, -0.06142951, -0.72111026,\n",
       "        -0.0433963 , -0.0433963 , -0.06142951, -0.0433963 , -0.0433963 ,\n",
       "        -0.0433963 , -0.0433963 , -0.0433963 , -0.0433963 , -0.0433963 ,\n",
       "        -0.0433963 , -0.39879994, -0.0433963 , -0.18168574, -0.0433963 ,\n",
       "        -0.08703883, -0.08703883, -0.10680283, -0.0433963 , -0.13118084,\n",
       "        -0.0433963 , -0.0433963 , -0.0433963 , -0.0433963 , -0.07530656,\n",
       "        -0.43911856, -0.0433963 , -0.06142951, -0.0433963 , -0.0433963 ,\n",
       "         1.11567277, -0.0433963 , -0.0433963 , -0.70312305, -0.0433963 ,\n",
       "        -0.0433963 , -0.0433963 , -0.0433963 , -0.0433963 , -0.0433963 ,\n",
       "        -0.0433963 , -0.0433963 , -0.0433963 ],\n",
       "       [-0.11474682, -0.1528703 , -0.0433963 , -0.0433963 , -0.0433963 ,\n",
       "        -0.06142951, -0.07530656, -0.0433963 , -0.06142951, -0.06142951,\n",
       "        -0.0433963 , -0.0433963 , -0.19245009, -0.06142951, -0.09740465,\n",
       "        -0.0433963 , -0.11547005, -0.07530656, -0.0433963 , -0.0433963 ,\n",
       "        -0.15191091, -0.0433963 ,  7.62306442, -0.0433963 , -0.0433963 ,\n",
       "        -0.08703883, -0.0433963 , -0.0433963 , -0.0433963 , -0.0433963 ,\n",
       "        -0.06142951, -0.0433963 , -0.08703883, -0.08703883, -0.08703883,\n",
       "        -0.0433963 , -0.13118084, -0.13840913, -0.13840913, -0.0433963 ,\n",
       "        -0.06142951, -0.0433963 , -0.07530656, -0.18168574, -0.0433963 ,\n",
       "        -0.0433963 , -0.0433963 , -0.07530656, -0.15826614, -0.31491833,\n",
       "        -0.0433963 , -0.08703883, -0.07530656, -0.06142951, -0.72111026,\n",
       "        -0.0433963 , -0.0433963 , -0.06142951, -0.0433963 , -0.0433963 ,\n",
       "        -0.0433963 , -0.0433963 , -0.0433963 , -0.0433963 , -0.0433963 ,\n",
       "        -0.0433963 , -0.39879994, -0.0433963 , -0.18168574, -0.0433963 ,\n",
       "        -0.08703883, -0.08703883, -0.10680283, -0.0433963 , -0.13118084,\n",
       "        -0.0433963 , -0.0433963 , -0.0433963 , -0.0433963 , -0.07530656,\n",
       "        -0.43911856, -0.0433963 , -0.06142951, -0.0433963 , -0.0433963 ,\n",
       "         1.11567277, -0.0433963 , -0.0433963 , -0.70312305, -0.0433963 ,\n",
       "        -0.0433963 , -0.0433963 , -0.0433963 , -0.0433963 , -0.0433963 ,\n",
       "        -0.0433963 , -0.0433963 , -0.0433963 ]])"
      ]
     },
     "execution_count": 98,
     "metadata": {},
     "output_type": "execute_result"
    }
   ],
   "source": [
    "# Standardize data\n",
    "scaler = StandardScaler()\n",
    "crypto_scaled = scaler.fit_transform(X)\n",
    "crypto_scaled[0:5]"
   ]
  },
  {
   "cell_type": "markdown",
   "metadata": {},
   "source": [
    "### Reducing Dimensions Using PCA"
   ]
  },
  {
   "cell_type": "code",
   "execution_count": 99,
   "metadata": {},
   "outputs": [
    {
     "data": {
      "text/plain": [
       "array([[-0.31520599,  1.01308341, -0.5207212 ],\n",
       "       [-0.29856578,  1.01320089, -0.52109025],\n",
       "       [ 2.30188228,  1.66558906, -0.66384644],\n",
       "       ...,\n",
       "       [ 0.32270221, -2.29863919,  0.41150401],\n",
       "       [-0.14765499, -1.88434956,  0.39120495],\n",
       "       [-0.27674151,  0.80465665, -0.2527413 ]])"
      ]
     },
     "execution_count": 99,
     "metadata": {},
     "output_type": "execute_result"
    }
   ],
   "source": [
    "# Use PCA to reduce dimensions to 3 principal components\n",
    "pca = PCA(n_components=3)\n",
    "crypto_pca = pca.fit_transform(crypto_scaled)\n",
    "crypto_pca"
   ]
  },
  {
   "cell_type": "code",
   "execution_count": 100,
   "metadata": {},
   "outputs": [
    {
     "data": {
      "text/html": [
       "<div>\n",
       "<style scoped>\n",
       "    .dataframe tbody tr th:only-of-type {\n",
       "        vertical-align: middle;\n",
       "    }\n",
       "\n",
       "    .dataframe tbody tr th {\n",
       "        vertical-align: top;\n",
       "    }\n",
       "\n",
       "    .dataframe thead th {\n",
       "        text-align: right;\n",
       "    }\n",
       "</style>\n",
       "<table border=\"1\" class=\"dataframe\">\n",
       "  <thead>\n",
       "    <tr style=\"text-align: right;\">\n",
       "      <th></th>\n",
       "      <th>PC 1</th>\n",
       "      <th>PC 2</th>\n",
       "      <th>PC 3</th>\n",
       "    </tr>\n",
       "  </thead>\n",
       "  <tbody>\n",
       "    <tr>\n",
       "      <th>42</th>\n",
       "      <td>-0.315206</td>\n",
       "      <td>1.013083</td>\n",
       "      <td>-0.520721</td>\n",
       "    </tr>\n",
       "    <tr>\n",
       "      <th>404</th>\n",
       "      <td>-0.298566</td>\n",
       "      <td>1.013201</td>\n",
       "      <td>-0.521090</td>\n",
       "    </tr>\n",
       "    <tr>\n",
       "      <th>1337</th>\n",
       "      <td>2.301882</td>\n",
       "      <td>1.665589</td>\n",
       "      <td>-0.663846</td>\n",
       "    </tr>\n",
       "    <tr>\n",
       "      <th>BTC</th>\n",
       "      <td>-0.153953</td>\n",
       "      <td>-1.320222</td>\n",
       "      <td>0.178467</td>\n",
       "    </tr>\n",
       "    <tr>\n",
       "      <th>ETH</th>\n",
       "      <td>-0.153767</td>\n",
       "      <td>-2.057800</td>\n",
       "      <td>0.333633</td>\n",
       "    </tr>\n",
       "    <tr>\n",
       "      <th>LTC</th>\n",
       "      <td>-0.149962</td>\n",
       "      <td>-1.142734</td>\n",
       "      <td>0.004207</td>\n",
       "    </tr>\n",
       "    <tr>\n",
       "      <th>DASH</th>\n",
       "      <td>-0.409009</td>\n",
       "      <td>1.279648</td>\n",
       "      <td>-0.488588</td>\n",
       "    </tr>\n",
       "    <tr>\n",
       "      <th>XMR</th>\n",
       "      <td>-0.154765</td>\n",
       "      <td>-2.249975</td>\n",
       "      <td>0.368860</td>\n",
       "    </tr>\n",
       "    <tr>\n",
       "      <th>ETC</th>\n",
       "      <td>-0.152212</td>\n",
       "      <td>-2.057909</td>\n",
       "      <td>0.333616</td>\n",
       "    </tr>\n",
       "    <tr>\n",
       "      <th>ZEC</th>\n",
       "      <td>-0.147654</td>\n",
       "      <td>-1.884350</td>\n",
       "      <td>0.391205</td>\n",
       "    </tr>\n",
       "  </tbody>\n",
       "</table>\n",
       "</div>"
      ],
      "text/plain": [
       "          PC 1      PC 2      PC 3\n",
       "42   -0.315206  1.013083 -0.520721\n",
       "404  -0.298566  1.013201 -0.521090\n",
       "1337  2.301882  1.665589 -0.663846\n",
       "BTC  -0.153953 -1.320222  0.178467\n",
       "ETH  -0.153767 -2.057800  0.333633\n",
       "LTC  -0.149962 -1.142734  0.004207\n",
       "DASH -0.409009  1.279648 -0.488588\n",
       "XMR  -0.154765 -2.249975  0.368860\n",
       "ETC  -0.152212 -2.057909  0.333616\n",
       "ZEC  -0.147654 -1.884350  0.391205"
      ]
     },
     "execution_count": 100,
     "metadata": {},
     "output_type": "execute_result"
    }
   ],
   "source": [
    "# Create a DataFrame with the principal components data\n",
    "pcs_df = pd.DataFrame(\n",
    "    data=crypto_pca,\n",
    "    columns=['PC 1', 'PC 2', 'PC 3'],\n",
    "    index=X.index\n",
    ")\n",
    "pcs_df.head(10)"
   ]
  },
  {
   "cell_type": "markdown",
   "metadata": {},
   "source": [
    "### Clustering Crytocurrencies Using K-Means\n",
    "\n",
    "#### Find the Best Value for `k` Using the Elbow Curve"
   ]
  },
  {
   "cell_type": "code",
   "execution_count": 101,
   "metadata": {},
   "outputs": [
    {
     "data": {},
     "metadata": {},
     "output_type": "display_data"
    },
    {
     "data": {
      "application/vnd.holoviews_exec.v0+json": "",
      "text/html": [
       "<div id='2649'>\n",
       "\n",
       "\n",
       "\n",
       "\n",
       "\n",
       "  <div class=\"bk-root\" id=\"a2e06428-d65c-4685-b3f6-22374f0cc42b\" data-root-id=\"2649\"></div>\n",
       "</div>\n",
       "<script type=\"application/javascript\">(function(root) {\n",
       "  function embed_document(root) {\n",
       "    var docs_json = {\"9da3080a-2947-4492-961b-da547b7f08a3\":{\"defs\":[],\"roots\":{\"references\":[{\"attributes\":{\"margin\":[5,5,5,5],\"name\":\"HSpacer04878\",\"sizing_mode\":\"stretch_width\"},\"id\":\"2650\",\"type\":\"Spacer\"},{\"attributes\":{},\"id\":\"2671\",\"type\":\"SaveTool\"},{\"attributes\":{\"overlay\":{\"id\":\"2676\"}},\"id\":\"2674\",\"type\":\"BoxZoomTool\"},{\"attributes\":{},\"id\":\"2675\",\"type\":\"ResetTool\"},{\"attributes\":{\"line_alpha\":0.1,\"line_color\":\"#30a2da\",\"line_width\":2,\"x\":{\"field\":\"k\"},\"y\":{\"field\":\"inertia\"}},\"id\":\"2688\",\"type\":\"Line\"},{\"attributes\":{\"line_color\":\"#30a2da\",\"line_width\":2,\"x\":{\"field\":\"k\"},\"y\":{\"field\":\"inertia\"}},\"id\":\"2687\",\"type\":\"Line\"},{\"attributes\":{},\"id\":\"2685\",\"type\":\"Selection\"},{\"attributes\":{\"children\":[{\"id\":\"2650\"},{\"id\":\"2654\"},{\"id\":\"2720\"}],\"margin\":[0,0,0,0],\"name\":\"Row04874\",\"tags\":[\"embedded\"]},\"id\":\"2649\",\"type\":\"Row\"},{\"attributes\":{\"margin\":[5,5,5,5],\"name\":\"HSpacer04879\",\"sizing_mode\":\"stretch_width\"},\"id\":\"2720\",\"type\":\"Spacer\"},{\"attributes\":{\"data_source\":{\"id\":\"2684\"},\"glyph\":{\"id\":\"2687\"},\"hover_glyph\":null,\"muted_glyph\":{\"id\":\"2689\"},\"nonselection_glyph\":{\"id\":\"2688\"},\"selection_glyph\":{\"id\":\"2692\"},\"view\":{\"id\":\"2691\"}},\"id\":\"2690\",\"type\":\"GlyphRenderer\"},{\"attributes\":{\"end\":10.0,\"reset_end\":10.0,\"reset_start\":1.0,\"start\":1.0,\"tags\":[[[\"k\",\"k\",null]]]},\"id\":\"2651\",\"type\":\"Range1d\"},{\"attributes\":{\"ticks\":[1,2,3,4,5,6,7,8,9,10]},\"id\":\"2693\",\"type\":\"FixedTicker\"},{\"attributes\":{\"line_color\":\"#30a2da\",\"line_width\":2,\"x\":{\"field\":\"k\"},\"y\":{\"field\":\"inertia\"}},\"id\":\"2692\",\"type\":\"Line\"},{\"attributes\":{},\"id\":\"2672\",\"type\":\"PanTool\"},{\"attributes\":{\"data\":{\"inertia\":{\"__ndarray__\":\"pdfQwgZurEAW8rFGt1ajQATvX9zNSpdAc1huCWhAgEAA5GaAc0x0QDWZsrZqiHBAXm/fyDDIakA5F/mjwKhmQLr2rHy4V2FAxXG7Ff0SXEA=\",\"dtype\":\"float64\",\"order\":\"little\",\"shape\":[10]},\"k\":[1,2,3,4,5,6,7,8,9,10]},\"selected\":{\"id\":\"2685\"},\"selection_policy\":{\"id\":\"2708\"}},\"id\":\"2684\",\"type\":\"ColumnDataSource\"},{\"attributes\":{\"line_alpha\":0.2,\"line_color\":\"#30a2da\",\"line_width\":2,\"x\":{\"field\":\"k\"},\"y\":{\"field\":\"inertia\"}},\"id\":\"2689\",\"type\":\"Line\"},{\"attributes\":{\"source\":{\"id\":\"2684\"}},\"id\":\"2691\",\"type\":\"CDSView\"},{\"attributes\":{\"callback\":null,\"renderers\":[{\"id\":\"2690\"}],\"tags\":[\"hv_created\"],\"tooltips\":[[\"k\",\"@{k}\"],[\"inertia\",\"@{inertia}\"]]},\"id\":\"2653\",\"type\":\"HoverTool\"},{\"attributes\":{},\"id\":\"2708\",\"type\":\"UnionRenderers\"},{\"attributes\":{\"bottom_units\":\"screen\",\"fill_alpha\":0.5,\"fill_color\":\"lightgrey\",\"left_units\":\"screen\",\"level\":\"overlay\",\"line_alpha\":1.0,\"line_color\":\"black\",\"line_dash\":[4,4],\"line_width\":2,\"right_units\":\"screen\",\"syncable\":false,\"top_units\":\"screen\"},\"id\":\"2676\",\"type\":\"BoxAnnotation\"},{\"attributes\":{\"end\":3991.6848558765896,\"reset_end\":3991.6848558765896,\"reset_start\":-240.37495372417078,\"start\":-240.37495372417078,\"tags\":[[[\"inertia\",\"inertia\",null]]]},\"id\":\"2652\",\"type\":\"Range1d\"},{\"attributes\":{},\"id\":\"2695\",\"type\":\"BasicTickFormatter\"},{\"attributes\":{\"text\":\"Elbow Curve\",\"text_color\":\"black\",\"text_font_size\":\"12pt\"},\"id\":\"2655\",\"type\":\"Title\"},{\"attributes\":{},\"id\":\"2659\",\"type\":\"LinearScale\"},{\"attributes\":{},\"id\":\"2661\",\"type\":\"LinearScale\"},{\"attributes\":{\"below\":[{\"id\":\"2663\"}],\"center\":[{\"id\":\"2666\"},{\"id\":\"2670\"}],\"height\":300,\"left\":[{\"id\":\"2667\"}],\"margin\":[5,5,5,5],\"min_border_bottom\":10,\"min_border_left\":10,\"min_border_right\":10,\"min_border_top\":10,\"renderers\":[{\"id\":\"2690\"}],\"sizing_mode\":\"fixed\",\"title\":{\"id\":\"2655\"},\"toolbar\":{\"id\":\"2677\"},\"width\":700,\"x_range\":{\"id\":\"2651\"},\"x_scale\":{\"id\":\"2659\"},\"y_range\":{\"id\":\"2652\"},\"y_scale\":{\"id\":\"2661\"}},\"id\":\"2654\",\"subtype\":\"Figure\",\"type\":\"Plot\"},{\"attributes\":{\"axis\":{\"id\":\"2663\"},\"grid_line_color\":null,\"ticker\":null},\"id\":\"2666\",\"type\":\"Grid\"},{\"attributes\":{},\"id\":\"2700\",\"type\":\"BasicTickFormatter\"},{\"attributes\":{\"axis_label\":\"k\",\"formatter\":{\"id\":\"2695\"},\"major_label_policy\":{\"id\":\"2694\"},\"ticker\":{\"id\":\"2693\"}},\"id\":\"2663\",\"type\":\"LinearAxis\"},{\"attributes\":{},\"id\":\"2694\",\"type\":\"AllLabels\"},{\"attributes\":{\"axis\":{\"id\":\"2667\"},\"dimension\":1,\"grid_line_color\":null,\"ticker\":null},\"id\":\"2670\",\"type\":\"Grid\"},{\"attributes\":{},\"id\":\"2699\",\"type\":\"AllLabels\"},{\"attributes\":{\"active_multi\":null,\"tools\":[{\"id\":\"2653\"},{\"id\":\"2671\"},{\"id\":\"2672\"},{\"id\":\"2673\"},{\"id\":\"2674\"},{\"id\":\"2675\"}]},\"id\":\"2677\",\"type\":\"Toolbar\"},{\"attributes\":{\"axis_label\":\"inertia\",\"formatter\":{\"id\":\"2700\"},\"major_label_policy\":{\"id\":\"2699\"},\"ticker\":{\"id\":\"2668\"}},\"id\":\"2667\",\"type\":\"LinearAxis\"},{\"attributes\":{},\"id\":\"2668\",\"type\":\"BasicTicker\"},{\"attributes\":{},\"id\":\"2673\",\"type\":\"WheelZoomTool\"}],\"root_ids\":[\"2649\"]},\"title\":\"Bokeh Application\",\"version\":\"2.3.2\"}};\n",
       "    var render_items = [{\"docid\":\"9da3080a-2947-4492-961b-da547b7f08a3\",\"root_ids\":[\"2649\"],\"roots\":{\"2649\":\"a2e06428-d65c-4685-b3f6-22374f0cc42b\"}}];\n",
       "    root.Bokeh.embed.embed_items_notebook(docs_json, render_items);\n",
       "  }\n",
       "  if (root.Bokeh !== undefined && root.Bokeh.Panel !== undefined) {\n",
       "    embed_document(root);\n",
       "  } else {\n",
       "    var attempts = 0;\n",
       "    var timer = setInterval(function(root) {\n",
       "      if (root.Bokeh !== undefined && root.Bokeh.Panel !== undefined) {\n",
       "        clearInterval(timer);\n",
       "        embed_document(root);\n",
       "      } else if (document.readyState == \"complete\") {\n",
       "        attempts++;\n",
       "        if (attempts > 100) {\n",
       "          clearInterval(timer);\n",
       "          console.log(\"Bokeh: ERROR: Unable to run BokehJS code because BokehJS library is missing\");\n",
       "        }\n",
       "      }\n",
       "    }, 10, root)\n",
       "  }\n",
       "})(window);</script>"
      ],
      "text/plain": [
       ":Curve   [k]   (inertia)"
      ]
     },
     "execution_count": 101,
     "metadata": {
      "application/vnd.holoviews_exec.v0+json": {
       "id": "2649"
      }
     },
     "output_type": "execute_result"
    }
   ],
   "source": [
    "inertia = []\n",
    "k = list(range(1, 11))\n",
    "\n",
    "# Calculate the inertia for the range of k values\n",
    "# Looping through k list\n",
    "for i in k:\n",
    "    km = KMeans(n_clusters=i, random_state=0)\n",
    "    km.fit(pcs_df)\n",
    "    inertia.append(km.inertia_)\n",
    "\n",
    "# Create the Elbow Curve using hvPlot\n",
    "elbow_data = {\"k\": k, \"inertia\": inertia}\n",
    "elbow_df = pd.DataFrame(elbow_data)\n",
    "elbow_df.hvplot.line(x=\"k\", y=\"inertia\", title=\"Elbow Curve\", xticks=k)"
   ]
  },
  {
   "cell_type": "markdown",
   "metadata": {},
   "source": [
    "Running K-Means with `k=4`"
   ]
  },
  {
   "cell_type": "markdown",
   "metadata": {},
   "source": [
    "**Create a new DataFrame including predicted clusters and cryptocurrencies features???**"
   ]
  },
  {
   "cell_type": "code",
   "execution_count": 102,
   "metadata": {},
   "outputs": [],
   "source": [
    "# Initialize the K-Means model\n",
    "km_model = KMeans(n_clusters=4, random_state=0)\n",
    "\n",
    "# Fit the model\n",
    "km_model.fit(pcs_df)\n",
    "\n",
    "# Predict clusters\n",
    "predictions = km_model.predict(pcs_df)\n",
    "\n",
    "# Create a new DataFrame including predicted clusters and cryptocurrencies features\n",
    "clustered_df = pd.concat([crypto_df, pcs_df], axis=1, join='inner')"
   ]
  },
  {
   "cell_type": "code",
   "execution_count": 103,
   "metadata": {},
   "outputs": [
    {
     "data": {
      "text/html": [
       "<div>\n",
       "<style scoped>\n",
       "    .dataframe tbody tr th:only-of-type {\n",
       "        vertical-align: middle;\n",
       "    }\n",
       "\n",
       "    .dataframe tbody tr th {\n",
       "        vertical-align: top;\n",
       "    }\n",
       "\n",
       "    .dataframe thead th {\n",
       "        text-align: right;\n",
       "    }\n",
       "</style>\n",
       "<table border=\"1\" class=\"dataframe\">\n",
       "  <thead>\n",
       "    <tr style=\"text-align: right;\">\n",
       "      <th></th>\n",
       "      <th>Algorithm</th>\n",
       "      <th>ProofType</th>\n",
       "      <th>TotalCoinsMined</th>\n",
       "      <th>TotalCoinSupply</th>\n",
       "      <th>PC 1</th>\n",
       "      <th>PC 2</th>\n",
       "      <th>PC 3</th>\n",
       "    </tr>\n",
       "  </thead>\n",
       "  <tbody>\n",
       "    <tr>\n",
       "      <th>42</th>\n",
       "      <td>Scrypt</td>\n",
       "      <td>PoW/PoS</td>\n",
       "      <td>4.199995e+01</td>\n",
       "      <td>42</td>\n",
       "      <td>-0.315206</td>\n",
       "      <td>1.013083</td>\n",
       "      <td>-0.520721</td>\n",
       "    </tr>\n",
       "    <tr>\n",
       "      <th>404</th>\n",
       "      <td>Scrypt</td>\n",
       "      <td>PoW/PoS</td>\n",
       "      <td>1.055185e+09</td>\n",
       "      <td>532000000</td>\n",
       "      <td>-0.298566</td>\n",
       "      <td>1.013201</td>\n",
       "      <td>-0.521090</td>\n",
       "    </tr>\n",
       "    <tr>\n",
       "      <th>1337</th>\n",
       "      <td>X13</td>\n",
       "      <td>PoW/PoS</td>\n",
       "      <td>2.927942e+10</td>\n",
       "      <td>314159265359</td>\n",
       "      <td>2.301882</td>\n",
       "      <td>1.665589</td>\n",
       "      <td>-0.663846</td>\n",
       "    </tr>\n",
       "    <tr>\n",
       "      <th>BTC</th>\n",
       "      <td>SHA-256</td>\n",
       "      <td>PoW</td>\n",
       "      <td>1.792718e+07</td>\n",
       "      <td>21000000</td>\n",
       "      <td>-0.153953</td>\n",
       "      <td>-1.320222</td>\n",
       "      <td>0.178467</td>\n",
       "    </tr>\n",
       "    <tr>\n",
       "      <th>ETH</th>\n",
       "      <td>Ethash</td>\n",
       "      <td>PoW</td>\n",
       "      <td>1.076842e+08</td>\n",
       "      <td>0</td>\n",
       "      <td>-0.153767</td>\n",
       "      <td>-2.057800</td>\n",
       "      <td>0.333633</td>\n",
       "    </tr>\n",
       "    <tr>\n",
       "      <th>...</th>\n",
       "      <td>...</td>\n",
       "      <td>...</td>\n",
       "      <td>...</td>\n",
       "      <td>...</td>\n",
       "      <td>...</td>\n",
       "      <td>...</td>\n",
       "      <td>...</td>\n",
       "    </tr>\n",
       "    <tr>\n",
       "      <th>ZEPH</th>\n",
       "      <td>SHA-256</td>\n",
       "      <td>DPoS</td>\n",
       "      <td>2.000000e+09</td>\n",
       "      <td>2000000000</td>\n",
       "      <td>2.481297</td>\n",
       "      <td>0.849997</td>\n",
       "      <td>-0.039263</td>\n",
       "    </tr>\n",
       "    <tr>\n",
       "      <th>GAP</th>\n",
       "      <td>Scrypt</td>\n",
       "      <td>PoW/PoS</td>\n",
       "      <td>1.493105e+07</td>\n",
       "      <td>250000000</td>\n",
       "      <td>-0.313255</td>\n",
       "      <td>1.012956</td>\n",
       "      <td>-0.520744</td>\n",
       "    </tr>\n",
       "    <tr>\n",
       "      <th>BDX</th>\n",
       "      <td>CryptoNight</td>\n",
       "      <td>PoW</td>\n",
       "      <td>9.802226e+08</td>\n",
       "      <td>1400222610</td>\n",
       "      <td>0.322702</td>\n",
       "      <td>-2.298639</td>\n",
       "      <td>0.411504</td>\n",
       "    </tr>\n",
       "    <tr>\n",
       "      <th>ZEN</th>\n",
       "      <td>Equihash</td>\n",
       "      <td>PoW</td>\n",
       "      <td>7.296538e+06</td>\n",
       "      <td>21000000</td>\n",
       "      <td>-0.147655</td>\n",
       "      <td>-1.884350</td>\n",
       "      <td>0.391205</td>\n",
       "    </tr>\n",
       "    <tr>\n",
       "      <th>XBC</th>\n",
       "      <td>Scrypt</td>\n",
       "      <td>PoS</td>\n",
       "      <td>1.283270e+05</td>\n",
       "      <td>1000000</td>\n",
       "      <td>-0.276742</td>\n",
       "      <td>0.804657</td>\n",
       "      <td>-0.252741</td>\n",
       "    </tr>\n",
       "  </tbody>\n",
       "</table>\n",
       "<p>532 rows × 7 columns</p>\n",
       "</div>"
      ],
      "text/plain": [
       "        Algorithm ProofType  TotalCoinsMined TotalCoinSupply      PC 1  \\\n",
       "42         Scrypt   PoW/PoS     4.199995e+01              42 -0.315206   \n",
       "404        Scrypt   PoW/PoS     1.055185e+09       532000000 -0.298566   \n",
       "1337          X13   PoW/PoS     2.927942e+10    314159265359  2.301882   \n",
       "BTC       SHA-256       PoW     1.792718e+07        21000000 -0.153953   \n",
       "ETH        Ethash       PoW     1.076842e+08               0 -0.153767   \n",
       "...           ...       ...              ...             ...       ...   \n",
       "ZEPH      SHA-256      DPoS     2.000000e+09      2000000000  2.481297   \n",
       "GAP        Scrypt   PoW/PoS     1.493105e+07       250000000 -0.313255   \n",
       "BDX   CryptoNight       PoW     9.802226e+08      1400222610  0.322702   \n",
       "ZEN      Equihash       PoW     7.296538e+06        21000000 -0.147655   \n",
       "XBC        Scrypt       PoS     1.283270e+05         1000000 -0.276742   \n",
       "\n",
       "          PC 2      PC 3  \n",
       "42    1.013083 -0.520721  \n",
       "404   1.013201 -0.521090  \n",
       "1337  1.665589 -0.663846  \n",
       "BTC  -1.320222  0.178467  \n",
       "ETH  -2.057800  0.333633  \n",
       "...        ...       ...  \n",
       "ZEPH  0.849997 -0.039263  \n",
       "GAP   1.012956 -0.520744  \n",
       "BDX  -2.298639  0.411504  \n",
       "ZEN  -1.884350  0.391205  \n",
       "XBC   0.804657 -0.252741  \n",
       "\n",
       "[532 rows x 7 columns]"
      ]
     },
     "execution_count": 103,
     "metadata": {},
     "output_type": "execute_result"
    }
   ],
   "source": [
    "clustered_df"
   ]
  },
  {
   "cell_type": "code",
   "execution_count": 104,
   "metadata": {},
   "outputs": [
    {
     "name": "stdout",
     "output_type": "stream",
     "text": [
      "(532, 9)\n"
     ]
    },
    {
     "data": {
      "text/html": [
       "<div>\n",
       "<style scoped>\n",
       "    .dataframe tbody tr th:only-of-type {\n",
       "        vertical-align: middle;\n",
       "    }\n",
       "\n",
       "    .dataframe tbody tr th {\n",
       "        vertical-align: top;\n",
       "    }\n",
       "\n",
       "    .dataframe thead th {\n",
       "        text-align: right;\n",
       "    }\n",
       "</style>\n",
       "<table border=\"1\" class=\"dataframe\">\n",
       "  <thead>\n",
       "    <tr style=\"text-align: right;\">\n",
       "      <th></th>\n",
       "      <th>Algorithm</th>\n",
       "      <th>ProofType</th>\n",
       "      <th>TotalCoinsMined</th>\n",
       "      <th>TotalCoinSupply</th>\n",
       "      <th>PC 1</th>\n",
       "      <th>PC 2</th>\n",
       "      <th>PC 3</th>\n",
       "      <th>CoinName</th>\n",
       "      <th>Class</th>\n",
       "    </tr>\n",
       "  </thead>\n",
       "  <tbody>\n",
       "    <tr>\n",
       "      <th>42</th>\n",
       "      <td>Scrypt</td>\n",
       "      <td>PoW/PoS</td>\n",
       "      <td>4.199995e+01</td>\n",
       "      <td>42</td>\n",
       "      <td>-0.315206</td>\n",
       "      <td>1.013083</td>\n",
       "      <td>-0.520721</td>\n",
       "      <td>42 Coin</td>\n",
       "      <td>0</td>\n",
       "    </tr>\n",
       "    <tr>\n",
       "      <th>404</th>\n",
       "      <td>Scrypt</td>\n",
       "      <td>PoW/PoS</td>\n",
       "      <td>1.055185e+09</td>\n",
       "      <td>532000000</td>\n",
       "      <td>-0.298566</td>\n",
       "      <td>1.013201</td>\n",
       "      <td>-0.521090</td>\n",
       "      <td>404Coin</td>\n",
       "      <td>0</td>\n",
       "    </tr>\n",
       "    <tr>\n",
       "      <th>1337</th>\n",
       "      <td>X13</td>\n",
       "      <td>PoW/PoS</td>\n",
       "      <td>2.927942e+10</td>\n",
       "      <td>314159265359</td>\n",
       "      <td>2.301882</td>\n",
       "      <td>1.665589</td>\n",
       "      <td>-0.663846</td>\n",
       "      <td>EliteCoin</td>\n",
       "      <td>0</td>\n",
       "    </tr>\n",
       "    <tr>\n",
       "      <th>BTC</th>\n",
       "      <td>SHA-256</td>\n",
       "      <td>PoW</td>\n",
       "      <td>1.792718e+07</td>\n",
       "      <td>21000000</td>\n",
       "      <td>-0.153953</td>\n",
       "      <td>-1.320222</td>\n",
       "      <td>0.178467</td>\n",
       "      <td>Bitcoin</td>\n",
       "      <td>3</td>\n",
       "    </tr>\n",
       "    <tr>\n",
       "      <th>ETH</th>\n",
       "      <td>Ethash</td>\n",
       "      <td>PoW</td>\n",
       "      <td>1.076842e+08</td>\n",
       "      <td>0</td>\n",
       "      <td>-0.153767</td>\n",
       "      <td>-2.057800</td>\n",
       "      <td>0.333633</td>\n",
       "      <td>Ethereum</td>\n",
       "      <td>3</td>\n",
       "    </tr>\n",
       "    <tr>\n",
       "      <th>LTC</th>\n",
       "      <td>Scrypt</td>\n",
       "      <td>PoW</td>\n",
       "      <td>6.303924e+07</td>\n",
       "      <td>84000000</td>\n",
       "      <td>-0.149962</td>\n",
       "      <td>-1.142734</td>\n",
       "      <td>0.004207</td>\n",
       "      <td>Litecoin</td>\n",
       "      <td>3</td>\n",
       "    </tr>\n",
       "    <tr>\n",
       "      <th>DASH</th>\n",
       "      <td>X11</td>\n",
       "      <td>PoW/PoS</td>\n",
       "      <td>9.031294e+06</td>\n",
       "      <td>22000000</td>\n",
       "      <td>-0.409009</td>\n",
       "      <td>1.279648</td>\n",
       "      <td>-0.488588</td>\n",
       "      <td>Dash</td>\n",
       "      <td>0</td>\n",
       "    </tr>\n",
       "    <tr>\n",
       "      <th>XMR</th>\n",
       "      <td>CryptoNight-V7</td>\n",
       "      <td>PoW</td>\n",
       "      <td>1.720114e+07</td>\n",
       "      <td>0</td>\n",
       "      <td>-0.154765</td>\n",
       "      <td>-2.249975</td>\n",
       "      <td>0.368860</td>\n",
       "      <td>Monero</td>\n",
       "      <td>3</td>\n",
       "    </tr>\n",
       "    <tr>\n",
       "      <th>ETC</th>\n",
       "      <td>Ethash</td>\n",
       "      <td>PoW</td>\n",
       "      <td>1.133597e+08</td>\n",
       "      <td>210000000</td>\n",
       "      <td>-0.152212</td>\n",
       "      <td>-2.057909</td>\n",
       "      <td>0.333616</td>\n",
       "      <td>Ethereum Classic</td>\n",
       "      <td>3</td>\n",
       "    </tr>\n",
       "    <tr>\n",
       "      <th>ZEC</th>\n",
       "      <td>Equihash</td>\n",
       "      <td>PoW</td>\n",
       "      <td>7.383056e+06</td>\n",
       "      <td>21000000</td>\n",
       "      <td>-0.147654</td>\n",
       "      <td>-1.884350</td>\n",
       "      <td>0.391205</td>\n",
       "      <td>ZCash</td>\n",
       "      <td>3</td>\n",
       "    </tr>\n",
       "  </tbody>\n",
       "</table>\n",
       "</div>"
      ],
      "text/plain": [
       "           Algorithm ProofType  TotalCoinsMined TotalCoinSupply      PC 1  \\\n",
       "42            Scrypt   PoW/PoS     4.199995e+01              42 -0.315206   \n",
       "404           Scrypt   PoW/PoS     1.055185e+09       532000000 -0.298566   \n",
       "1337             X13   PoW/PoS     2.927942e+10    314159265359  2.301882   \n",
       "BTC          SHA-256       PoW     1.792718e+07        21000000 -0.153953   \n",
       "ETH           Ethash       PoW     1.076842e+08               0 -0.153767   \n",
       "LTC           Scrypt       PoW     6.303924e+07        84000000 -0.149962   \n",
       "DASH             X11   PoW/PoS     9.031294e+06        22000000 -0.409009   \n",
       "XMR   CryptoNight-V7       PoW     1.720114e+07               0 -0.154765   \n",
       "ETC           Ethash       PoW     1.133597e+08       210000000 -0.152212   \n",
       "ZEC         Equihash       PoW     7.383056e+06        21000000 -0.147654   \n",
       "\n",
       "          PC 2      PC 3          CoinName  Class  \n",
       "42    1.013083 -0.520721           42 Coin      0  \n",
       "404   1.013201 -0.521090           404Coin      0  \n",
       "1337  1.665589 -0.663846         EliteCoin      0  \n",
       "BTC  -1.320222  0.178467           Bitcoin      3  \n",
       "ETH  -2.057800  0.333633          Ethereum      3  \n",
       "LTC  -1.142734  0.004207          Litecoin      3  \n",
       "DASH  1.279648 -0.488588              Dash      0  \n",
       "XMR  -2.249975  0.368860            Monero      3  \n",
       "ETC  -2.057909  0.333616  Ethereum Classic      3  \n",
       "ZEC  -1.884350  0.391205             ZCash      3  "
      ]
     },
     "execution_count": 104,
     "metadata": {},
     "output_type": "execute_result"
    }
   ],
   "source": [
    "#  Add a new column, \"CoinName\" to the clustered_df DataFrame that holds the names of the cryptocurrencies. \n",
    "clustered_df['CoinName'] = coin_name_df[\"CoinName\"]\n",
    "\n",
    "#  Add a new column, \"Class\" to the clustered_df DataFrame that holds the predictions.\n",
    "clustered_df[\"Class\"] = km_model.labels_\n",
    "\n",
    "# Print the shape of the clustered_df\n",
    "print(clustered_df.shape)\n",
    "clustered_df.head(10)"
   ]
  },
  {
   "cell_type": "markdown",
   "metadata": {},
   "source": [
    "### Visualizing Results\n",
    "\n",
    "#### 3D-Scatter with Clusters"
   ]
  },
  {
   "cell_type": "code",
   "execution_count": 105,
   "metadata": {},
   "outputs": [
    {
     "data": {
      "application/vnd.plotly.v1+json": {
       "config": {
        "plotlyServerURL": "https://plot.ly"
       },
       "data": [
        {
         "customdata": [
          [
           "Scrypt"
          ],
          [
           "Scrypt"
          ],
          [
           "X13"
          ],
          [
           "X11"
          ],
          [
           "SHA-512"
          ],
          [
           "SHA-256"
          ],
          [
           "SHA-256"
          ],
          [
           "X15"
          ],
          [
           "Scrypt"
          ],
          [
           "Scrypt"
          ],
          [
           "Scrypt"
          ],
          [
           "Scrypt"
          ],
          [
           "Scrypt"
          ],
          [
           "Scrypt"
          ],
          [
           "Groestl"
          ],
          [
           "PoS"
          ],
          [
           "Scrypt"
          ],
          [
           "Scrypt"
          ],
          [
           "X11"
          ],
          [
           "X11"
          ],
          [
           "SHA3"
          ],
          [
           "Scrypt"
          ],
          [
           "SHA-256"
          ],
          [
           "Scrypt"
          ],
          [
           "X13"
          ],
          [
           "X13"
          ],
          [
           "NeoScrypt"
          ],
          [
           "Scrypt"
          ],
          [
           "Scrypt"
          ],
          [
           "Scrypt"
          ],
          [
           "X11"
          ],
          [
           "X11"
          ],
          [
           "Multiple"
          ],
          [
           "PHI1612"
          ],
          [
           "X11"
          ],
          [
           "Scrypt"
          ],
          [
           "Scrypt"
          ],
          [
           "Scrypt"
          ],
          [
           "X11"
          ],
          [
           "Multiple"
          ],
          [
           "X13"
          ],
          [
           "Scrypt"
          ],
          [
           "Shabal256"
          ],
          [
           "Counterparty"
          ],
          [
           "SHA-256"
          ],
          [
           "Groestl"
          ],
          [
           "Scrypt"
          ],
          [
           "X13"
          ],
          [
           "Scrypt"
          ],
          [
           "Scrypt"
          ],
          [
           "X13"
          ],
          [
           "X11"
          ],
          [
           "Scrypt"
          ],
          [
           "X11"
          ],
          [
           "SHA3"
          ],
          [
           "QUAIT"
          ],
          [
           "X11"
          ],
          [
           "Scrypt"
          ],
          [
           "X13"
          ],
          [
           "SHA-256"
          ],
          [
           "X15"
          ],
          [
           "BLAKE256"
          ],
          [
           "SHA-256"
          ],
          [
           "X11"
          ],
          [
           "SHA-256"
          ],
          [
           "NIST5"
          ],
          [
           "Scrypt"
          ],
          [
           "Scrypt"
          ],
          [
           "X11"
          ],
          [
           "Scrypt"
          ],
          [
           "SHA-256"
          ],
          [
           "Scrypt"
          ],
          [
           "PoS"
          ],
          [
           "X11"
          ],
          [
           "SHA-256"
          ],
          [
           "SHA-256"
          ],
          [
           "NIST5"
          ],
          [
           "X11"
          ],
          [
           "POS 3.0"
          ],
          [
           "Scrypt"
          ],
          [
           "Scrypt"
          ],
          [
           "Scrypt"
          ],
          [
           "X13"
          ],
          [
           "X11"
          ],
          [
           "X11"
          ],
          [
           "Scrypt"
          ],
          [
           "SHA-256"
          ],
          [
           "X11"
          ],
          [
           "Scrypt"
          ],
          [
           "Scrypt"
          ],
          [
           "Scrypt"
          ],
          [
           "Scrypt"
          ],
          [
           "SHA-256D"
          ],
          [
           "PoS"
          ],
          [
           "Scrypt"
          ],
          [
           "X11"
          ],
          [
           "PoS"
          ],
          [
           "X13"
          ],
          [
           "X14"
          ],
          [
           "PoS"
          ],
          [
           "SHA-256D"
          ],
          [
           "DPoS"
          ],
          [
           "X11"
          ],
          [
           "X13"
          ],
          [
           "X11"
          ],
          [
           "PoS"
          ],
          [
           "Scrypt"
          ],
          [
           "Scrypt"
          ],
          [
           "PoS"
          ],
          [
           "X11"
          ],
          [
           "SHA-256"
          ],
          [
           "Scrypt"
          ],
          [
           "X11"
          ],
          [
           "Scrypt"
          ],
          [
           "Scrypt"
          ],
          [
           "X11"
          ],
          [
           "Scrypt"
          ],
          [
           "Scrypt"
          ],
          [
           "Scrypt"
          ],
          [
           "Scrypt"
          ],
          [
           "Quark"
          ],
          [
           "QuBit"
          ],
          [
           "Scrypt"
          ],
          [
           "SHA-256"
          ],
          [
           "X11"
          ],
          [
           "Scrypt"
          ],
          [
           "Scrypt"
          ],
          [
           "Scrypt"
          ],
          [
           "Scrypt"
          ],
          [
           "X13"
          ],
          [
           "Scrypt"
          ],
          [
           "Scrypt"
          ],
          [
           "X11"
          ],
          [
           "Blake2S"
          ],
          [
           "X11"
          ],
          [
           "PoS"
          ],
          [
           "X11"
          ],
          [
           "PoS"
          ],
          [
           "X11"
          ],
          [
           "Scrypt"
          ],
          [
           "Scrypt"
          ],
          [
           "Scrypt"
          ],
          [
           "SHA-256"
          ],
          [
           "X11"
          ],
          [
           "Scrypt"
          ],
          [
           "PoS"
          ],
          [
           "Scrypt"
          ],
          [
           "X15"
          ],
          [
           "SHA-256"
          ],
          [
           "POS 3.0"
          ],
          [
           "536"
          ],
          [
           "NIST5"
          ],
          [
           "NIST5"
          ],
          [
           "Skein"
          ],
          [
           "X13"
          ],
          [
           "Scrypt"
          ],
          [
           "X13"
          ],
          [
           "SkunkHash v2 Raptor"
          ],
          [
           "Skein"
          ],
          [
           "X11"
          ],
          [
           "Scrypt"
          ],
          [
           "VeChainThor Authority"
          ],
          [
           "PoS"
          ],
          [
           "Scrypt"
          ],
          [
           "Scrypt"
          ],
          [
           "SHA-512"
          ],
          [
           "Ouroboros"
          ],
          [
           "X11"
          ],
          [
           "NeoScrypt"
          ],
          [
           "Scrypt"
          ],
          [
           "Lyra2REv2"
          ],
          [
           "Scrypt"
          ],
          [
           "SHA-256"
          ],
          [
           "NIST5"
          ],
          [
           "PHI1612"
          ],
          [
           "Scrypt"
          ],
          [
           "Quark"
          ],
          [
           "POS 2.0"
          ],
          [
           "Scrypt"
          ],
          [
           "SHA-256"
          ],
          [
           "X11"
          ],
          [
           "DPoS"
          ],
          [
           "NIST5"
          ],
          [
           "X13"
          ],
          [
           "Scrypt"
          ],
          [
           "NIST5"
          ],
          [
           "Quark"
          ],
          [
           "Scrypt"
          ],
          [
           "Scrypt"
          ],
          [
           "X11"
          ],
          [
           "Quark"
          ],
          [
           "Scrypt"
          ],
          [
           "Scrypt"
          ],
          [
           "X11"
          ],
          [
           "POS 3.0"
          ],
          [
           "Ethash"
          ],
          [
           "Scrypt"
          ],
          [
           "Scrypt"
          ],
          [
           "X13"
          ],
          [
           "SHA-256 + Hive"
          ],
          [
           "C11"
          ],
          [
           "X11"
          ],
          [
           "XEVAN"
          ],
          [
           "Scrypt"
          ],
          [
           "VBFT"
          ],
          [
           "NIST5"
          ],
          [
           "Scrypt"
          ],
          [
           "Scrypt"
          ],
          [
           "Scrypt"
          ],
          [
           "Green Protocol"
          ],
          [
           "PoS"
          ],
          [
           "Scrypt"
          ],
          [
           "Semux BFT consensus"
          ],
          [
           "Quark"
          ],
          [
           "PoS"
          ],
          [
           "X16R"
          ],
          [
           "Scrypt"
          ],
          [
           "XEVAN"
          ],
          [
           "Scrypt"
          ],
          [
           "Scrypt"
          ],
          [
           "Scrypt"
          ],
          [
           "SHA-256D"
          ],
          [
           "Scrypt"
          ],
          [
           "X15"
          ],
          [
           "Scrypt"
          ],
          [
           "Quark"
          ],
          [
           "SHA-256"
          ],
          [
           "DPoS"
          ],
          [
           "X16R"
          ],
          [
           "Quark"
          ],
          [
           "Quark"
          ],
          [
           "Scrypt"
          ],
          [
           "Lyra2REv2"
          ],
          [
           "Quark"
          ],
          [
           "Scrypt"
          ],
          [
           "X11"
          ],
          [
           "X11"
          ],
          [
           "Scrypt"
          ],
          [
           "PoS"
          ],
          [
           "Keccak"
          ],
          [
           "X11"
          ],
          [
           "Scrypt"
          ],
          [
           "SHA-512"
          ],
          [
           "XEVAN"
          ],
          [
           "X11"
          ],
          [
           "Quark"
          ],
          [
           "Equihash"
          ],
          [
           "Scrypt"
          ],
          [
           "Quark"
          ],
          [
           "Quark"
          ],
          [
           "Scrypt"
          ],
          [
           "X11"
          ],
          [
           "Scrypt"
          ],
          [
           "XEVAN"
          ],
          [
           "SHA-256D"
          ],
          [
           "X11"
          ],
          [
           "X11"
          ],
          [
           "DPoS"
          ],
          [
           "Scrypt"
          ],
          [
           "X11"
          ],
          [
           "Scrypt"
          ],
          [
           "Scrypt"
          ],
          [
           "SHA-256"
          ],
          [
           "Scrypt"
          ],
          [
           "X11"
          ],
          [
           "Scrypt"
          ],
          [
           "SHA-256"
          ],
          [
           "X11"
          ],
          [
           "Scrypt"
          ],
          [
           "Scrypt"
          ],
          [
           "X11"
          ],
          [
           "Scrypt"
          ],
          [
           "PoS"
          ],
          [
           "X11"
          ],
          [
           "SHA-256"
          ],
          [
           "DPoS"
          ],
          [
           "Scrypt"
          ],
          [
           "Scrypt"
          ],
          [
           "NeoScrypt"
          ],
          [
           "X13"
          ],
          [
           "DPoS"
          ],
          [
           "DPoS"
          ],
          [
           "SHA-256"
          ],
          [
           "PoS"
          ],
          [
           "PoS"
          ],
          [
           "SHA-256"
          ],
          [
           "Scrypt"
          ],
          [
           "Scrypt"
          ]
         ],
         "hovertemplate": "<b>%{hovertext}</b><br><br>Class=%{marker.color}<br>PC 1=%{x}<br>PC 2=%{y}<br>PC 3=%{z}<br>Algorithm=%{customdata[0]}<extra></extra>",
         "hovertext": [
          "42 Coin",
          "404Coin",
          "EliteCoin",
          "Dash",
          "Bitshares",
          "BitcoinDark",
          "PayCoin",
          "KoboCoin",
          "Aurora Coin",
          "BlueCoin",
          "EnergyCoin",
          "BitBar",
          "CryptoBullion",
          "CasinoCoin",
          "Diamond",
          "Exclusive Coin",
          "FlutterCoin",
          "HoboNickels",
          "HyperStake",
          "IOCoin",
          "MaxCoin",
          "MintCoin",
          "MazaCoin",
          "Nautilus Coin",
          "NavCoin",
          "OpalCoin",
          "Orbitcoin",
          "PotCoin",
          "PhoenixCoin",
          "Reddcoin",
          "SuperCoin",
          "SyncCoin",
          "TeslaCoin",
          "TittieCoin",
          "TorCoin",
          "UnitaryStatus Dollar",
          "UltraCoin",
          "VeriCoin",
          "X11 Coin",
          "Crypti",
          "StealthCoin",
          "ZCC Coin",
          "BurstCoin",
          "StorjCoin",
          "Neutron",
          "FairCoin",
          "RubyCoin",
          "Kore",
          "Dnotes",
          "8BIT Coin",
          "Sativa Coin",
          "Ucoin",
          "Vtorrent",
          "IslaCoin",
          "Nexus",
          "Droidz",
          "Squall Coin",
          "Diggits",
          "Paycon",
          "Emercoin",
          "EverGreenCoin",
          "Decred",
          "EDRCoin",
          "Hitcoin",
          "DubaiCoin",
          "PWR Coin",
          "BillaryCoin",
          "GPU Coin",
          "EuropeCoin",
          "ZeitCoin",
          "SwingCoin",
          "SafeExchangeCoin",
          "Nebuchadnezzar",
          "Ratecoin",
          "Revenu",
          "Clockcoin",
          "VIP Tokens",
          "BitSend",
          "Let it Ride",
          "PutinCoin",
          "iBankCoin",
          "Frankywillcoin",
          "MudraCoin",
          "Lutetium Coin",
          "GoldBlocks",
          "CarterCoin",
          "BitTokens",
          "MustangCoin",
          "ZoneCoin",
          "RootCoin",
          "BitCurrency",
          "Swiscoin",
          "BuzzCoin",
          "Opair",
          "PesoBit",
          "Halloween Coin",
          "CoffeeCoin",
          "RoyalCoin",
          "GanjaCoin V2",
          "TeamUP",
          "LanaCoin",
          "ARK",
          "InsaneCoin",
          "EmberCoin",
          "XenixCoin",
          "FreeCoin",
          "PLNCoin",
          "AquariusCoin",
          "Creatio",
          "Eternity",
          "Eurocoin",
          "BitcoinFast",
          "Stakenet",
          "BitConnect Coin",
          "MoneyCoin",
          "Enigma",
          "Russiacoin",
          "PandaCoin",
          "GameUnits",
          "GAKHcoin",
          "Allsafe",
          "LiteCreed",
          "Klingon Empire Darsek",
          "Internet of People",
          "KushCoin",
          "Printerium",
          "Impeach",
          "Zilbercoin",
          "FirstCoin",
          "FindCoin",
          "OpenChat",
          "RenosCoin",
          "VirtacoinPlus",
          "TajCoin",
          "Impact",
          "Atmos",
          "HappyCoin",
          "MacronCoin",
          "Condensate",
          "Independent Money System",
          "ArgusCoin",
          "LomoCoin",
          "ProCurrency",
          "GoldReserve",
          "GrowthCoin",
          "Phreak",
          "Degas Coin",
          "HTML5 Coin",
          "Ultimate Secure Cash",
          "QTUM",
          "Espers",
          "Denarius",
          "Virta Unique Coin",
          "Bitcoin Planet",
          "BritCoin",
          "Linda",
          "DeepOnion",
          "Signatum",
          "Cream",
          "Monoeci",
          "Draftcoin",
          "Vechain",
          "Stakecoin",
          "CoinonatX",
          "Ethereum Dark",
          "Obsidian",
          "Cardano",
          "Regalcoin",
          "TrezarCoin",
          "TerraNovaCoin",
          "Rupee",
          "WomenCoin",
          "Theresa May Coin",
          "NamoCoin",
          "LUXCoin",
          "Xios",
          "Bitcloud 2.0",
          "KekCoin",
          "BlackholeCoin",
          "Infinity Economics",
          "Magnet",
          "Lamden Tau",
          "Electra",
          "Bitcoin Diamond",
          "Cash & Back Coin",
          "Bulwark",
          "Kalkulus",
          "GermanCoin",
          "LiteCoin Ultra",
          "PhantomX",
          "Digiwage",
          "Trollcoin",
          "Litecoin Plus",
          "Monkey Project",
          "TokenPay",
          "1717 Masonic Commemorative Token",
          "My Big Coin",
          "Unified Society USDEX",
          "Tokyo Coin",
          "LitecoinCash",
          "Stipend",
          "Pushi",
          "Ellerium",
          "Velox",
          "Ontology",
          "Bitspace",
          "Briacoin",
          "Ignition",
          "MedicCoin",
          "Bitcoin Green",
          "Deviant Coin",
          "Abjcoin",
          "Semux",
          "Carebit",
          "Zealium",
          "Proton",
          "iDealCash",
          "Bitcoin Incognito",
          "HollyWoodCoin",
          "Swisscoin",
          "Xt3ch",
          "TheVig",
          "EmaratCoin",
          "Dekado",
          "Lynx",
          "Poseidon Quark",
          "BitcoinWSpectrum",
          "Muse",
          "Trivechain",
          "Dystem",
          "Giant",
          "Peony Coin",
          "Absolute Coin",
          "Vitae",
          "TPCash",
          "ARENON",
          "EUNO",
          "MMOCoin",
          "Ketan",
          "XDNA",
          "PAXEX",
          "ThunderStake",
          "Kcash",
          "Bettex coin",
          "Junson Ming Chan Coin",
          "HerbCoin",
          "PirateCash",
          "Oduwa",
          "Galilel",
          "Crypto Sports",
          "Credit",
          "Dash Platinum",
          "Nasdacoin",
          "Beetle Coin",
          "Titan Coin",
          "Award",
          "Insane Coin",
          "ALAX",
          "LiteDoge",
          "TruckCoin",
          "OrangeCoin",
          "BitstarCoin",
          "NeosCoin",
          "HyperCoin",
          "PinkCoin",
          "AudioCoin",
          "IncaKoin",
          "Piggy Coin",
          "Genstake",
          "XiaoMiCoin",
          "CapriCoin",
          " ClubCoin",
          "Radium",
          "Creditbit ",
          "OKCash",
          "Lisk",
          "HiCoin",
          "WhiteCoin",
          "FriendshipCoin",
          "Triangles Coin",
          "EOS",
          "Oxycoin",
          "TigerCash",
          "Particl",
          "Nxt",
          "ZEPHYR",
          "Gapcoin",
          "BitcoinPlus"
         ],
         "legendgroup": "0",
         "marker": {
          "color": [
           0,
           0,
           0,
           0,
           0,
           0,
           0,
           0,
           0,
           0,
           0,
           0,
           0,
           0,
           0,
           0,
           0,
           0,
           0,
           0,
           0,
           0,
           0,
           0,
           0,
           0,
           0,
           0,
           0,
           0,
           0,
           0,
           0,
           0,
           0,
           0,
           0,
           0,
           0,
           0,
           0,
           0,
           0,
           0,
           0,
           0,
           0,
           0,
           0,
           0,
           0,
           0,
           0,
           0,
           0,
           0,
           0,
           0,
           0,
           0,
           0,
           0,
           0,
           0,
           0,
           0,
           0,
           0,
           0,
           0,
           0,
           0,
           0,
           0,
           0,
           0,
           0,
           0,
           0,
           0,
           0,
           0,
           0,
           0,
           0,
           0,
           0,
           0,
           0,
           0,
           0,
           0,
           0,
           0,
           0,
           0,
           0,
           0,
           0,
           0,
           0,
           0,
           0,
           0,
           0,
           0,
           0,
           0,
           0,
           0,
           0,
           0,
           0,
           0,
           0,
           0,
           0,
           0,
           0,
           0,
           0,
           0,
           0,
           0,
           0,
           0,
           0,
           0,
           0,
           0,
           0,
           0,
           0,
           0,
           0,
           0,
           0,
           0,
           0,
           0,
           0,
           0,
           0,
           0,
           0,
           0,
           0,
           0,
           0,
           0,
           0,
           0,
           0,
           0,
           0,
           0,
           0,
           0,
           0,
           0,
           0,
           0,
           0,
           0,
           0,
           0,
           0,
           0,
           0,
           0,
           0,
           0,
           0,
           0,
           0,
           0,
           0,
           0,
           0,
           0,
           0,
           0,
           0,
           0,
           0,
           0,
           0,
           0,
           0,
           0,
           0,
           0,
           0,
           0,
           0,
           0,
           0,
           0,
           0,
           0,
           0,
           0,
           0,
           0,
           0,
           0,
           0,
           0,
           0,
           0,
           0,
           0,
           0,
           0,
           0,
           0,
           0,
           0,
           0,
           0,
           0,
           0,
           0,
           0,
           0,
           0,
           0,
           0,
           0,
           0,
           0,
           0,
           0,
           0,
           0,
           0,
           0,
           0,
           0,
           0,
           0,
           0,
           0,
           0,
           0,
           0,
           0,
           0,
           0,
           0,
           0,
           0,
           0,
           0,
           0,
           0,
           0,
           0,
           0,
           0,
           0,
           0,
           0,
           0,
           0,
           0,
           0,
           0,
           0,
           0,
           0,
           0,
           0,
           0,
           0,
           0,
           0,
           0,
           0,
           0,
           0,
           0,
           0,
           0,
           0,
           0,
           0,
           0
          ],
          "coloraxis": "coloraxis",
          "symbol": "circle"
         },
         "mode": "markers",
         "name": "0",
         "scene": "scene",
         "showlegend": true,
         "type": "scatter3d",
         "x": [
          -0.3152059864456756,
          -0.29856578189219235,
          2.301882280013056,
          -0.40900875030881,
          -0.34960609935695325,
          -0.31802971505355654,
          -0.27951046041650507,
          -0.2347296318985294,
          -0.3148660412454597,
          -0.3074523005128703,
          -0.3137043276394727,
          -0.3152019296828331,
          -0.3151862315516793,
          0.6609166827690622,
          -0.36310856243442413,
          -0.34400397003509764,
          -0.2492268567613846,
          -0.313267597474507,
          -0.3503368460083462,
          -0.40890357039630154,
          -0.4249596219030516,
          -0.016913489484244124,
          -0.28139019977911384,
          -0.2764382307845225,
          -0.2775819321058623,
          -0.2782034084786287,
          -0.3485219083214071,
          -0.30951687295815683,
          -0.3136100594771912,
          0.042513834910414085,
          -0.3702000391463246,
          -0.4092746042582053,
          -0.2600500783198289,
          -0.3300738912088406,
          -0.4091863936721685,
          -0.290474540733586,
          -0.3138853976159359,
          -0.25688774091436134,
          -0.4091508909675412,
          -0.26051680918672987,
          -0.27798452990195777,
          -0.3063241506896503,
          -0.06423363138089998,
          -0.35988450221456375,
          -0.31724256816318686,
          -0.36253078637823816,
          -0.2764184394866318,
          -0.27827876133613316,
          -0.2710810546680053,
          -0.31518807609511856,
          -0.27823099393872924,
          -0.37064445135577184,
          -0.314922861919998,
          -0.4092561548982011,
          -0.44725112869561945,
          -0.4364380269964015,
          -0.4843086351218869,
          -0.27482231636339166,
          -0.27775337741094547,
          -0.3105996793511,
          -0.2371667229390786,
          -0.07370709155138642,
          -0.3180006632523812,
          -0.08722545043240434,
          -0.31806423007433066,
          -0.22902437431853317,
          -0.3147989890136058,
          -0.2746920696222619,
          -0.40643044712105014,
          0.8749113575762344,
          -0.3178646633604304,
          -0.06881875375194535,
          -0.3436877082338642,
          -0.40710203436076264,
          -0.31661052332929923,
          -0.3142828867080449,
          -0.3502405288639058,
          -0.40799347291863375,
          -0.3503637760941263,
          -0.29113231635145015,
          -0.3148370525219943,
          -0.3132781485281818,
          -0.2384563076202282,
          -0.35815289309398374,
          -0.40873090919485067,
          -0.3140424249773396,
          -0.3180452525924224,
          -0.4092453729565286,
          -0.31502588500628687,
          -0.31518231598392443,
          -0.27468064756902694,
          -0.1890741662942536,
          0.035216546178623055,
          -0.34264626279767074,
          -0.31479692724478636,
          -0.3954309132104029,
          -0.341975536820721,
          -0.23988432174018534,
          -0.3864080442344114,
          -0.34172596873131433,
          -0.2788817556220404,
          3.7629279865179237,
          -0.40883851955611367,
          0.8525985202668575,
          -0.4092003397705209,
          -0.3431093566157069,
          -0.31472474423819635,
          -0.31487890445310757,
          -0.3436877082338642,
          -0.40877600337558695,
          -0.31790808268283843,
          -0.31472545380349165,
          -0.4318009669113576,
          -0.31487264794262354,
          -0.31046873454264123,
          -0.409229304753734,
          -0.3140848128273446,
          0.36592646906386683,
          -0.31507162054532273,
          -0.3151420641909182,
          -0.3635484222924204,
          -0.338096113991128,
          -0.31137555118125504,
          -0.318021694065208,
          -0.40913938228945684,
          -0.3149202139293491,
          -0.3150470264114172,
          -0.2763253120783162,
          -0.24021680404551218,
          -0.23965250438693475,
          -0.2959275999834687,
          -0.2760666532109267,
          -0.40840640849301124,
          -0.4045984109020725,
          -0.4071463108615752,
          -0.34193674120786777,
          -0.4083044139723961,
          -0.33634457658902306,
          -0.40425201568569225,
          -0.31499037643121075,
          -0.314989601284867,
          -0.308123883282115,
          0.2521818242756597,
          -0.40878205377977,
          -0.2589967930911122,
          -0.34372200797909563,
          -0.3142023791127876,
          0.8954593326419066,
          -0.278203275142333,
          -0.3491438711428698,
          0.5911141981311326,
          -0.35177400218269034,
          -0.35027849928399685,
          -0.3975500944490506,
          -0.27791655074427346,
          0.14896387685821966,
          -0.27798718875437717,
          -0.3346595351794576,
          -0.3970555630379135,
          -0.4090539772461483,
          -0.27639925422594525,
          4.359707436645436,
          -0.34358858491768846,
          -0.3146261264036131,
          -0.3151250180288302,
          -0.4075857094427067,
          0.6365254170757335,
          -0.40899495499927535,
          -0.34352885895802243,
          -0.3150807384612525,
          -0.3041156362625316,
          0.4530151973794075,
          -0.31637027477202323,
          -0.3365642517384165,
          -0.4040748709455676,
          -0.3150311598774594,
          -0.4004487817018034,
          -0.3795139261272188,
          -0.31490168330809165,
          -0.10623979681452084,
          -0.40778956735477,
          3.767776556001879,
          0.20692177046543314,
          -0.2746628389407966,
          -0.3123658429247888,
          -0.31308206433333524,
          -0.3634344834227943,
          0.09852616650967055,
          -0.3140418500539161,
          -0.4083695924277459,
          -0.36260066271552704,
          -0.3016256979385022,
          -0.31514712254034527,
          -0.37061641848977056,
          -0.35064532153684413,
          -0.28047406669657116,
          -0.24184663630557104,
          -0.31069867017885333,
          -0.23146152184338667,
          -0.5581168503319236,
          -0.38023354147317473,
          -0.40907127296710527,
          -0.40230281236771265,
          -0.2755607156140284,
          -0.3183095625576247,
          -0.3513736181749997,
          -0.31517444044928905,
          -0.3151561821499328,
          -0.26995048468018906,
          -0.3809778923498607,
          -0.34318364121044415,
          -0.314873141483038,
          3.959160749882754,
          -0.399118379564498,
          -0.34337205124804426,
          -0.31794888251089776,
          -0.2618289761181914,
          -0.47748885253370155,
          -0.27609386364674937,
          -0.11856643708195665,
          -0.276345706774364,
          -0.34408601168114794,
          -0.3143480395743302,
          -0.1980557008888278,
          2.299346162305769,
          -0.35915035752409324,
          -0.2783303944362018,
          1.0385881057208046,
          -0.35574222183081167,
          -0.36354788610936667,
          -0.40213005602541124,
          -0.15729451311051806,
          -0.3424999698454538,
          -0.3622692891510836,
          -0.3080640451985927,
          -0.3701944794094295,
          -0.4085453444469861,
          -0.2735954182169617,
          -0.3424735021493449,
          -0.3399618267961301,
          -0.37005622591645243,
          -0.17490396996501212,
          -0.5162007618433815,
          -0.3638400338624234,
          -0.16081668713966066,
          -0.4014257393880437,
          -0.2724097057725389,
          -0.31487706985743114,
          -0.4018811609340276,
          -0.36366469011018776,
          0.59022618638939,
          -0.37067066352515793,
          -0.31436088638464466,
          -0.39676696757603513,
          -0.298881439537112,
          -0.40611454089760585,
          -0.4087722222035102,
          3.7800015500105166,
          0.11938106021513144,
          -0.4063146431969392,
          -0.3137476250348678,
          -0.31457098805148814,
          -0.2795430900573202,
          -0.31508846364994775,
          -0.40041206960588355,
          -0.22894068265341416,
          -0.09794925111197932,
          -0.39616770827748765,
          -0.31436770414420356,
          -0.3074419610523595,
          -0.40534569217194377,
          -0.3128093928357522,
          -0.34396296364450096,
          -0.47410997177223047,
          -0.3165469079556395,
          3.7633191800576036,
          -0.08390077574234103,
          -0.3100081176329467,
          -0.34814846272007083,
          -0.2783857853190674,
          3.773176239399214,
          3.7744189029060595,
          -0.2604668948677247,
          -0.34389890436691206,
          -0.27022286636632226,
          2.4812965178791044,
          -0.3132547921940889,
          -0.2767415131924511
         ],
         "y": [
          1.0130834109545985,
          1.0132008945219007,
          1.6655890635147954,
          1.2796481483049371,
          1.936185862879651,
          0.8355675278299882,
          0.6271503777720135,
          1.8794244819175425,
          1.0130813708029058,
          1.0133247050433924,
          1.0131301424825678,
          1.0130831609558033,
          1.013083273203792,
          0.40237225654613534,
          0.9356174128131141,
          1.4985644450051434,
          0.4257374213208832,
          1.0130534271194775,
          1.0718675539309879,
          1.2796514214950139,
          1.6379091661090381,
          0.8127432332296363,
          0.8349037262415613,
          0.804654668696291,
          1.8217378750396978,
          1.8217185347470006,
          0.5643739691505684,
          1.0129443834292913,
          1.0130593258983198,
          1.024215621882245,
          1.0712494130232737,
          1.2796564303674363,
          0.10478353936029149,
          1.7433099551682658,
          1.27965165069527,
          1.0126489665829854,
          1.0130492522923362,
          0.3457386182176352,
          1.2796561420253143,
          0.10484427004250454,
          1.821725346229984,
          1.0126072598942433,
          0.794074495820831,
          1.7785671602458468,
          0.8355574063337734,
          0.9356386893380952,
          0.8046674609086141,
          1.821707159135456,
          0.8044572833387748,
          1.0130839683548318,
          1.8217101507590194,
          1.0712205318909729,
          1.0130771707362163,
          1.2796570052625278,
          1.2919009108582347,
          2.1485463777901312,
          0.46410897119648215,
          0.8046418768188777,
          1.8216949120222945,
          0.8350627530095719,
          1.8795922427845677,
          0.830745864909964,
          0.8355684319196093,
          1.269698289628505,
          0.8355751080858191,
          1.5078371633111343,
          1.0130644694829947,
          0.8045548315558425,
          1.2794559606703653,
          0.7659939931720183,
          0.8355591182694726,
          0.40814897850906856,
          1.4985592359843798,
          1.2796675998325424,
          0.8354606367412245,
          0.8353055946166182,
          1.5039971969516874,
          1.2795916949423014,
          1.50592784234744,
          1.0123274754299352,
          1.013061528992871,
          1.0130681498331144,
          1.6131819352909766,
          1.0711298918282337,
          1.2796357232109876,
          1.0130518911447661,
          0.8355677968561569,
          1.2796550831364186,
          1.0130732121133177,
          1.01308414760901,
          0.80472154084762,
          0.24421361088534171,
          1.935748589107753,
          1.4985510078130053,
          1.0130961408743109,
          1.2789584160107312,
          1.498597467630647,
          1.613286124750534,
          1.840153151961587,
          1.498408817738787,
          1.9353762743954253,
          1.941649068817471,
          1.2796474254470969,
          1.8562693259949683,
          1.2796558423917066,
          1.4985546576460065,
          1.0130693838078377,
          1.0130619825212077,
          1.4985592359843798,
          1.2796267943530857,
          0.835572818125338,
          1.013073530870273,
          0.7723750497141043,
          1.0130727129663708,
          1.0127411778093487,
          1.2796540780713908,
          1.0130099341722527,
          0.8001879799254412,
          1.013077809251789,
          1.0130829049342234,
          1.5451206875518686,
          0.6715543261727506,
          1.0128263372724005,
          0.8355685299955516,
          1.2796535998348533,
          1.0130772531414636,
          1.0130718518119386,
          0.8046289686065187,
          0.3272715141591202,
          1.6132842896414925,
          1.0129307996819292,
          0.8046525007575003,
          1.2796081939918043,
          1.9646723414755256,
          1.2796398825938406,
          1.4985457778917375,
          1.2796113680527483,
          1.4985017834571366,
          1.279436457117322,
          1.01307415750489,
          1.0130686218563043,
          1.0125512523666211,
          0.5872645232865615,
          1.2796416571265583,
          0.8037045149316628,
          1.4985506430484075,
          1.013035625089302,
          1.8471294845144577,
          0.6270498902013761,
          1.5059157609077716,
          1.898329214869039,
          1.5040096796365505,
          1.5039734387230768,
          1.8752551320477437,
          1.8217048851433641,
          0.9899006844162408,
          1.8217110415974707,
          1.3493059550293478,
          1.8752705218238606,
          1.279656142288089,
          0.8046549590953388,
          2.6570237482944226,
          1.4985310145120085,
          1.013065143991109,
          1.013082769993652,
          1.9370223876456962,
          1.5910755176561837,
          1.2796448148484334,
          0.5642311683230075,
          1.0130754685248484,
          0.6018331295721457,
          1.0181765629891146,
          0.8355604703326169,
          1.503587467635293,
          1.9523157850584847,
          1.013073047959768,
          1.7534561444287615,
          1.6949488163682758,
          1.0130817519117867,
          0.6257789755374608,
          1.2795942777009943,
          1.9415177484899862,
          1.4988271785276215,
          1.8216706808284242,
          1.01301375986863,
          1.2955774218900786,
          1.5451204705545674,
          0.9883310670923142,
          1.0130067558517022,
          1.2796469673585342,
          1.5450711636774574,
          1.0128287306582748,
          1.013082232613719,
          1.071220651718339,
          1.5059254773779873,
          -0.11047065983848675,
          0.27149270546553855,
          1.0130490859772265,
          1.6129480805924943,
          3.033825897915702,
          1.1225453021774199,
          1.279643944945817,
          1.002738002716804,
          0.8046008366221554,
          1.5316066838014633,
          1.5039920374302655,
          1.0130821350357568,
          1.0130811981263501,
          0.8044924665821556,
          1.6981088002677056,
          1.4985237488987022,
          1.0130711925012803,
          2.0193760266790006,
          1.7534975464319074,
          1.4985239060187212,
          0.6916434440903958,
          1.010889958927512,
          0.18721516184654474,
          0.8046579953015738,
          1.0115267759142568,
          0.8046366120091342,
          1.9389205314949085,
          1.0130468957625538,
          1.6711384200885964,
          0.016878081798454944,
          1.54477968375527,
          0.6271210556091024,
          1.718522150940326,
          0.9000620780442311,
          1.5451161889193772,
          1.7535504575270906,
          0.7956714915823093,
          0.8102401798535649,
          1.5450965270565886,
          1.0125531145227713,
          1.0712081956225732,
          1.2796414979704078,
          0.8045596492941378,
          1.4984540368914196,
          0.8490964666666585,
          1.0711786331712272,
          1.0039036426046848,
          2.726602870597626,
          0.7943194714028742,
          1.077765405410327,
          1.753535614336619,
          0.06297820443696378,
          1.013077843228293,
          1.7535477539227753,
          1.5451182959686292,
          0.9849694142361415,
          1.0712199419363788,
          1.013046495970892,
          1.0025791543893452,
          1.9366397839176428,
          1.279438699734815,
          1.2796494886151608,
          1.9415219127415804,
          1.000268365796832,
          1.279748544860439,
          1.012978284455805,
          1.0130623414737823,
          0.6271429656391665,
          1.0130870682857867,
          1.2795559559178853,
          1.007866172708292,
          0.8422899845280342,
          1.2793117635485258,
          1.013098209965113,
          1.013024005575654,
          1.2796221674951662,
          1.0130375842863908,
          1.4985589481428923,
          1.0073510606039762,
          0.8355512107573418,
          1.9416349647783087,
          0.8031264144323481,
          1.0130194023053989,
          0.564343148148852,
          1.8217127688886237,
          1.942062062723911,
          1.9421007343082224,
          0.626999865774017,
          1.4985612169913165,
          1.355053684398088,
          0.8499969110456086,
          1.0129559937186947,
          0.8046566543288564
         ],
         "z": [
          -0.5207212016362217,
          -0.5210902502079404,
          -0.6638464420295183,
          -0.48858828046778147,
          -0.14623616927795857,
          -0.34648132825662575,
          -0.0785039494299668,
          -0.62019827107915,
          -0.5207281124819303,
          -0.5209195696234812,
          -0.5207596196306428,
          -0.5207212521669411,
          -0.520721600522473,
          -0.31923853071540925,
          -0.3664379716513428,
          -0.08505119691428592,
          -0.23160140779807484,
          -0.5207580102216527,
          -0.22112781252413288,
          -0.4885909713592182,
          -0.6061100769758512,
          -0.25938877182677395,
          -0.3471633492623353,
          -0.25274744491718903,
          -0.6313189247466169,
          -0.6313030250808989,
          -0.31396515056216484,
          -0.5208220111789218,
          -0.5207515922497048,
          -0.5298729986027766,
          -0.22061963852938962,
          -0.4885838223068447,
          0.09261338030818062,
          -0.24698220736414567,
          -0.4885850139513802,
          -0.5211834891143498,
          -0.5207443350380316,
          -0.3477238245502577,
          -0.4885864015888222,
          0.0926146688586732,
          -0.6313086248049662,
          -0.520841910346598,
          -0.26436378197649646,
          -0.19381459175540744,
          -0.3464965663972008,
          -0.3664532198655046,
          -0.25274967477010646,
          -0.6312998190176242,
          -0.2528329640652497,
          -0.5207216598537497,
          -0.6313012541274878,
          -0.22060613838979531,
          -0.5207263145834213,
          -0.4885842944162768,
          -0.47596454675520966,
          -0.7952702760822655,
          -0.28025589665852774,
          -0.252779857354431,
          -0.6313092124649547,
          -0.34656723801754546,
          -0.620170402501167,
          -0.3713141488322264,
          -0.3464820715092217,
          -0.4939948852016293,
          -0.34648167023218734,
          -0.48065448463352445,
          -0.5207271402372812,
          -0.2527702948371892,
          -0.48861568221376933,
          -0.27165932114204655,
          -0.34648363350235334,
          -0.30460130523124984,
          -0.08505715763116269,
          -0.4886314156777382,
          -0.3464962549003629,
          -0.34652360566591556,
          -0.4775437398384078,
          -0.4886017920026077,
          -0.16149918035565217,
          -0.5211240521697266,
          -0.5207259178816738,
          -0.5207598707171435,
          -0.36333474284545764,
          -0.2208578644705445,
          -0.4885924060690846,
          -0.5207413829122107,
          -0.34648103727040164,
          -0.4885842506936749,
          -0.5207235723500578,
          -0.5207218072187125,
          -0.2527941339189788,
          -0.3875416024317263,
          -0.6781454143607191,
          -0.08507804949750834,
          -0.520731666888995,
          -0.488778212979269,
          -0.08509883089308008,
          -0.36331924694706125,
          -0.5788997092425362,
          -0.08507741363966054,
          -0.6714404972427372,
          -0.030004248997199563,
          -0.4885917834282678,
          -0.6601425802541,
          -0.48858531191157306,
          -0.08506875836031128,
          -0.5207294082578937,
          -0.5207250957045695,
          -0.08505715763116269,
          -0.48859018717779984,
          -0.3464846531058835,
          -0.5207299802338341,
          -0.22910700676567614,
          -0.5207267470706086,
          -0.5207730887996292,
          -0.488584448734722,
          -0.5207345463117963,
          -0.26571969634587755,
          -0.5207232544378981,
          -0.5207224838056507,
          -0.1940239442537977,
          -0.31390981869679496,
          -0.5207659375889769,
          -0.3464816399847187,
          -0.4885862854894455,
          -0.5207263823288225,
          -0.5207229320546155,
          -0.25274619863002135,
          -0.14865339517976817,
          -0.3633238968006151,
          -0.5211078925916083,
          -0.2527550076099434,
          -0.4885953819217907,
          -0.6325219886917964,
          -0.4886265546676152,
          -0.08509233601641017,
          -0.4885979913191129,
          -0.08520454393641094,
          -0.4886590580554636,
          -0.5207244581953743,
          -0.5207236910583514,
          -0.5207958665260185,
          -0.08411882304975264,
          -0.48859216281656154,
          -0.2529823419135853,
          -0.08505521490148847,
          -0.5207356928705605,
          -0.6395630329680435,
          -0.07851741031222288,
          -0.16152330635781892,
          -0.7044113280579781,
          -0.47751302963745657,
          -0.4775395727687917,
          -0.5988990107145499,
          -0.6313071683176721,
          -0.5272703084167358,
          -0.6313065437179217,
          -0.12349081525033749,
          -0.5989116626583221,
          -0.4885884541398795,
          -0.25274831149801136,
          4.8473617130664195,
          -0.0850552622807503,
          -0.5207308967300424,
          -0.5207228257220615,
          -0.14512663963740513,
          -0.1744041074720139,
          -0.4885881007952336,
          -0.31405068422058285,
          -0.5207227300090644,
          -0.033724288472289886,
          -0.5377121046156602,
          -0.34651547420174117,
          -0.47777539073119785,
          -0.5142914525135874,
          -0.5207234373993308,
          -0.4620240458843794,
          -0.21934272826355616,
          -0.5207274115714844,
          -0.08197949208179323,
          -0.48860647605396873,
          -0.03008834777754587,
          -0.4886119547265416,
          -0.6313712364332483,
          -0.5207714935032342,
          -0.20953716958376925,
          -0.19402632662415026,
          -0.5259799251145407,
          -0.5207350063293991,
          -0.48860164988923127,
          -0.19403700669137006,
          -0.5209727663095548,
          -0.5207222815111523,
          -0.22060674905273361,
          -0.1614928828141793,
          0.07669257332988806,
          -0.27941686247549763,
          -0.5208118024787887,
          -0.3634497824387348,
          3.0880443083430227,
          -0.4251035927289454,
          -0.48858636134221073,
          -0.5274972765478539,
          -0.2527584098521696,
          -0.1824647312699811,
          -0.47751901208121944,
          -0.5207216891394619,
          -0.5207219432112848,
          -0.2528618882298114,
          -0.42631425661783207,
          -0.08506281006751083,
          -0.5207265214009689,
          -0.14282315893648131,
          -0.4620580824949101,
          -0.08505884201363448,
          -0.02781398577823065,
          -0.5215411850615125,
          -0.31916961617193423,
          -0.25275520906171395,
          -0.5246654495305836,
          -0.2527468485949864,
          -0.6705612294615971,
          -0.5207342032888791,
          -0.3522003656864367,
          -0.2552837077022268,
          -0.19406882185977106,
          -0.078524791321317,
          -0.06997768519067979,
          -0.2958069486425775,
          -0.19402331884219645,
          -0.4620017882772967,
          -0.25399922235148054,
          -0.30170309516989186,
          -0.19404761488406558,
          -0.5207973974056577,
          -0.22061392208417877,
          -0.48859715350211574,
          -0.25279420250585505,
          -0.085067982426929,
          -0.46311736594079306,
          -0.22061266565159895,
          -0.5223932590400523,
          -0.11813842974963759,
          -0.25951850611348654,
          -0.22597643960778835,
          -0.4620146038336187,
          0.1342229332626391,
          -0.520727379592335,
          -0.4620066768836388,
          -0.19402114332279383,
          -0.5359176976075938,
          -0.220605499741948,
          -0.5207338746199248,
          -0.5275920344750945,
          -0.6711957742496004,
          -0.48861992948925503,
          -0.48859347955991617,
          -0.030347847607017586,
          -0.5281112933502732,
          -0.48865954917221804,
          -0.5207372076180882,
          -0.5207316678052484,
          -0.07850220921003175,
          -0.520724208308766,
          -0.4887572980879406,
          -0.5218097113730679,
          -0.3520939054325063,
          -0.4888126237968909,
          -0.5207410501816053,
          -0.5208772255352768,
          -0.4886621820484214,
          -0.5207654719311541,
          -0.0850512873158018,
          -0.3574330337311282,
          -0.34651042266355614,
          -0.030010537614555844,
          -0.25660883269025064,
          -0.5208222259049905,
          -0.31396869706638597,
          -0.6312983464237553,
          -0.030279752425578843,
          -0.03031154435721925,
          -0.07888596431189322,
          -0.08505296516117254,
          0.15852076265096895,
          -0.03926315411506273,
          -0.5207444900299103,
          -0.2527413028274816
         ]
        },
        {
         "customdata": [
          [
           "SHA-256"
          ],
          [
           "Ethash"
          ],
          [
           "Scrypt"
          ],
          [
           "CryptoNight-V7"
          ],
          [
           "Ethash"
          ],
          [
           "Equihash"
          ],
          [
           "Multiple"
          ],
          [
           "Scrypt"
          ],
          [
           "X11"
          ],
          [
           "Scrypt"
          ],
          [
           "Multiple"
          ],
          [
           "Scrypt"
          ],
          [
           "SHA-256"
          ],
          [
           "Scrypt"
          ],
          [
           "Scrypt"
          ],
          [
           "Quark"
          ],
          [
           "Groestl"
          ],
          [
           "Scrypt"
          ],
          [
           "Scrypt"
          ],
          [
           "Scrypt"
          ],
          [
           "X11"
          ],
          [
           "Multiple"
          ],
          [
           "SHA-256"
          ],
          [
           "Scrypt"
          ],
          [
           "Scrypt"
          ],
          [
           "Scrypt"
          ],
          [
           "Scrypt"
          ],
          [
           "Scrypt"
          ],
          [
           "NeoScrypt"
          ],
          [
           "Scrypt"
          ],
          [
           "Scrypt"
          ],
          [
           "Scrypt"
          ],
          [
           "Scrypt"
          ],
          [
           "SHA-256"
          ],
          [
           "Scrypt"
          ],
          [
           "Scrypt"
          ],
          [
           "Scrypt"
          ],
          [
           "Scrypt"
          ],
          [
           "HybridScryptHash256"
          ],
          [
           "Scrypt"
          ],
          [
           "Scrypt"
          ],
          [
           "SHA-256"
          ],
          [
           "Scrypt"
          ],
          [
           "Scrypt"
          ],
          [
           "Scrypt"
          ],
          [
           "Scrypt"
          ],
          [
           "SHA-256"
          ],
          [
           "SHA-256"
          ],
          [
           "SHA-256"
          ],
          [
           "SHA-256"
          ],
          [
           "SHA-256"
          ],
          [
           "X11"
          ],
          [
           "Scrypt"
          ],
          [
           "Lyra2REv2"
          ],
          [
           "Scrypt"
          ],
          [
           "SHA-256"
          ],
          [
           "CryptoNight"
          ],
          [
           "CryptoNight"
          ],
          [
           "Scrypt"
          ],
          [
           "Scrypt"
          ],
          [
           "Scrypt"
          ],
          [
           "Scrypt"
          ],
          [
           "Scrypt"
          ],
          [
           "Scrypt"
          ],
          [
           "Stanford Folding"
          ],
          [
           "Multiple"
          ],
          [
           "QuBit"
          ],
          [
           "Scrypt"
          ],
          [
           "Scrypt"
          ],
          [
           "M7 POW"
          ],
          [
           "Scrypt"
          ],
          [
           "SHA-256"
          ],
          [
           "Scrypt"
          ],
          [
           "X11"
          ],
          [
           "Lyra2RE"
          ],
          [
           "SHA-256"
          ],
          [
           "X11"
          ],
          [
           "Scrypt"
          ],
          [
           "Scrypt"
          ],
          [
           "Ethash"
          ],
          [
           "Blake2b"
          ],
          [
           "X11"
          ],
          [
           "SHA-256"
          ],
          [
           "Scrypt"
          ],
          [
           "1GB AES Pattern Search"
          ],
          [
           "Scrypt"
          ],
          [
           "SHA-256"
          ],
          [
           "X11"
          ],
          [
           "Dagger"
          ],
          [
           "Scrypt"
          ],
          [
           "X11GOST"
          ],
          [
           "Scrypt"
          ],
          [
           "X11"
          ],
          [
           "Scrypt"
          ],
          [
           "X11"
          ],
          [
           "Equihash"
          ],
          [
           "CryptoNight"
          ],
          [
           "SHA-256"
          ],
          [
           "Multiple"
          ],
          [
           "Scrypt"
          ],
          [
           "SHA-256"
          ],
          [
           "Scrypt"
          ],
          [
           "Lyra2Z"
          ],
          [
           "Ethash"
          ],
          [
           "Equihash"
          ],
          [
           "Scrypt"
          ],
          [
           "X11"
          ],
          [
           "X11"
          ],
          [
           "CryptoNight"
          ],
          [
           "Scrypt"
          ],
          [
           "CryptoNight"
          ],
          [
           "Lyra2RE"
          ],
          [
           "X11"
          ],
          [
           "CryptoNight-V7"
          ],
          [
           "Scrypt"
          ],
          [
           "X11"
          ],
          [
           "Equihash"
          ],
          [
           "Scrypt"
          ],
          [
           "Lyra2RE"
          ],
          [
           "Dagger-Hashimoto"
          ],
          [
           "Scrypt"
          ],
          [
           "NIST5"
          ],
          [
           "Scrypt"
          ],
          [
           "SHA-256"
          ],
          [
           "Scrypt"
          ],
          [
           "CryptoNight-V7"
          ],
          [
           "Argon2d"
          ],
          [
           "Blake2b"
          ],
          [
           "Cloverhash"
          ],
          [
           "CryptoNight"
          ],
          [
           "X11"
          ],
          [
           "Scrypt"
          ],
          [
           "Scrypt"
          ],
          [
           "X11"
          ],
          [
           "X11"
          ],
          [
           "CryptoNight"
          ],
          [
           "Time Travel"
          ],
          [
           "Scrypt"
          ],
          [
           "Keccak"
          ],
          [
           "X11"
          ],
          [
           "SHA-256"
          ],
          [
           "Scrypt"
          ],
          [
           "Scrypt"
          ],
          [
           "Scrypt"
          ],
          [
           "Scrypt"
          ],
          [
           "Scrypt"
          ],
          [
           "Scrypt"
          ],
          [
           "CryptoNight"
          ],
          [
           "Equihash"
          ],
          [
           "X11"
          ],
          [
           "NeoScrypt"
          ],
          [
           "Equihash"
          ],
          [
           "Dagger"
          ],
          [
           "Scrypt"
          ],
          [
           "X11"
          ],
          [
           "NeoScrypt"
          ],
          [
           "Ethash"
          ],
          [
           "NeoScrypt"
          ],
          [
           "Multiple"
          ],
          [
           "CryptoNight"
          ],
          [
           "CryptoNight"
          ],
          [
           "Ethash"
          ],
          [
           "X11"
          ],
          [
           "CryptoNight-V7"
          ],
          [
           "Scrypt"
          ],
          [
           "BLAKE256"
          ],
          [
           "X11"
          ],
          [
           "NeoScrypt"
          ],
          [
           "NeoScrypt"
          ],
          [
           "Scrypt"
          ],
          [
           "X11"
          ],
          [
           "SHA-256"
          ],
          [
           "C11"
          ],
          [
           "CryptoNight"
          ],
          [
           "SkunkHash"
          ],
          [
           "CryptoNight"
          ],
          [
           "Scrypt"
          ],
          [
           "Dagger"
          ],
          [
           "Lyra2REv2"
          ],
          [
           "Scrypt"
          ],
          [
           "Scrypt"
          ],
          [
           "X11"
          ],
          [
           "Ethash"
          ],
          [
           "CryptoNight"
          ],
          [
           "Scrypt"
          ],
          [
           "IMesh"
          ],
          [
           "Equihash"
          ],
          [
           "Lyra2Z"
          ],
          [
           "X11"
          ],
          [
           "CryptoNight"
          ],
          [
           "NIST5"
          ],
          [
           "Lyra2RE"
          ],
          [
           "Tribus"
          ],
          [
           "Lyra2Z"
          ],
          [
           "CryptoNight"
          ],
          [
           "CryptoNight Heavy"
          ],
          [
           "CryptoNight"
          ],
          [
           "Jump Consistent Hash"
          ],
          [
           "CryptoNight"
          ],
          [
           "X16R"
          ],
          [
           "HMQ1725"
          ],
          [
           "X11"
          ],
          [
           "Scrypt"
          ],
          [
           "CryptoNight-V7"
          ],
          [
           "Cryptonight-GPU"
          ],
          [
           "XEVAN"
          ],
          [
           "CryptoNight Heavy"
          ],
          [
           "SHA-256"
          ],
          [
           "X11"
          ],
          [
           "X16R"
          ],
          [
           "Equihash"
          ],
          [
           "Lyra2Z"
          ],
          [
           "SHA-256"
          ],
          [
           "XEVAN"
          ],
          [
           "CryptoNight"
          ],
          [
           "Blake"
          ],
          [
           "Blake"
          ],
          [
           "Exosis"
          ],
          [
           "Scrypt"
          ],
          [
           "Equihash"
          ],
          [
           "Equihash"
          ],
          [
           "QuBit"
          ],
          [
           "SHA-256"
          ],
          [
           "X13"
          ],
          [
           "SHA-256"
          ],
          [
           "Scrypt"
          ],
          [
           "NeoScrypt"
          ],
          [
           "Blake"
          ],
          [
           "Scrypt"
          ],
          [
           "SHA-256"
          ],
          [
           "Scrypt"
          ],
          [
           "Groestl"
          ],
          [
           "Scrypt"
          ],
          [
           "Scrypt"
          ],
          [
           "Multiple"
          ],
          [
           "Equihash+Scrypt"
          ],
          [
           "Ethash"
          ],
          [
           "CryptoNight"
          ],
          [
           "Equihash"
          ]
         ],
         "hovertemplate": "<b>%{hovertext}</b><br><br>Class=%{marker.color}<br>PC 1=%{x}<br>PC 2=%{y}<br>PC 3=%{z}<br>Algorithm=%{customdata[0]}<extra></extra>",
         "hovertext": [
          "Bitcoin",
          "Ethereum",
          "Litecoin",
          "Monero",
          "Ethereum Classic",
          "ZCash",
          "DigiByte",
          "ProsperCoin",
          "Spreadcoin",
          "Argentum",
          "MyriadCoin",
          "MoonCoin",
          "ZetaCoin",
          "SexCoin",
          "Quatloo",
          "QuarkCoin",
          "Riecoin",
          "Digitalcoin ",
          "Catcoin",
          "CannaCoin",
          "CryptCoin",
          "Verge",
          "DevCoin",
          "EarthCoin",
          "E-Gulden",
          "Einsteinium",
          "Emerald",
          "Franko",
          "FeatherCoin",
          "GrandCoin",
          "GlobalCoin",
          "GoldCoin",
          "Infinite Coin",
          "IXcoin",
          "KrugerCoin",
          "LuckyCoin",
          "Litebar ",
          "MegaCoin",
          "MediterraneanCoin",
          "MinCoin",
          "NobleCoin",
          "Namecoin",
          "NyanCoin",
          "RonPaulCoin",
          "StableCoin",
          "SmartCoin",
          "SysCoin",
          "TigerCoin",
          "TerraCoin",
          "UnbreakableCoin",
          "Unobtanium",
          "UroCoin",
          "ViaCoin",
          "Vertcoin",
          "WorldCoin",
          "JouleCoin",
          "ByteCoin",
          "DigitalNote ",
          "MonaCoin",
          "Gulden",
          "PesetaCoin",
          "Wild Beast Coin",
          "Flo",
          "ArtByte",
          "Folding Coin",
          "Unitus",
          "CypherPunkCoin",
          "OmniCron",
          "GreenCoin",
          "Cryptonite",
          "MasterCoin",
          "SoonCoin",
          "1Credit",
          "MarsCoin ",
          "Crypto",
          "Anarchists Prime",
          "BowsCoin",
          "Song Coin",
          "BitZeny",
          "Expanse",
          "Siacoin",
          "MindCoin",
          "I0coin",
          "Revolution VR",
          "HOdlcoin",
          "Gamecredits",
          "CarpeDiemCoin",
          "Adzcoin",
          "SoilCoin",
          "YoCoin",
          "SibCoin",
          "Francs",
          "BolivarCoin",
          "Omni",
          "PizzaCoin",
          "Komodo",
          "Karbo",
          "ZayedCoin",
          "Circuits of Value",
          "DopeCoin",
          "DollarCoin",
          "Shilling",
          "ZCoin",
          "Elementrem",
          "ZClassic",
          "KiloCoin",
          "ArtexCoin",
          "Kurrent",
          "Cannabis Industry Coin",
          "OsmiumCoin",
          "Bikercoins",
          "HexxCoin",
          "PacCoin",
          "Citadel",
          "BeaverCoin",
          "VaultCoin",
          "Zero",
          "Canada eCoin",
          "Zoin",
          "DubaiCoin",
          "EB3coin",
          "Coinonat",
          "BenjiRolls",
          "ILCoin",
          "EquiTrader",
          "Quantum Resistant Ledger",
          "Dynamic",
          "Nano",
          "ChanCoin",
          "Dinastycoin",
          "DigitalPrice",
          "Unify",
          "SocialCoin",
          "ArcticCoin",
          "DAS",
          "LeviarCoin",
          "Bitcore",
          "gCn Coin",
          "SmartCash",
          "Onix",
          "Bitcoin Cash",
          "Sojourn Coin",
          "NewYorkCoin",
          "FrazCoin",
          "Kronecoin",
          "AdCoin",
          "Linx",
          "Sumokoin",
          "BitcoinZ",
          "Elements",
          "VIVO Coin",
          "Bitcoin Gold",
          "Pirl",
          "eBoost",
          "Pura",
          "Innova",
          "Ellaism",
          "GoByte",
          "SHIELD",
          "UltraNote",
          "BitCoal",
          "DaxxCoin",
          "AC3",
          "Lethean",
          "PopularCoin",
          "Photon",
          "Sucre",
          "SparksPay",
          "GunCoin",
          "IrishCoin",
          "Pioneer Coin",
          "UnitedBitcoin",
          "Interzone",
          "TurtleCoin",
          "MUNcoin",
          "Niobio Cash",
          "ShareChain",
          "Travelflex",
          "KREDS",
          "BitFlip",
          "LottoCoin",
          "Crypto Improvement Fund",
          "Callisto Network",
          "BitTube",
          "Poseidon",
          "Aidos Kuneen",
          "Bitrolium",
          "Alpenschillling",
          "FuturoCoin",
          "Monero Classic",
          "Jumpcoin",
          "Infinex",
          "KEYCO",
          "GINcoin",
          "PlatinCoin",
          "Loki",
          "Newton Coin",
          "MassGrid",
          "PluraCoin",
          "Motion",
          "PlusOneCoin",
          "Axe",
          "HexCoin",
          "Webchain",
          "Ryo",
          "Urals Coin",
          "Qwertycoin",
          "Project Pai",
          "Azart",
          "Xchange",
          "CrypticCoin",
          "Actinium",
          "Bitcoin SV",
          "BitMoney",
          "FREDEnergy",
          "Universal Molecule",
          "Lithium",
          "Exosis",
          "Block-Logic",
          "Beam",
          "Bithereum",
          "SLICE",
          "BLAST",
          "Bitcoin Rhodium",
          "GlobalToken",
          "SolarCoin",
          "UFO Coin",
          "BlakeCoin",
          "Crypto Escudo",
          "Crown Coin",
          "SmileyCoin",
          "Groestlcoin",
          "Bata",
          "Pakcoin",
          "JoinCoin",
          "Vollar",
          "Reality Clash",
          "Beldex",
          "Horizen"
         ],
         "legendgroup": "3",
         "marker": {
          "color": [
           3,
           3,
           3,
           3,
           3,
           3,
           3,
           3,
           3,
           3,
           3,
           3,
           3,
           3,
           3,
           3,
           3,
           3,
           3,
           3,
           3,
           3,
           3,
           3,
           3,
           3,
           3,
           3,
           3,
           3,
           3,
           3,
           3,
           3,
           3,
           3,
           3,
           3,
           3,
           3,
           3,
           3,
           3,
           3,
           3,
           3,
           3,
           3,
           3,
           3,
           3,
           3,
           3,
           3,
           3,
           3,
           3,
           3,
           3,
           3,
           3,
           3,
           3,
           3,
           3,
           3,
           3,
           3,
           3,
           3,
           3,
           3,
           3,
           3,
           3,
           3,
           3,
           3,
           3,
           3,
           3,
           3,
           3,
           3,
           3,
           3,
           3,
           3,
           3,
           3,
           3,
           3,
           3,
           3,
           3,
           3,
           3,
           3,
           3,
           3,
           3,
           3,
           3,
           3,
           3,
           3,
           3,
           3,
           3,
           3,
           3,
           3,
           3,
           3,
           3,
           3,
           3,
           3,
           3,
           3,
           3,
           3,
           3,
           3,
           3,
           3,
           3,
           3,
           3,
           3,
           3,
           3,
           3,
           3,
           3,
           3,
           3,
           3,
           3,
           3,
           3,
           3,
           3,
           3,
           3,
           3,
           3,
           3,
           3,
           3,
           3,
           3,
           3,
           3,
           3,
           3,
           3,
           3,
           3,
           3,
           3,
           3,
           3,
           3,
           3,
           3,
           3,
           3,
           3,
           3,
           3,
           3,
           3,
           3,
           3,
           3,
           3,
           3,
           3,
           3,
           3,
           3,
           3,
           3,
           3,
           3,
           3,
           3,
           3,
           3,
           3,
           3,
           3,
           3,
           3,
           3,
           3,
           3,
           3,
           3,
           3,
           3,
           3,
           3,
           3,
           3,
           3,
           3,
           3,
           3,
           3,
           3,
           3,
           3,
           3,
           3,
           3,
           3,
           3,
           3,
           3,
           3,
           3,
           3,
           3,
           3,
           3,
           3,
           3,
           3,
           3,
           3,
           3,
           3,
           3,
           3,
           3,
           3,
           3
          ],
          "coloraxis": "coloraxis",
          "symbol": "diamond"
         },
         "mode": "markers",
         "name": "3",
         "scene": "scene",
         "showlegend": true,
         "type": "scatter3d",
         "x": [
          -0.15395343048536003,
          -0.15376675416085903,
          -0.14996204045853218,
          -0.154764747285637,
          -0.15221153918389155,
          -0.14765393615859104,
          0.1514665836249586,
          -0.15110667058201688,
          -0.24511671882111277,
          -0.1507238497898795,
          -0.1015598132832325,
          2.565859415205392,
          -0.1510424073672294,
          -0.14798326601869105,
          -0.15052827085773646,
          -0.23344341391683987,
          -0.1981005493576935,
          -0.15057674682465222,
          -0.15108895703149436,
          -0.15117527655387786,
          -0.24520594902090662,
          0.17520893770157256,
          0.22336110516751054,
          0.09720626821349018,
          -0.15092190001621705,
          -0.14653356247502275,
          -0.15086131440501396,
          -0.15123220507581217,
          -0.1797837531328911,
          -0.13048497322318292,
          -0.15002896979648153,
          -0.15030610816251827,
          1.5952444097579688,
          -0.15391484442239756,
          -0.1475995130048609,
          -0.1509483065442948,
          -0.15130262554024923,
          -0.15056291628708596,
          -0.1655562750699345,
          -0.151184068609384,
          -0.016313961267839548,
          -0.15399236554873438,
          -0.14485679020211084,
          -0.15116358436510155,
          -0.14926117012372256,
          -0.15065105781342678,
          -0.14116324128169747,
          -0.1534568712365353,
          -0.1537437221887019,
          -0.1537269017412383,
          -0.1543165602223231,
          -0.24537956015712345,
          -0.1508804096253968,
          -0.17793499055592996,
          -0.14798804557610104,
          -0.1535240792187007,
          3.852179521230139,
          0.45587004572761824,
          -0.14974968672155156,
          -0.13437358393977597,
          -0.14847026268473457,
          -0.15130483819303564,
          -0.14833542813262557,
          -0.13457880674803513,
          -0.1391722540374352,
          -0.1355180087756625,
          -0.17506479757992877,
          -0.1511780654658645,
          -0.024308476832659857,
          -0.12683640939472612,
          -0.15131371124011034,
          -0.15402011108654207,
          0.49966767848511506,
          -0.24476760408130194,
          -0.15956901361258113,
          -0.1537604239118734,
          -0.24505211951486588,
          -0.14944062064055966,
          -0.1486339758795613,
          -0.1548330613199991,
          0.33649512970753753,
          -0.2450874524580728,
          -0.15391596548150027,
          -0.1472771924498011,
          -0.1191421283242188,
          -0.14987910259975154,
          0.26398633289584245,
          -0.24424945446638138,
          -0.1646305137083866,
          -0.15012663314904473,
          -0.1353307598374597,
          -0.15110395419983694,
          -0.24505077978389722,
          -0.1513137696536239,
          -0.2452005782753873,
          -0.2386571149748092,
          0.30099939273514725,
          -0.15417569912649165,
          -0.11561895849403218,
          -0.14848466282271655,
          -0.1541343805740373,
          -0.15097769293983931,
          -0.16690690498660987,
          -0.15457555792017189,
          -0.14767552835421266,
          -0.07817032264986033,
          -0.23180152600694243,
          -0.24303216654143475,
          0.3009937121353589,
          -0.15129553823261951,
          0.3011242592305962,
          -0.16010857815917473,
          0.4687584476148879,
          -0.1535317298912673,
          -0.15126386483165224,
          -0.2379475133948881,
          -0.14768787037859712,
          -0.14939972584164857,
          -0.1598273331180838,
          -0.162096127350519,
          -0.12223951798200196,
          -0.18755037107418385,
          -0.15082689456995685,
          -0.12055111221650656,
          -0.15064933341407807,
          -0.1533892579348399,
          -0.11802543672831725,
          -0.06334922461710082,
          -0.14132409658164807,
          0.33706499974012444,
          -0.2442579126562762,
          -0.1509679828690534,
          -0.1507318943908125,
          -0.24465195310794444,
          -0.24522855030193424,
          0.30138809229104474,
          -0.16970091534581755,
          3.253535895320286,
          -0.11600265695449803,
          -0.23611619432843117,
          -0.1539525956635341,
          -0.07702170380849002,
          1.5936967151731476,
          -0.1510657212696808,
          -0.1505182921822574,
          -0.15021968553399775,
          -0.15020663148485053,
          0.3015713288940815,
          0.06429681194223294,
          -0.1996762031173928,
          -0.18446566375834303,
          -0.1475341172255123,
          -0.16339162330090745,
          -0.1493979370553315,
          -0.24077963996416915,
          -0.1843113370843764,
          -0.1529438195761586,
          -0.18441136563216318,
          -0.12576412289241468,
          1.137577615333716,
          0.30097654114055167,
          -0.07796460886186117,
          -0.24052244144972265,
          -0.14251800325682695,
          -0.06757293204091808,
          1.0939041590919296,
          -0.24520258298462255,
          -0.18446319730959115,
          -0.17751129928896284,
          -0.15031778794305334,
          -0.24512809106507297,
          -0.15393201286822195,
          -0.21631919644133465,
          8.025268662448296,
          -0.17220055376647941,
          0.30484501277759346,
          0.04145821894213392,
          -0.16289514793413906,
          -0.1635143679379869,
          -0.15089074156801438,
          0.15574711638906458,
          -0.2392779558004369,
          -0.1060652780168681,
          0.3088859728443505,
          -0.15112739142489426,
          -0.14896065267989023,
          -0.1465265959475169,
          -0.16469426237623716,
          -0.2442986382830687,
          0.30115882275961675,
          -0.18760963721670834,
          -0.15995407031722386,
          -0.1506818970048127,
          -0.1669911337592663,
          0.30507981437056875,
          0.5786466501786998,
          2.1067093026959887,
          -0.13448589072824296,
          0.3147435672957799,
          -0.19264117553928356,
          -0.16475045265661,
          -0.2451847692791978,
          -0.15115195020701244,
          -0.1424015217987941,
          -0.164863655679418,
          -0.23718625640164145,
          3.0974470947294064,
          -0.11383616755494994,
          -0.24515618643534193,
          -0.19206991885324065,
          -0.04243654303877702,
          -0.16638992060808538,
          -0.1539526331858662,
          0.25897008197869076,
          0.3807898042755581,
          -0.15564364154004393,
          -0.1560348429134413,
          -0.15706952109712508,
          -0.15004597575757053,
          -0.14559757673665633,
          -0.14736717410685476,
          -0.17427714349220527,
          -0.15322980714692616,
          -0.11447887882031209,
          -0.152099530779571,
          0.5435082454666755,
          -0.10973326237453522,
          -0.1065897017570365,
          -0.13472922005058133,
          -0.15374309336217953,
          0.563469697766406,
          -0.19766215131984052,
          -0.1512286205330004,
          -0.14918750475245526,
          -0.13625206391252792,
          -0.12044572399193032,
          -0.1546086703805889,
          0.3227022124488245,
          -0.1476549918936442
         ],
         "y": [
          -1.320222028981849,
          -2.0577996555371225,
          -1.1427337753115616,
          -2.2499746040777575,
          -2.0579092935234327,
          -1.8843495263112513,
          -1.8494117901954126,
          -1.1427219852613262,
          -0.8761463898942575,
          -1.1427424316926402,
          -1.8429874420194585,
          -1.347134806141984,
          -1.320243414763716,
          -1.1427971198274554,
          -1.1427634372034239,
          -0.4022783821062665,
          -1.2202038195146152,
          -1.142725937935252,
          -1.1427214340171163,
          -1.1427182052062406,
          -0.8761476616244516,
          -1.845327831695809,
          -1.3242678432239752,
          -1.145138170319905,
          -1.1427162352167852,
          -1.1427894766420201,
          -1.1427226278814853,
          -1.1427185438152911,
          -1.5915212838997241,
          -1.143133520287662,
          -1.1427253224038771,
          -1.142735636935075,
          -1.1565411910081327,
          -1.3202208281867975,
          -1.142796782436282,
          -1.1427163044326518,
          -1.1427132956952555,
          -1.1427208672878066,
          -2.175197768793989,
          -1.1427161157976096,
          -1.1497997399744484,
          -1.3202232406377603,
          -1.1427652962794765,
          -1.1427237564134913,
          -1.142836888096231,
          -1.142730533733038,
          -1.3204764628824321,
          -1.3202261514861533,
          -1.3202313064918312,
          -1.320259380057848,
          -1.3202177140725122,
          -0.8761395184330878,
          -1.1427164491454507,
          -1.345558626794461,
          -1.142808873537375,
          -1.320226728880222,
          -2.3265699464031027,
          -2.300966803578891,
          -1.1427430608020357,
          -1.1434497385608313,
          -1.142749351149939,
          -1.1427143263156578,
          -1.1427403493060124,
          -1.142944388984942,
          -2.0612856385059897,
          -1.8425391120661345,
          -1.484209174841382,
          -1.142710940559547,
          -1.146285763243555,
          -2.3334360984374394,
          -1.1427130909247283,
          -1.3202241040765739,
          -1.191689021483163,
          -0.8761453086627828,
          -2.172833049392807,
          -1.3202406762722465,
          -0.8761451321223324,
          -1.1428125510709435,
          -1.142817369863855,
          -2.0578455618877323,
          -2.147611930774119,
          -0.876142468915181,
          -1.320220863074063,
          -1.1427450447540084,
          -2.4425012619364295,
          -1.1427311942923415,
          -1.3234748984789855,
          -0.8761675640970783,
          -2.165908356807021,
          -1.1428023762526962,
          -2.2893703106546424,
          -1.1427211481746624,
          -0.8761481006423253,
          -1.1427130904623157,
          -0.8761527623588407,
          -0.7262461843297008,
          -2.2982683600945246,
          -1.3202204692054917,
          -1.8428229189797638,
          -1.142775095600164,
          -1.320219862402734,
          -1.1427247444655928,
          -2.22208774133283,
          -2.0578445465014132,
          -1.8843501982585726,
          -1.1479619393766332,
          -0.8760932476855512,
          -0.876238049841871,
          -2.298276814958164,
          -1.1427141018364624,
          -2.2982757625557966,
          -2.1728078563366973,
          -0.9291709111324814,
          -2.25007545499895,
          -1.1427136020969342,
          -0.8766607868371912,
          -1.88434757212903,
          -1.1427283169769935,
          -2.172807382099163,
          -2.120590166226427,
          -1.144818050583092,
          -0.6518048309766716,
          -1.142724206026953,
          -1.3210481307118196,
          -1.1427461331738809,
          -2.2500108170374165,
          -2.354752682624342,
          -2.1603111341523027,
          -2.3927682933057395,
          -2.298643582047215,
          -0.8761798681644752,
          -1.1427163725118454,
          -1.1427509601237973,
          -0.8761620285472572,
          -0.8761490422721947,
          -2.2982893761322805,
          -2.262731070247528,
          -1.1872646054391716,
          -1.3083176232811102,
          -0.8766790516488632,
          -1.3202220030022618,
          -1.1483024709930456,
          -1.0884080463387753,
          -1.1427199583690766,
          -1.1427510858186425,
          -1.142753834053981,
          -1.1427534278130635,
          -2.298309929564557,
          -1.8935414477794659,
          -0.8760718293268,
          -1.5914344456656102,
          -1.884345797556085,
          -2.165964855161621,
          -1.1427282613101128,
          -0.876259762878764,
          -1.5914431889878249,
          -2.0579847607433437,
          -1.591436368167239,
          -1.8427322569849014,
          -2.336193601869004,
          -2.2982709526169285,
          -2.0629662298928806,
          -0.8764022694979666,
          -2.250345649319238,
          -1.1438693840811807,
          -1.3615284936505216,
          -0.8761489114692228,
          -1.5914298535914684,
          -1.5915739840309904,
          -1.1427297950819582,
          -0.8761490014567695,
          -1.3202207348381276,
          -1.033252800629554,
          -2.8104352986962775,
          -2.0516502465376814,
          -2.298394017023889,
          -1.1442391091763462,
          -2.165907031084798,
          -1.3458744521521813,
          -1.1427295640769526,
          -1.1470091468035135,
          -0.8763259135548758,
          -2.0612067845944515,
          -2.298767957928147,
          -1.1427226300922222,
          -2.2191960467512337,
          -1.8843513186790368,
          -2.222228545367325,
          -0.8761811355425719,
          -2.298269720091357,
          -0.6517861667576059,
          -2.17281529963044,
          -2.2234675898482306,
          -2.222082159696642,
          -2.298585384420177,
          -2.2330083084238734,
          -2.3805370595277546,
          -2.1583513873259133,
          -2.298585670079155,
          -1.2557130731194308,
          -2.16719964326206,
          -0.8761492601718939,
          -1.1427242261285373,
          -2.250906829420653,
          -2.278619373612724,
          -1.153132816450869,
          -2.2933340326286626,
          -1.3205381409651726,
          -0.876151380888495,
          -1.2557539378309346,
          -1.8867787696172478,
          -2.2221187626448797,
          -1.3202220041699535,
          -0.29929278396621173,
          -2.301858392499698,
          -2.1322165051924635,
          -2.1321685569769713,
          -2.2020178832305497,
          -1.1427634792818235,
          -1.8844674999122488,
          -1.8843480420399288,
          -1.484259918419827,
          -1.3202318696664492,
          -0.33408430156272406,
          -1.320274961080542,
          -1.1949152804795575,
          -1.5920986729661222,
          -2.135878713852616,
          -1.1429490698343265,
          -1.3202312869228028,
          -1.1580962787411249,
          -1.2202059802189968,
          -1.1427137394843565,
          -1.1427834220267932,
          -1.8425640629491622,
          -2.1977980436085813,
          -2.057844284377007,
          -2.298639186464932,
          -1.8843495591656396
         ],
         "z": [
          0.17846739035123588,
          0.3336334068365345,
          0.0042066981961151936,
          0.3688597549826614,
          0.3336159882017053,
          0.39120491900720883,
          0.34449420879008913,
          0.004229271214929339,
          0.036365045494277805,
          0.004224057667796339,
          0.3489436515124196,
          -0.02437874830845478,
          0.17840876553898688,
          0.004173756395536559,
          0.004222888809757028,
          0.0628548489673549,
          0.15849549765823268,
          0.0042186075676915935,
          0.0042288180367486255,
          0.004230189150418433,
          0.03636711528998291,
          0.3434133033244544,
          0.17104900314302057,
          -0.0006876891419714776,
          0.004224544100014724,
          0.004141971582036776,
          0.00422416583262246,
          0.004231442755801158,
          0.21089979630917216,
          0.003850780425005879,
          0.004206919194941665,
          0.004214248635430265,
          -0.03080023953416951,
          0.17846640317693482,
          0.00416558122028916,
          0.004225113155209665,
          0.004232191320036294,
          0.004217596919632274,
          0.32771219185486933,
          0.0042300796061503,
          0.0023763607569524184,
          0.17846838645425456,
          0.004103036945614611,
          0.004230727280140213,
          0.004206449912104795,
          0.004220831904117465,
          0.1782325241364251,
          0.17845745736235916,
          0.1784642621888866,
          0.1784678796775252,
          0.17847447023222202,
          0.03636963951794316,
          0.004223695665309755,
          0.2232365827678745,
          0.004175521321432218,
          0.17845896247338267,
          0.34070751308315417,
          0.4090131415161442,
          0.0042035151361965485,
          0.003977896138404747,
          0.004177308881878979,
          0.0042323840623921215,
          0.004173179068552715,
          0.003910711860595182,
          0.28689434229401545,
          0.34959938478406144,
          0.2110573429398015,
          0.004229219928232015,
          0.0020482824296559495,
          0.29766474995570014,
          0.004232397116950018,
          0.1784690962877987,
          -0.0026222018513072255,
          0.036357498626970214,
          0.34745131876545493,
          0.17846594217390904,
          0.03636349932646485,
          0.004206805624656062,
          0.004190403962074473,
          0.3336624878152824,
          0.39167058904666685,
          0.03636387066629692,
          0.17846643185777572,
          0.0041514315594578305,
          0.509760534609931,
          0.004204576338731758,
          0.17007637176301799,
          0.03634967503989176,
          0.34022885614249065,
          0.004219894315385195,
          0.44529344132210963,
          0.0042290951982951585,
          0.03636389113728697,
          0.004232398288623561,
          0.03636772353710789,
          0.4995384131712405,
          0.4119111559690987,
          0.17847187694724267,
          0.34921811926048807,
          0.004181257905234253,
          0.17847091597990825,
          0.004226930183214456,
          0.3818882794503443,
          0.33365689048407093,
          0.3912054714154865,
          0.0034262677899673144,
          0.036075523914008395,
          0.0363338714091061,
          0.41191247303663703,
          0.00423215532630146,
          0.4119095592448808,
          0.34745918008340243,
          0.02875149870067032,
          0.3688479163163463,
          0.004231413785920385,
          0.03628602178021434,
          0.3912053610840498,
          0.004194016451466589,
          0.347453156531233,
          0.3463268045456752,
          0.003914591759914014,
          0.047436100483454424,
          0.00422366024422836,
          0.17787690228660918,
          0.004223003435313471,
          0.36883574963443383,
          0.4417969704568985,
          0.40193633486279723,
          0.4571058189837373,
          0.41120044209612566,
          0.036351595776088236,
          0.004225539512053049,
          0.004225435215232949,
          0.03635741592821024,
          0.03636778938377176,
          0.41190589854295623,
          0.3452636318554944,
          -0.061572018321701755,
          0.06079305410029605,
          0.036249822013195314,
          0.17846736899340157,
          0.003450142631270974,
          -0.04041149391438835,
          0.0042281170584404434,
          0.004220929173912136,
          0.004214994055092433,
          0.0042146600842017405,
          0.4119049270900302,
          0.38801714950091715,
          0.03539211723979032,
          0.2109866617597377,
          0.39120185359544746,
          0.34021061512644196,
          0.004193970687692329,
          0.03628923906860182,
          0.2109846308996942,
          0.3336421791510589,
          0.21098578391602946,
          0.3494201484900309,
          0.39956165321624776,
          0.4119120069012747,
          0.33275932266054176,
          0.03630396328363827,
          0.3686529042398105,
          0.002622539693437105,
          0.1375452380208745,
          0.036367220913061424,
          0.21098595952970212,
          0.21085912805947182,
          0.0042136691029073916,
          0.036365656002941435,
          0.17846675357036834,
          0.09984976521862853,
          0.3208162197595529,
          0.32810369123482014,
          0.4118474967927027,
          0.0003657269472223878,
          0.34019191557007183,
          0.22297587573922262,
          0.004225770860560312,
          -0.0016626817256207454,
          0.036266798658617004,
          0.3331054164425761,
          0.41181484437086646,
          0.004229801330778706,
          0.26588403513384185,
          0.3911812970269992,
          0.38186134876008954,
          0.03635263768834832,
          0.4119079719398249,
          0.04743471380613545,
          0.34745696137149545,
          0.35674147134312695,
          0.38188927324946326,
          0.4118696114366395,
          0.3369011348425785,
          0.3853133088111197,
          0.4202373238349513,
          0.411664985425666,
          0.22916038524267823,
          0.4218621859317453,
          0.03636689299837707,
          0.004230547369617941,
          0.36872987058622675,
          0.30188741965311594,
          -0.0025590871822013745,
          0.29209494474346975,
          0.1776625005400839,
          0.03636658782954412,
          0.2291540709976565,
          0.38932039531400475,
          0.3818817213240118,
          0.17846736995336168,
          -0.42609951270987695,
          0.4107294506393336,
          0.32093176606200474,
          0.3209332643083985,
          0.4736799932611632,
          0.004212680346599626,
          0.39117806662721544,
          0.39119863564440377,
          0.21104784398557377,
          0.1784534578136458,
          -0.1063449770638625,
          0.1784356193995487,
          -0.003094024509417894,
          0.20949794036302297,
          0.3204112378621661,
          0.00391455998955851,
          0.17846424610117695,
          -0.008728397674156452,
          0.15848651876591835,
          0.004230686801621151,
          0.004197321815591877,
          0.3496184628914917,
          0.3853079884908076,
          0.33365755466252056,
          0.411504006150094,
          0.39120494601681916
         ]
        },
        {
         "customdata": [
          [
           "Proof-of-BibleHash"
          ],
          [
           "Proof-of-Authority"
          ],
          [
           "ECC 256K1"
          ],
          [
           "Leased POS"
          ]
         ],
         "hovertemplate": "<b>%{hovertext}</b><br><br>Class=%{marker.color}<br>PC 1=%{x}<br>PC 2=%{y}<br>PC 3=%{z}<br>Algorithm=%{customdata[0]}<extra></extra>",
         "hovertext": [
          "BiblePay",
          "Poa Network",
          "Acute Angle Cloud",
          "Waves"
         ],
         "legendgroup": "1",
         "marker": {
          "color": [
           1,
           1,
           1,
           1
          ],
          "coloraxis": "coloraxis",
          "symbol": "square"
         },
         "mode": "markers",
         "name": "1",
         "scene": "scene",
         "showlegend": true,
         "type": "scatter3d",
         "x": [
          -0.2304828751874043,
          -0.32429740734472134,
          -0.3850361848753018,
          -0.408235706947486
         ],
         "y": [
          2.9702356303541517,
          2.3396068848521296,
          3.575355132290002,
          4.066420384592615
         ],
         "z": [
          13.673122557743456,
          20.797310583289423,
          12.212059217566603,
          14.202639620271729
         ]
        },
        {
         "customdata": [
          [
           "TRC10"
          ]
         ],
         "hovertemplate": "<b>%{hovertext}</b><br><br>Class=%{marker.color}<br>PC 1=%{x}<br>PC 2=%{y}<br>PC 3=%{z}<br>Algorithm=%{customdata[0]}<extra></extra>",
         "hovertext": [
          "BitTorrent"
         ],
         "legendgroup": "2",
         "marker": {
          "color": [
           2
          ],
          "coloraxis": "coloraxis",
          "symbol": "x"
         },
         "mode": "markers",
         "name": "2",
         "scene": "scene",
         "showlegend": true,
         "type": "scatter3d",
         "x": [
          34.027742211132306
         ],
         "y": [
          1.6975290342385425
         ],
         "z": [
          -0.836108332955882
         ]
        }
       ],
       "layout": {
        "autosize": true,
        "coloraxis": {
         "colorbar": {
          "title": {
           "text": "Class"
          }
         },
         "colorscale": [
          [
           0,
           "#0d0887"
          ],
          [
           0.1111111111111111,
           "#46039f"
          ],
          [
           0.2222222222222222,
           "#7201a8"
          ],
          [
           0.3333333333333333,
           "#9c179e"
          ],
          [
           0.4444444444444444,
           "#bd3786"
          ],
          [
           0.5555555555555556,
           "#d8576b"
          ],
          [
           0.6666666666666666,
           "#ed7953"
          ],
          [
           0.7777777777777778,
           "#fb9f3a"
          ],
          [
           0.8888888888888888,
           "#fdca26"
          ],
          [
           1,
           "#f0f921"
          ]
         ]
        },
        "legend": {
         "title": {
          "text": "Class"
         },
         "tracegroupgap": 0,
         "x": 0,
         "y": 1
        },
        "margin": {
         "t": 60
        },
        "scene": {
         "aspectmode": "auto",
         "aspectratio": {
          "x": 1,
          "y": 1,
          "z": 1
         },
         "camera": {
          "center": {
           "x": 0,
           "y": 0,
           "z": 0
          },
          "eye": {
           "x": 1.231392259748842,
           "y": 1.2313922597488418,
           "z": 1.2313922597488418
          },
          "projection": {
           "type": "perspective"
          },
          "up": {
           "x": 0,
           "y": 0,
           "z": 1
          }
         },
         "domain": {
          "x": [
           0,
           1
          ],
          "y": [
           0,
           1
          ]
         },
         "xaxis": {
          "title": {
           "text": "PC 1"
          },
          "type": "linear"
         },
         "yaxis": {
          "title": {
           "text": "PC 2"
          },
          "type": "linear"
         },
         "zaxis": {
          "title": {
           "text": "PC 3"
          },
          "type": "linear"
         }
        },
        "template": {
         "data": {
          "bar": [
           {
            "error_x": {
             "color": "#2a3f5f"
            },
            "error_y": {
             "color": "#2a3f5f"
            },
            "marker": {
             "line": {
              "color": "#E5ECF6",
              "width": 0.5
             }
            },
            "type": "bar"
           }
          ],
          "barpolar": [
           {
            "marker": {
             "line": {
              "color": "#E5ECF6",
              "width": 0.5
             }
            },
            "type": "barpolar"
           }
          ],
          "carpet": [
           {
            "aaxis": {
             "endlinecolor": "#2a3f5f",
             "gridcolor": "white",
             "linecolor": "white",
             "minorgridcolor": "white",
             "startlinecolor": "#2a3f5f"
            },
            "baxis": {
             "endlinecolor": "#2a3f5f",
             "gridcolor": "white",
             "linecolor": "white",
             "minorgridcolor": "white",
             "startlinecolor": "#2a3f5f"
            },
            "type": "carpet"
           }
          ],
          "choropleth": [
           {
            "colorbar": {
             "outlinewidth": 0,
             "ticks": ""
            },
            "type": "choropleth"
           }
          ],
          "contour": [
           {
            "colorbar": {
             "outlinewidth": 0,
             "ticks": ""
            },
            "colorscale": [
             [
              0,
              "#0d0887"
             ],
             [
              0.1111111111111111,
              "#46039f"
             ],
             [
              0.2222222222222222,
              "#7201a8"
             ],
             [
              0.3333333333333333,
              "#9c179e"
             ],
             [
              0.4444444444444444,
              "#bd3786"
             ],
             [
              0.5555555555555556,
              "#d8576b"
             ],
             [
              0.6666666666666666,
              "#ed7953"
             ],
             [
              0.7777777777777778,
              "#fb9f3a"
             ],
             [
              0.8888888888888888,
              "#fdca26"
             ],
             [
              1,
              "#f0f921"
             ]
            ],
            "type": "contour"
           }
          ],
          "contourcarpet": [
           {
            "colorbar": {
             "outlinewidth": 0,
             "ticks": ""
            },
            "type": "contourcarpet"
           }
          ],
          "heatmap": [
           {
            "colorbar": {
             "outlinewidth": 0,
             "ticks": ""
            },
            "colorscale": [
             [
              0,
              "#0d0887"
             ],
             [
              0.1111111111111111,
              "#46039f"
             ],
             [
              0.2222222222222222,
              "#7201a8"
             ],
             [
              0.3333333333333333,
              "#9c179e"
             ],
             [
              0.4444444444444444,
              "#bd3786"
             ],
             [
              0.5555555555555556,
              "#d8576b"
             ],
             [
              0.6666666666666666,
              "#ed7953"
             ],
             [
              0.7777777777777778,
              "#fb9f3a"
             ],
             [
              0.8888888888888888,
              "#fdca26"
             ],
             [
              1,
              "#f0f921"
             ]
            ],
            "type": "heatmap"
           }
          ],
          "heatmapgl": [
           {
            "colorbar": {
             "outlinewidth": 0,
             "ticks": ""
            },
            "colorscale": [
             [
              0,
              "#0d0887"
             ],
             [
              0.1111111111111111,
              "#46039f"
             ],
             [
              0.2222222222222222,
              "#7201a8"
             ],
             [
              0.3333333333333333,
              "#9c179e"
             ],
             [
              0.4444444444444444,
              "#bd3786"
             ],
             [
              0.5555555555555556,
              "#d8576b"
             ],
             [
              0.6666666666666666,
              "#ed7953"
             ],
             [
              0.7777777777777778,
              "#fb9f3a"
             ],
             [
              0.8888888888888888,
              "#fdca26"
             ],
             [
              1,
              "#f0f921"
             ]
            ],
            "type": "heatmapgl"
           }
          ],
          "histogram": [
           {
            "marker": {
             "colorbar": {
              "outlinewidth": 0,
              "ticks": ""
             }
            },
            "type": "histogram"
           }
          ],
          "histogram2d": [
           {
            "colorbar": {
             "outlinewidth": 0,
             "ticks": ""
            },
            "colorscale": [
             [
              0,
              "#0d0887"
             ],
             [
              0.1111111111111111,
              "#46039f"
             ],
             [
              0.2222222222222222,
              "#7201a8"
             ],
             [
              0.3333333333333333,
              "#9c179e"
             ],
             [
              0.4444444444444444,
              "#bd3786"
             ],
             [
              0.5555555555555556,
              "#d8576b"
             ],
             [
              0.6666666666666666,
              "#ed7953"
             ],
             [
              0.7777777777777778,
              "#fb9f3a"
             ],
             [
              0.8888888888888888,
              "#fdca26"
             ],
             [
              1,
              "#f0f921"
             ]
            ],
            "type": "histogram2d"
           }
          ],
          "histogram2dcontour": [
           {
            "colorbar": {
             "outlinewidth": 0,
             "ticks": ""
            },
            "colorscale": [
             [
              0,
              "#0d0887"
             ],
             [
              0.1111111111111111,
              "#46039f"
             ],
             [
              0.2222222222222222,
              "#7201a8"
             ],
             [
              0.3333333333333333,
              "#9c179e"
             ],
             [
              0.4444444444444444,
              "#bd3786"
             ],
             [
              0.5555555555555556,
              "#d8576b"
             ],
             [
              0.6666666666666666,
              "#ed7953"
             ],
             [
              0.7777777777777778,
              "#fb9f3a"
             ],
             [
              0.8888888888888888,
              "#fdca26"
             ],
             [
              1,
              "#f0f921"
             ]
            ],
            "type": "histogram2dcontour"
           }
          ],
          "mesh3d": [
           {
            "colorbar": {
             "outlinewidth": 0,
             "ticks": ""
            },
            "type": "mesh3d"
           }
          ],
          "parcoords": [
           {
            "line": {
             "colorbar": {
              "outlinewidth": 0,
              "ticks": ""
             }
            },
            "type": "parcoords"
           }
          ],
          "pie": [
           {
            "automargin": true,
            "type": "pie"
           }
          ],
          "scatter": [
           {
            "marker": {
             "colorbar": {
              "outlinewidth": 0,
              "ticks": ""
             }
            },
            "type": "scatter"
           }
          ],
          "scatter3d": [
           {
            "line": {
             "colorbar": {
              "outlinewidth": 0,
              "ticks": ""
             }
            },
            "marker": {
             "colorbar": {
              "outlinewidth": 0,
              "ticks": ""
             }
            },
            "type": "scatter3d"
           }
          ],
          "scattercarpet": [
           {
            "marker": {
             "colorbar": {
              "outlinewidth": 0,
              "ticks": ""
             }
            },
            "type": "scattercarpet"
           }
          ],
          "scattergeo": [
           {
            "marker": {
             "colorbar": {
              "outlinewidth": 0,
              "ticks": ""
             }
            },
            "type": "scattergeo"
           }
          ],
          "scattergl": [
           {
            "marker": {
             "colorbar": {
              "outlinewidth": 0,
              "ticks": ""
             }
            },
            "type": "scattergl"
           }
          ],
          "scattermapbox": [
           {
            "marker": {
             "colorbar": {
              "outlinewidth": 0,
              "ticks": ""
             }
            },
            "type": "scattermapbox"
           }
          ],
          "scatterpolar": [
           {
            "marker": {
             "colorbar": {
              "outlinewidth": 0,
              "ticks": ""
             }
            },
            "type": "scatterpolar"
           }
          ],
          "scatterpolargl": [
           {
            "marker": {
             "colorbar": {
              "outlinewidth": 0,
              "ticks": ""
             }
            },
            "type": "scatterpolargl"
           }
          ],
          "scatterternary": [
           {
            "marker": {
             "colorbar": {
              "outlinewidth": 0,
              "ticks": ""
             }
            },
            "type": "scatterternary"
           }
          ],
          "surface": [
           {
            "colorbar": {
             "outlinewidth": 0,
             "ticks": ""
            },
            "colorscale": [
             [
              0,
              "#0d0887"
             ],
             [
              0.1111111111111111,
              "#46039f"
             ],
             [
              0.2222222222222222,
              "#7201a8"
             ],
             [
              0.3333333333333333,
              "#9c179e"
             ],
             [
              0.4444444444444444,
              "#bd3786"
             ],
             [
              0.5555555555555556,
              "#d8576b"
             ],
             [
              0.6666666666666666,
              "#ed7953"
             ],
             [
              0.7777777777777778,
              "#fb9f3a"
             ],
             [
              0.8888888888888888,
              "#fdca26"
             ],
             [
              1,
              "#f0f921"
             ]
            ],
            "type": "surface"
           }
          ],
          "table": [
           {
            "cells": {
             "fill": {
              "color": "#EBF0F8"
             },
             "line": {
              "color": "white"
             }
            },
            "header": {
             "fill": {
              "color": "#C8D4E3"
             },
             "line": {
              "color": "white"
             }
            },
            "type": "table"
           }
          ]
         },
         "layout": {
          "annotationdefaults": {
           "arrowcolor": "#2a3f5f",
           "arrowhead": 0,
           "arrowwidth": 1
          },
          "autotypenumbers": "strict",
          "coloraxis": {
           "colorbar": {
            "outlinewidth": 0,
            "ticks": ""
           }
          },
          "colorscale": {
           "diverging": [
            [
             0,
             "#8e0152"
            ],
            [
             0.1,
             "#c51b7d"
            ],
            [
             0.2,
             "#de77ae"
            ],
            [
             0.3,
             "#f1b6da"
            ],
            [
             0.4,
             "#fde0ef"
            ],
            [
             0.5,
             "#f7f7f7"
            ],
            [
             0.6,
             "#e6f5d0"
            ],
            [
             0.7,
             "#b8e186"
            ],
            [
             0.8,
             "#7fbc41"
            ],
            [
             0.9,
             "#4d9221"
            ],
            [
             1,
             "#276419"
            ]
           ],
           "sequential": [
            [
             0,
             "#0d0887"
            ],
            [
             0.1111111111111111,
             "#46039f"
            ],
            [
             0.2222222222222222,
             "#7201a8"
            ],
            [
             0.3333333333333333,
             "#9c179e"
            ],
            [
             0.4444444444444444,
             "#bd3786"
            ],
            [
             0.5555555555555556,
             "#d8576b"
            ],
            [
             0.6666666666666666,
             "#ed7953"
            ],
            [
             0.7777777777777778,
             "#fb9f3a"
            ],
            [
             0.8888888888888888,
             "#fdca26"
            ],
            [
             1,
             "#f0f921"
            ]
           ],
           "sequentialminus": [
            [
             0,
             "#0d0887"
            ],
            [
             0.1111111111111111,
             "#46039f"
            ],
            [
             0.2222222222222222,
             "#7201a8"
            ],
            [
             0.3333333333333333,
             "#9c179e"
            ],
            [
             0.4444444444444444,
             "#bd3786"
            ],
            [
             0.5555555555555556,
             "#d8576b"
            ],
            [
             0.6666666666666666,
             "#ed7953"
            ],
            [
             0.7777777777777778,
             "#fb9f3a"
            ],
            [
             0.8888888888888888,
             "#fdca26"
            ],
            [
             1,
             "#f0f921"
            ]
           ]
          },
          "colorway": [
           "#636efa",
           "#EF553B",
           "#00cc96",
           "#ab63fa",
           "#FFA15A",
           "#19d3f3",
           "#FF6692",
           "#B6E880",
           "#FF97FF",
           "#FECB52"
          ],
          "font": {
           "color": "#2a3f5f"
          },
          "geo": {
           "bgcolor": "white",
           "lakecolor": "white",
           "landcolor": "#E5ECF6",
           "showlakes": true,
           "showland": true,
           "subunitcolor": "white"
          },
          "hoverlabel": {
           "align": "left"
          },
          "hovermode": "closest",
          "mapbox": {
           "style": "light"
          },
          "paper_bgcolor": "white",
          "plot_bgcolor": "#E5ECF6",
          "polar": {
           "angularaxis": {
            "gridcolor": "white",
            "linecolor": "white",
            "ticks": ""
           },
           "bgcolor": "#E5ECF6",
           "radialaxis": {
            "gridcolor": "white",
            "linecolor": "white",
            "ticks": ""
           }
          },
          "scene": {
           "xaxis": {
            "backgroundcolor": "#E5ECF6",
            "gridcolor": "white",
            "gridwidth": 2,
            "linecolor": "white",
            "showbackground": true,
            "ticks": "",
            "zerolinecolor": "white"
           },
           "yaxis": {
            "backgroundcolor": "#E5ECF6",
            "gridcolor": "white",
            "gridwidth": 2,
            "linecolor": "white",
            "showbackground": true,
            "ticks": "",
            "zerolinecolor": "white"
           },
           "zaxis": {
            "backgroundcolor": "#E5ECF6",
            "gridcolor": "white",
            "gridwidth": 2,
            "linecolor": "white",
            "showbackground": true,
            "ticks": "",
            "zerolinecolor": "white"
           }
          },
          "shapedefaults": {
           "line": {
            "color": "#2a3f5f"
           }
          },
          "ternary": {
           "aaxis": {
            "gridcolor": "white",
            "linecolor": "white",
            "ticks": ""
           },
           "baxis": {
            "gridcolor": "white",
            "linecolor": "white",
            "ticks": ""
           },
           "bgcolor": "#E5ECF6",
           "caxis": {
            "gridcolor": "white",
            "linecolor": "white",
            "ticks": ""
           }
          },
          "title": {
           "x": 0.05
          },
          "xaxis": {
           "automargin": true,
           "gridcolor": "white",
           "linecolor": "white",
           "ticks": "",
           "title": {
            "standoff": 15
           },
           "zerolinecolor": "white",
           "zerolinewidth": 2
          },
          "yaxis": {
           "automargin": true,
           "gridcolor": "white",
           "linecolor": "white",
           "ticks": "",
           "title": {
            "standoff": 15
           },
           "zerolinecolor": "white",
           "zerolinewidth": 2
          }
         }
        }
       }
      },
      "image/png": "[encoded data removed]",
      "text/html": [
       "<div>                            <div id=\"578175f8-7b81-4e67-9e9c-ad1e337b8e36\" class=\"plotly-graph-div\" style=\"height:525px; width:800px;\"></div>            <script type=\"text/javascript\">                require([\"plotly\"], function(Plotly) {                    window.PLOTLYENV=window.PLOTLYENV || {};                                    if (document.getElementById(\"578175f8-7b81-4e67-9e9c-ad1e337b8e36\")) {                    Plotly.newPlot(                        \"578175f8-7b81-4e67-9e9c-ad1e337b8e36\",                        [{\"customdata\": [[\"Scrypt\"], [\"Scrypt\"], [\"X13\"], [\"X11\"], [\"SHA-512\"], [\"SHA-256\"], [\"SHA-256\"], [\"X15\"], [\"Scrypt\"], [\"Scrypt\"], [\"Scrypt\"], [\"Scrypt\"], [\"Scrypt\"], [\"Scrypt\"], [\"Groestl\"], [\"PoS\"], [\"Scrypt\"], [\"Scrypt\"], [\"X11\"], [\"X11\"], [\"SHA3\"], [\"Scrypt\"], [\"SHA-256\"], [\"Scrypt\"], [\"X13\"], [\"X13\"], [\"NeoScrypt\"], [\"Scrypt\"], [\"Scrypt\"], [\"Scrypt\"], [\"X11\"], [\"X11\"], [\"Multiple\"], [\"PHI1612\"], [\"X11\"], [\"Scrypt\"], [\"Scrypt\"], [\"Scrypt\"], [\"X11\"], [\"Multiple\"], [\"X13\"], [\"Scrypt\"], [\"Shabal256\"], [\"Counterparty\"], [\"SHA-256\"], [\"Groestl\"], [\"Scrypt\"], [\"X13\"], [\"Scrypt\"], [\"Scrypt\"], [\"X13\"], [\"X11\"], [\"Scrypt\"], [\"X11\"], [\"SHA3\"], [\"QUAIT\"], [\"X11\"], [\"Scrypt\"], [\"X13\"], [\"SHA-256\"], [\"X15\"], [\"BLAKE256\"], [\"SHA-256\"], [\"X11\"], [\"SHA-256\"], [\"NIST5\"], [\"Scrypt\"], [\"Scrypt\"], [\"X11\"], [\"Scrypt\"], [\"SHA-256\"], [\"Scrypt\"], [\"PoS\"], [\"X11\"], [\"SHA-256\"], [\"SHA-256\"], [\"NIST5\"], [\"X11\"], [\"POS 3.0\"], [\"Scrypt\"], [\"Scrypt\"], [\"Scrypt\"], [\"X13\"], [\"X11\"], [\"X11\"], [\"Scrypt\"], [\"SHA-256\"], [\"X11\"], [\"Scrypt\"], [\"Scrypt\"], [\"Scrypt\"], [\"Scrypt\"], [\"SHA-256D\"], [\"PoS\"], [\"Scrypt\"], [\"X11\"], [\"PoS\"], [\"X13\"], [\"X14\"], [\"PoS\"], [\"SHA-256D\"], [\"DPoS\"], [\"X11\"], [\"X13\"], [\"X11\"], [\"PoS\"], [\"Scrypt\"], [\"Scrypt\"], [\"PoS\"], [\"X11\"], [\"SHA-256\"], [\"Scrypt\"], [\"X11\"], [\"Scrypt\"], [\"Scrypt\"], [\"X11\"], [\"Scrypt\"], [\"Scrypt\"], [\"Scrypt\"], [\"Scrypt\"], [\"Quark\"], [\"QuBit\"], [\"Scrypt\"], [\"SHA-256\"], [\"X11\"], [\"Scrypt\"], [\"Scrypt\"], [\"Scrypt\"], [\"Scrypt\"], [\"X13\"], [\"Scrypt\"], [\"Scrypt\"], [\"X11\"], [\"Blake2S\"], [\"X11\"], [\"PoS\"], [\"X11\"], [\"PoS\"], [\"X11\"], [\"Scrypt\"], [\"Scrypt\"], [\"Scrypt\"], [\"SHA-256\"], [\"X11\"], [\"Scrypt\"], [\"PoS\"], [\"Scrypt\"], [\"X15\"], [\"SHA-256\"], [\"POS 3.0\"], [\"536\"], [\"NIST5\"], [\"NIST5\"], [\"Skein\"], [\"X13\"], [\"Scrypt\"], [\"X13\"], [\"SkunkHash v2 Raptor\"], [\"Skein\"], [\"X11\"], [\"Scrypt\"], [\"VeChainThor Authority\"], [\"PoS\"], [\"Scrypt\"], [\"Scrypt\"], [\"SHA-512\"], [\"Ouroboros\"], [\"X11\"], [\"NeoScrypt\"], [\"Scrypt\"], [\"Lyra2REv2\"], [\"Scrypt\"], [\"SHA-256\"], [\"NIST5\"], [\"PHI1612\"], [\"Scrypt\"], [\"Quark\"], [\"POS 2.0\"], [\"Scrypt\"], [\"SHA-256\"], [\"X11\"], [\"DPoS\"], [\"NIST5\"], [\"X13\"], [\"Scrypt\"], [\"NIST5\"], [\"Quark\"], [\"Scrypt\"], [\"Scrypt\"], [\"X11\"], [\"Quark\"], [\"Scrypt\"], [\"Scrypt\"], [\"X11\"], [\"POS 3.0\"], [\"Ethash\"], [\"Scrypt\"], [\"Scrypt\"], [\"X13\"], [\"SHA-256 + Hive\"], [\"C11\"], [\"X11\"], [\"XEVAN\"], [\"Scrypt\"], [\"VBFT\"], [\"NIST5\"], [\"Scrypt\"], [\"Scrypt\"], [\"Scrypt\"], [\"Green Protocol\"], [\"PoS\"], [\"Scrypt\"], [\"Semux BFT consensus\"], [\"Quark\"], [\"PoS\"], [\"X16R\"], [\"Scrypt\"], [\"XEVAN\"], [\"Scrypt\"], [\"Scrypt\"], [\"Scrypt\"], [\"SHA-256D\"], [\"Scrypt\"], [\"X15\"], [\"Scrypt\"], [\"Quark\"], [\"SHA-256\"], [\"DPoS\"], [\"X16R\"], [\"Quark\"], [\"Quark\"], [\"Scrypt\"], [\"Lyra2REv2\"], [\"Quark\"], [\"Scrypt\"], [\"X11\"], [\"X11\"], [\"Scrypt\"], [\"PoS\"], [\"Keccak\"], [\"X11\"], [\"Scrypt\"], [\"SHA-512\"], [\"XEVAN\"], [\"X11\"], [\"Quark\"], [\"Equihash\"], [\"Scrypt\"], [\"Quark\"], [\"Quark\"], [\"Scrypt\"], [\"X11\"], [\"Scrypt\"], [\"XEVAN\"], [\"SHA-256D\"], [\"X11\"], [\"X11\"], [\"DPoS\"], [\"Scrypt\"], [\"X11\"], [\"Scrypt\"], [\"Scrypt\"], [\"SHA-256\"], [\"Scrypt\"], [\"X11\"], [\"Scrypt\"], [\"SHA-256\"], [\"X11\"], [\"Scrypt\"], [\"Scrypt\"], [\"X11\"], [\"Scrypt\"], [\"PoS\"], [\"X11\"], [\"SHA-256\"], [\"DPoS\"], [\"Scrypt\"], [\"Scrypt\"], [\"NeoScrypt\"], [\"X13\"], [\"DPoS\"], [\"DPoS\"], [\"SHA-256\"], [\"PoS\"], [\"PoS\"], [\"SHA-256\"], [\"Scrypt\"], [\"Scrypt\"]], \"hovertemplate\": \"<b>%{hovertext}</b><br><br>Class=%{marker.color}<br>PC 1=%{x}<br>PC 2=%{y}<br>PC 3=%{z}<br>Algorithm=%{customdata[0]}<extra></extra>\", \"hovertext\": [\"42 Coin\", \"404Coin\", \"EliteCoin\", \"Dash\", \"Bitshares\", \"BitcoinDark\", \"PayCoin\", \"KoboCoin\", \"Aurora Coin\", \"BlueCoin\", \"EnergyCoin\", \"BitBar\", \"CryptoBullion\", \"CasinoCoin\", \"Diamond\", \"Exclusive Coin\", \"FlutterCoin\", \"HoboNickels\", \"HyperStake\", \"IOCoin\", \"MaxCoin\", \"MintCoin\", \"MazaCoin\", \"Nautilus Coin\", \"NavCoin\", \"OpalCoin\", \"Orbitcoin\", \"PotCoin\", \"PhoenixCoin\", \"Reddcoin\", \"SuperCoin\", \"SyncCoin\", \"TeslaCoin\", \"TittieCoin\", \"TorCoin\", \"UnitaryStatus Dollar\", \"UltraCoin\", \"VeriCoin\", \"X11 Coin\", \"Crypti\", \"StealthCoin\", \"ZCC Coin\", \"BurstCoin\", \"StorjCoin\", \"Neutron\", \"FairCoin\", \"RubyCoin\", \"Kore\", \"Dnotes\", \"8BIT Coin\", \"Sativa Coin\", \"Ucoin\", \"Vtorrent\", \"IslaCoin\", \"Nexus\", \"Droidz\", \"Squall Coin\", \"Diggits\", \"Paycon\", \"Emercoin\", \"EverGreenCoin\", \"Decred\", \"EDRCoin\", \"Hitcoin\", \"DubaiCoin\", \"PWR Coin\", \"BillaryCoin\", \"GPU Coin\", \"EuropeCoin\", \"ZeitCoin\", \"SwingCoin\", \"SafeExchangeCoin\", \"Nebuchadnezzar\", \"Ratecoin\", \"Revenu\", \"Clockcoin\", \"VIP Tokens\", \"BitSend\", \"Let it Ride\", \"PutinCoin\", \"iBankCoin\", \"Frankywillcoin\", \"MudraCoin\", \"Lutetium Coin\", \"GoldBlocks\", \"CarterCoin\", \"BitTokens\", \"MustangCoin\", \"ZoneCoin\", \"RootCoin\", \"BitCurrency\", \"Swiscoin\", \"BuzzCoin\", \"Opair\", \"PesoBit\", \"Halloween Coin\", \"CoffeeCoin\", \"RoyalCoin\", \"GanjaCoin V2\", \"TeamUP\", \"LanaCoin\", \"ARK\", \"InsaneCoin\", \"EmberCoin\", \"XenixCoin\", \"FreeCoin\", \"PLNCoin\", \"AquariusCoin\", \"Creatio\", \"Eternity\", \"Eurocoin\", \"BitcoinFast\", \"Stakenet\", \"BitConnect Coin\", \"MoneyCoin\", \"Enigma\", \"Russiacoin\", \"PandaCoin\", \"GameUnits\", \"GAKHcoin\", \"Allsafe\", \"LiteCreed\", \"Klingon Empire Darsek\", \"Internet of People\", \"KushCoin\", \"Printerium\", \"Impeach\", \"Zilbercoin\", \"FirstCoin\", \"FindCoin\", \"OpenChat\", \"RenosCoin\", \"VirtacoinPlus\", \"TajCoin\", \"Impact\", \"Atmos\", \"HappyCoin\", \"MacronCoin\", \"Condensate\", \"Independent Money System\", \"ArgusCoin\", \"LomoCoin\", \"ProCurrency\", \"GoldReserve\", \"GrowthCoin\", \"Phreak\", \"Degas Coin\", \"HTML5 Coin\", \"Ultimate Secure Cash\", \"QTUM\", \"Espers\", \"Denarius\", \"Virta Unique Coin\", \"Bitcoin Planet\", \"BritCoin\", \"Linda\", \"DeepOnion\", \"Signatum\", \"Cream\", \"Monoeci\", \"Draftcoin\", \"Vechain\", \"Stakecoin\", \"CoinonatX\", \"Ethereum Dark\", \"Obsidian\", \"Cardano\", \"Regalcoin\", \"TrezarCoin\", \"TerraNovaCoin\", \"Rupee\", \"WomenCoin\", \"Theresa May Coin\", \"NamoCoin\", \"LUXCoin\", \"Xios\", \"Bitcloud 2.0\", \"KekCoin\", \"BlackholeCoin\", \"Infinity Economics\", \"Magnet\", \"Lamden Tau\", \"Electra\", \"Bitcoin Diamond\", \"Cash & Back Coin\", \"Bulwark\", \"Kalkulus\", \"GermanCoin\", \"LiteCoin Ultra\", \"PhantomX\", \"Digiwage\", \"Trollcoin\", \"Litecoin Plus\", \"Monkey Project\", \"TokenPay\", \"1717 Masonic Commemorative Token\", \"My Big Coin\", \"Unified Society USDEX\", \"Tokyo Coin\", \"LitecoinCash\", \"Stipend\", \"Pushi\", \"Ellerium\", \"Velox\", \"Ontology\", \"Bitspace\", \"Briacoin\", \"Ignition\", \"MedicCoin\", \"Bitcoin Green\", \"Deviant Coin\", \"Abjcoin\", \"Semux\", \"Carebit\", \"Zealium\", \"Proton\", \"iDealCash\", \"Bitcoin Incognito\", \"HollyWoodCoin\", \"Swisscoin\", \"Xt3ch\", \"TheVig\", \"EmaratCoin\", \"Dekado\", \"Lynx\", \"Poseidon Quark\", \"BitcoinWSpectrum\", \"Muse\", \"Trivechain\", \"Dystem\", \"Giant\", \"Peony Coin\", \"Absolute Coin\", \"Vitae\", \"TPCash\", \"ARENON\", \"EUNO\", \"MMOCoin\", \"Ketan\", \"XDNA\", \"PAXEX\", \"ThunderStake\", \"Kcash\", \"Bettex coin\", \"Junson Ming Chan Coin\", \"HerbCoin\", \"PirateCash\", \"Oduwa\", \"Galilel\", \"Crypto Sports\", \"Credit\", \"Dash Platinum\", \"Nasdacoin\", \"Beetle Coin\", \"Titan Coin\", \"Award\", \"Insane Coin\", \"ALAX\", \"LiteDoge\", \"TruckCoin\", \"OrangeCoin\", \"BitstarCoin\", \"NeosCoin\", \"HyperCoin\", \"PinkCoin\", \"AudioCoin\", \"IncaKoin\", \"Piggy Coin\", \"Genstake\", \"XiaoMiCoin\", \"CapriCoin\", \" ClubCoin\", \"Radium\", \"Creditbit \", \"OKCash\", \"Lisk\", \"HiCoin\", \"WhiteCoin\", \"FriendshipCoin\", \"Triangles Coin\", \"EOS\", \"Oxycoin\", \"TigerCash\", \"Particl\", \"Nxt\", \"ZEPHYR\", \"Gapcoin\", \"BitcoinPlus\"], \"legendgroup\": \"0\", \"marker\": {\"color\": [0, 0, 0, 0, 0, 0, 0, 0, 0, 0, 0, 0, 0, 0, 0, 0, 0, 0, 0, 0, 0, 0, 0, 0, 0, 0, 0, 0, 0, 0, 0, 0, 0, 0, 0, 0, 0, 0, 0, 0, 0, 0, 0, 0, 0, 0, 0, 0, 0, 0, 0, 0, 0, 0, 0, 0, 0, 0, 0, 0, 0, 0, 0, 0, 0, 0, 0, 0, 0, 0, 0, 0, 0, 0, 0, 0, 0, 0, 0, 0, 0, 0, 0, 0, 0, 0, 0, 0, 0, 0, 0, 0, 0, 0, 0, 0, 0, 0, 0, 0, 0, 0, 0, 0, 0, 0, 0, 0, 0, 0, 0, 0, 0, 0, 0, 0, 0, 0, 0, 0, 0, 0, 0, 0, 0, 0, 0, 0, 0, 0, 0, 0, 0, 0, 0, 0, 0, 0, 0, 0, 0, 0, 0, 0, 0, 0, 0, 0, 0, 0, 0, 0, 0, 0, 0, 0, 0, 0, 0, 0, 0, 0, 0, 0, 0, 0, 0, 0, 0, 0, 0, 0, 0, 0, 0, 0, 0, 0, 0, 0, 0, 0, 0, 0, 0, 0, 0, 0, 0, 0, 0, 0, 0, 0, 0, 0, 0, 0, 0, 0, 0, 0, 0, 0, 0, 0, 0, 0, 0, 0, 0, 0, 0, 0, 0, 0, 0, 0, 0, 0, 0, 0, 0, 0, 0, 0, 0, 0, 0, 0, 0, 0, 0, 0, 0, 0, 0, 0, 0, 0, 0, 0, 0, 0, 0, 0, 0, 0, 0, 0, 0, 0, 0, 0, 0, 0, 0, 0, 0, 0, 0, 0, 0, 0, 0, 0, 0, 0, 0, 0, 0, 0, 0, 0, 0, 0, 0, 0, 0, 0, 0, 0, 0, 0, 0, 0, 0, 0], \"coloraxis\": \"coloraxis\", \"symbol\": \"circle\"}, \"mode\": \"markers\", \"name\": \"0\", \"scene\": \"scene\", \"showlegend\": true, \"type\": \"scatter3d\", \"x\": [-0.3152059864456756, -0.29856578189219235, 2.301882280013056, -0.40900875030881, -0.34960609935695325, -0.31802971505355654, -0.27951046041650507, -0.2347296318985294, -0.3148660412454597, -0.3074523005128703, -0.3137043276394727, -0.3152019296828331, -0.3151862315516793, 0.6609166827690622, -0.36310856243442413, -0.34400397003509764, -0.2492268567613846, -0.313267597474507, -0.3503368460083462, -0.40890357039630154, -0.4249596219030516, -0.016913489484244124, -0.28139019977911384, -0.2764382307845225, -0.2775819321058623, -0.2782034084786287, -0.3485219083214071, -0.30951687295815683, -0.3136100594771912, 0.042513834910414085, -0.3702000391463246, -0.4092746042582053, -0.2600500783198289, -0.3300738912088406, -0.4091863936721685, -0.290474540733586, -0.3138853976159359, -0.25688774091436134, -0.4091508909675412, -0.26051680918672987, -0.27798452990195777, -0.3063241506896503, -0.06423363138089998, -0.35988450221456375, -0.31724256816318686, -0.36253078637823816, -0.2764184394866318, -0.27827876133613316, -0.2710810546680053, -0.31518807609511856, -0.27823099393872924, -0.37064445135577184, -0.314922861919998, -0.4092561548982011, -0.44725112869561945, -0.4364380269964015, -0.4843086351218869, -0.27482231636339166, -0.27775337741094547, -0.3105996793511, -0.2371667229390786, -0.07370709155138642, -0.3180006632523812, -0.08722545043240434, -0.31806423007433066, -0.22902437431853317, -0.3147989890136058, -0.2746920696222619, -0.40643044712105014, 0.8749113575762344, -0.3178646633604304, -0.06881875375194535, -0.3436877082338642, -0.40710203436076264, -0.31661052332929923, -0.3142828867080449, -0.3502405288639058, -0.40799347291863375, -0.3503637760941263, -0.29113231635145015, -0.3148370525219943, -0.3132781485281818, -0.2384563076202282, -0.35815289309398374, -0.40873090919485067, -0.3140424249773396, -0.3180452525924224, -0.4092453729565286, -0.31502588500628687, -0.31518231598392443, -0.27468064756902694, -0.1890741662942536, 0.035216546178623055, -0.34264626279767074, -0.31479692724478636, -0.3954309132104029, -0.341975536820721, -0.23988432174018534, -0.3864080442344114, -0.34172596873131433, -0.2788817556220404, 3.7629279865179237, -0.40883851955611367, 0.8525985202668575, -0.4092003397705209, -0.3431093566157069, -0.31472474423819635, -0.31487890445310757, -0.3436877082338642, -0.40877600337558695, -0.31790808268283843, -0.31472545380349165, -0.4318009669113576, -0.31487264794262354, -0.31046873454264123, -0.409229304753734, -0.3140848128273446, 0.36592646906386683, -0.31507162054532273, -0.3151420641909182, -0.3635484222924204, -0.338096113991128, -0.31137555118125504, -0.318021694065208, -0.40913938228945684, -0.3149202139293491, -0.3150470264114172, -0.2763253120783162, -0.24021680404551218, -0.23965250438693475, -0.2959275999834687, -0.2760666532109267, -0.40840640849301124, -0.4045984109020725, -0.4071463108615752, -0.34193674120786777, -0.4083044139723961, -0.33634457658902306, -0.40425201568569225, -0.31499037643121075, -0.314989601284867, -0.308123883282115, 0.2521818242756597, -0.40878205377977, -0.2589967930911122, -0.34372200797909563, -0.3142023791127876, 0.8954593326419066, -0.278203275142333, -0.3491438711428698, 0.5911141981311326, -0.35177400218269034, -0.35027849928399685, -0.3975500944490506, -0.27791655074427346, 0.14896387685821966, -0.27798718875437717, -0.3346595351794576, -0.3970555630379135, -0.4090539772461483, -0.27639925422594525, 4.359707436645436, -0.34358858491768846, -0.3146261264036131, -0.3151250180288302, -0.4075857094427067, 0.6365254170757335, -0.40899495499927535, -0.34352885895802243, -0.3150807384612525, -0.3041156362625316, 0.4530151973794075, -0.31637027477202323, -0.3365642517384165, -0.4040748709455676, -0.3150311598774594, -0.4004487817018034, -0.3795139261272188, -0.31490168330809165, -0.10623979681452084, -0.40778956735477, 3.767776556001879, 0.20692177046543314, -0.2746628389407966, -0.3123658429247888, -0.31308206433333524, -0.3634344834227943, 0.09852616650967055, -0.3140418500539161, -0.4083695924277459, -0.36260066271552704, -0.3016256979385022, -0.31514712254034527, -0.37061641848977056, -0.35064532153684413, -0.28047406669657116, -0.24184663630557104, -0.31069867017885333, -0.23146152184338667, -0.5581168503319236, -0.38023354147317473, -0.40907127296710527, -0.40230281236771265, -0.2755607156140284, -0.3183095625576247, -0.3513736181749997, -0.31517444044928905, -0.3151561821499328, -0.26995048468018906, -0.3809778923498607, -0.34318364121044415, -0.314873141483038, 3.959160749882754, -0.399118379564498, -0.34337205124804426, -0.31794888251089776, -0.2618289761181914, -0.47748885253370155, -0.27609386364674937, -0.11856643708195665, -0.276345706774364, -0.34408601168114794, -0.3143480395743302, -0.1980557008888278, 2.299346162305769, -0.35915035752409324, -0.2783303944362018, 1.0385881057208046, -0.35574222183081167, -0.36354788610936667, -0.40213005602541124, -0.15729451311051806, -0.3424999698454538, -0.3622692891510836, -0.3080640451985927, -0.3701944794094295, -0.4085453444469861, -0.2735954182169617, -0.3424735021493449, -0.3399618267961301, -0.37005622591645243, -0.17490396996501212, -0.5162007618433815, -0.3638400338624234, -0.16081668713966066, -0.4014257393880437, -0.2724097057725389, -0.31487706985743114, -0.4018811609340276, -0.36366469011018776, 0.59022618638939, -0.37067066352515793, -0.31436088638464466, -0.39676696757603513, -0.298881439537112, -0.40611454089760585, -0.4087722222035102, 3.7800015500105166, 0.11938106021513144, -0.4063146431969392, -0.3137476250348678, -0.31457098805148814, -0.2795430900573202, -0.31508846364994775, -0.40041206960588355, -0.22894068265341416, -0.09794925111197932, -0.39616770827748765, -0.31436770414420356, -0.3074419610523595, -0.40534569217194377, -0.3128093928357522, -0.34396296364450096, -0.47410997177223047, -0.3165469079556395, 3.7633191800576036, -0.08390077574234103, -0.3100081176329467, -0.34814846272007083, -0.2783857853190674, 3.773176239399214, 3.7744189029060595, -0.2604668948677247, -0.34389890436691206, -0.27022286636632226, 2.4812965178791044, -0.3132547921940889, -0.2767415131924511], \"y\": [1.0130834109545985, 1.0132008945219007, 1.6655890635147954, 1.2796481483049371, 1.936185862879651, 0.8355675278299882, 0.6271503777720135, 1.8794244819175425, 1.0130813708029058, 1.0133247050433924, 1.0131301424825678, 1.0130831609558033, 1.013083273203792, 0.40237225654613534, 0.9356174128131141, 1.4985644450051434, 0.4257374213208832, 1.0130534271194775, 1.0718675539309879, 1.2796514214950139, 1.6379091661090381, 0.8127432332296363, 0.8349037262415613, 0.804654668696291, 1.8217378750396978, 1.8217185347470006, 0.5643739691505684, 1.0129443834292913, 1.0130593258983198, 1.024215621882245, 1.0712494130232737, 1.2796564303674363, 0.10478353936029149, 1.7433099551682658, 1.27965165069527, 1.0126489665829854, 1.0130492522923362, 0.3457386182176352, 1.2796561420253143, 0.10484427004250454, 1.821725346229984, 1.0126072598942433, 0.794074495820831, 1.7785671602458468, 0.8355574063337734, 0.9356386893380952, 0.8046674609086141, 1.821707159135456, 0.8044572833387748, 1.0130839683548318, 1.8217101507590194, 1.0712205318909729, 1.0130771707362163, 1.2796570052625278, 1.2919009108582347, 2.1485463777901312, 0.46410897119648215, 0.8046418768188777, 1.8216949120222945, 0.8350627530095719, 1.8795922427845677, 0.830745864909964, 0.8355684319196093, 1.269698289628505, 0.8355751080858191, 1.5078371633111343, 1.0130644694829947, 0.8045548315558425, 1.2794559606703653, 0.7659939931720183, 0.8355591182694726, 0.40814897850906856, 1.4985592359843798, 1.2796675998325424, 0.8354606367412245, 0.8353055946166182, 1.5039971969516874, 1.2795916949423014, 1.50592784234744, 1.0123274754299352, 1.013061528992871, 1.0130681498331144, 1.6131819352909766, 1.0711298918282337, 1.2796357232109876, 1.0130518911447661, 0.8355677968561569, 1.2796550831364186, 1.0130732121133177, 1.01308414760901, 0.80472154084762, 0.24421361088534171, 1.935748589107753, 1.4985510078130053, 1.0130961408743109, 1.2789584160107312, 1.498597467630647, 1.613286124750534, 1.840153151961587, 1.498408817738787, 1.9353762743954253, 1.941649068817471, 1.2796474254470969, 1.8562693259949683, 1.2796558423917066, 1.4985546576460065, 1.0130693838078377, 1.0130619825212077, 1.4985592359843798, 1.2796267943530857, 0.835572818125338, 1.013073530870273, 0.7723750497141043, 1.0130727129663708, 1.0127411778093487, 1.2796540780713908, 1.0130099341722527, 0.8001879799254412, 1.013077809251789, 1.0130829049342234, 1.5451206875518686, 0.6715543261727506, 1.0128263372724005, 0.8355685299955516, 1.2796535998348533, 1.0130772531414636, 1.0130718518119386, 0.8046289686065187, 0.3272715141591202, 1.6132842896414925, 1.0129307996819292, 0.8046525007575003, 1.2796081939918043, 1.9646723414755256, 1.2796398825938406, 1.4985457778917375, 1.2796113680527483, 1.4985017834571366, 1.279436457117322, 1.01307415750489, 1.0130686218563043, 1.0125512523666211, 0.5872645232865615, 1.2796416571265583, 0.8037045149316628, 1.4985506430484075, 1.013035625089302, 1.8471294845144577, 0.6270498902013761, 1.5059157609077716, 1.898329214869039, 1.5040096796365505, 1.5039734387230768, 1.8752551320477437, 1.8217048851433641, 0.9899006844162408, 1.8217110415974707, 1.3493059550293478, 1.8752705218238606, 1.279656142288089, 0.8046549590953388, 2.6570237482944226, 1.4985310145120085, 1.013065143991109, 1.013082769993652, 1.9370223876456962, 1.5910755176561837, 1.2796448148484334, 0.5642311683230075, 1.0130754685248484, 0.6018331295721457, 1.0181765629891146, 0.8355604703326169, 1.503587467635293, 1.9523157850584847, 1.013073047959768, 1.7534561444287615, 1.6949488163682758, 1.0130817519117867, 0.6257789755374608, 1.2795942777009943, 1.9415177484899862, 1.4988271785276215, 1.8216706808284242, 1.01301375986863, 1.2955774218900786, 1.5451204705545674, 0.9883310670923142, 1.0130067558517022, 1.2796469673585342, 1.5450711636774574, 1.0128287306582748, 1.013082232613719, 1.071220651718339, 1.5059254773779873, -0.11047065983848675, 0.27149270546553855, 1.0130490859772265, 1.6129480805924943, 3.033825897915702, 1.1225453021774199, 1.279643944945817, 1.002738002716804, 0.8046008366221554, 1.5316066838014633, 1.5039920374302655, 1.0130821350357568, 1.0130811981263501, 0.8044924665821556, 1.6981088002677056, 1.4985237488987022, 1.0130711925012803, 2.0193760266790006, 1.7534975464319074, 1.4985239060187212, 0.6916434440903958, 1.010889958927512, 0.18721516184654474, 0.8046579953015738, 1.0115267759142568, 0.8046366120091342, 1.9389205314949085, 1.0130468957625538, 1.6711384200885964, 0.016878081798454944, 1.54477968375527, 0.6271210556091024, 1.718522150940326, 0.9000620780442311, 1.5451161889193772, 1.7535504575270906, 0.7956714915823093, 0.8102401798535649, 1.5450965270565886, 1.0125531145227713, 1.0712081956225732, 1.2796414979704078, 0.8045596492941378, 1.4984540368914196, 0.8490964666666585, 1.0711786331712272, 1.0039036426046848, 2.726602870597626, 0.7943194714028742, 1.077765405410327, 1.753535614336619, 0.06297820443696378, 1.013077843228293, 1.7535477539227753, 1.5451182959686292, 0.9849694142361415, 1.0712199419363788, 1.013046495970892, 1.0025791543893452, 1.9366397839176428, 1.279438699734815, 1.2796494886151608, 1.9415219127415804, 1.000268365796832, 1.279748544860439, 1.012978284455805, 1.0130623414737823, 0.6271429656391665, 1.0130870682857867, 1.2795559559178853, 1.007866172708292, 0.8422899845280342, 1.2793117635485258, 1.013098209965113, 1.013024005575654, 1.2796221674951662, 1.0130375842863908, 1.4985589481428923, 1.0073510606039762, 0.8355512107573418, 1.9416349647783087, 0.8031264144323481, 1.0130194023053989, 0.564343148148852, 1.8217127688886237, 1.942062062723911, 1.9421007343082224, 0.626999865774017, 1.4985612169913165, 1.355053684398088, 0.8499969110456086, 1.0129559937186947, 0.8046566543288564], \"z\": [-0.5207212016362217, -0.5210902502079404, -0.6638464420295183, -0.48858828046778147, -0.14623616927795857, -0.34648132825662575, -0.0785039494299668, -0.62019827107915, -0.5207281124819303, -0.5209195696234812, -0.5207596196306428, -0.5207212521669411, -0.520721600522473, -0.31923853071540925, -0.3664379716513428, -0.08505119691428592, -0.23160140779807484, -0.5207580102216527, -0.22112781252413288, -0.4885909713592182, -0.6061100769758512, -0.25938877182677395, -0.3471633492623353, -0.25274744491718903, -0.6313189247466169, -0.6313030250808989, -0.31396515056216484, -0.5208220111789218, -0.5207515922497048, -0.5298729986027766, -0.22061963852938962, -0.4885838223068447, 0.09261338030818062, -0.24698220736414567, -0.4885850139513802, -0.5211834891143498, -0.5207443350380316, -0.3477238245502577, -0.4885864015888222, 0.0926146688586732, -0.6313086248049662, -0.520841910346598, -0.26436378197649646, -0.19381459175540744, -0.3464965663972008, -0.3664532198655046, -0.25274967477010646, -0.6312998190176242, -0.2528329640652497, -0.5207216598537497, -0.6313012541274878, -0.22060613838979531, -0.5207263145834213, -0.4885842944162768, -0.47596454675520966, -0.7952702760822655, -0.28025589665852774, -0.252779857354431, -0.6313092124649547, -0.34656723801754546, -0.620170402501167, -0.3713141488322264, -0.3464820715092217, -0.4939948852016293, -0.34648167023218734, -0.48065448463352445, -0.5207271402372812, -0.2527702948371892, -0.48861568221376933, -0.27165932114204655, -0.34648363350235334, -0.30460130523124984, -0.08505715763116269, -0.4886314156777382, -0.3464962549003629, -0.34652360566591556, -0.4775437398384078, -0.4886017920026077, -0.16149918035565217, -0.5211240521697266, -0.5207259178816738, -0.5207598707171435, -0.36333474284545764, -0.2208578644705445, -0.4885924060690846, -0.5207413829122107, -0.34648103727040164, -0.4885842506936749, -0.5207235723500578, -0.5207218072187125, -0.2527941339189788, -0.3875416024317263, -0.6781454143607191, -0.08507804949750834, -0.520731666888995, -0.488778212979269, -0.08509883089308008, -0.36331924694706125, -0.5788997092425362, -0.08507741363966054, -0.6714404972427372, -0.030004248997199563, -0.4885917834282678, -0.6601425802541, -0.48858531191157306, -0.08506875836031128, -0.5207294082578937, -0.5207250957045695, -0.08505715763116269, -0.48859018717779984, -0.3464846531058835, -0.5207299802338341, -0.22910700676567614, -0.5207267470706086, -0.5207730887996292, -0.488584448734722, -0.5207345463117963, -0.26571969634587755, -0.5207232544378981, -0.5207224838056507, -0.1940239442537977, -0.31390981869679496, -0.5207659375889769, -0.3464816399847187, -0.4885862854894455, -0.5207263823288225, -0.5207229320546155, -0.25274619863002135, -0.14865339517976817, -0.3633238968006151, -0.5211078925916083, -0.2527550076099434, -0.4885953819217907, -0.6325219886917964, -0.4886265546676152, -0.08509233601641017, -0.4885979913191129, -0.08520454393641094, -0.4886590580554636, -0.5207244581953743, -0.5207236910583514, -0.5207958665260185, -0.08411882304975264, -0.48859216281656154, -0.2529823419135853, -0.08505521490148847, -0.5207356928705605, -0.6395630329680435, -0.07851741031222288, -0.16152330635781892, -0.7044113280579781, -0.47751302963745657, -0.4775395727687917, -0.5988990107145499, -0.6313071683176721, -0.5272703084167358, -0.6313065437179217, -0.12349081525033749, -0.5989116626583221, -0.4885884541398795, -0.25274831149801136, 4.8473617130664195, -0.0850552622807503, -0.5207308967300424, -0.5207228257220615, -0.14512663963740513, -0.1744041074720139, -0.4885881007952336, -0.31405068422058285, -0.5207227300090644, -0.033724288472289886, -0.5377121046156602, -0.34651547420174117, -0.47777539073119785, -0.5142914525135874, -0.5207234373993308, -0.4620240458843794, -0.21934272826355616, -0.5207274115714844, -0.08197949208179323, -0.48860647605396873, -0.03008834777754587, -0.4886119547265416, -0.6313712364332483, -0.5207714935032342, -0.20953716958376925, -0.19402632662415026, -0.5259799251145407, -0.5207350063293991, -0.48860164988923127, -0.19403700669137006, -0.5209727663095548, -0.5207222815111523, -0.22060674905273361, -0.1614928828141793, 0.07669257332988806, -0.27941686247549763, -0.5208118024787887, -0.3634497824387348, 3.0880443083430227, -0.4251035927289454, -0.48858636134221073, -0.5274972765478539, -0.2527584098521696, -0.1824647312699811, -0.47751901208121944, -0.5207216891394619, -0.5207219432112848, -0.2528618882298114, -0.42631425661783207, -0.08506281006751083, -0.5207265214009689, -0.14282315893648131, -0.4620580824949101, -0.08505884201363448, -0.02781398577823065, -0.5215411850615125, -0.31916961617193423, -0.25275520906171395, -0.5246654495305836, -0.2527468485949864, -0.6705612294615971, -0.5207342032888791, -0.3522003656864367, -0.2552837077022268, -0.19406882185977106, -0.078524791321317, -0.06997768519067979, -0.2958069486425775, -0.19402331884219645, -0.4620017882772967, -0.25399922235148054, -0.30170309516989186, -0.19404761488406558, -0.5207973974056577, -0.22061392208417877, -0.48859715350211574, -0.25279420250585505, -0.085067982426929, -0.46311736594079306, -0.22061266565159895, -0.5223932590400523, -0.11813842974963759, -0.25951850611348654, -0.22597643960778835, -0.4620146038336187, 0.1342229332626391, -0.520727379592335, -0.4620066768836388, -0.19402114332279383, -0.5359176976075938, -0.220605499741948, -0.5207338746199248, -0.5275920344750945, -0.6711957742496004, -0.48861992948925503, -0.48859347955991617, -0.030347847607017586, -0.5281112933502732, -0.48865954917221804, -0.5207372076180882, -0.5207316678052484, -0.07850220921003175, -0.520724208308766, -0.4887572980879406, -0.5218097113730679, -0.3520939054325063, -0.4888126237968909, -0.5207410501816053, -0.5208772255352768, -0.4886621820484214, -0.5207654719311541, -0.0850512873158018, -0.3574330337311282, -0.34651042266355614, -0.030010537614555844, -0.25660883269025064, -0.5208222259049905, -0.31396869706638597, -0.6312983464237553, -0.030279752425578843, -0.03031154435721925, -0.07888596431189322, -0.08505296516117254, 0.15852076265096895, -0.03926315411506273, -0.5207444900299103, -0.2527413028274816]}, {\"customdata\": [[\"SHA-256\"], [\"Ethash\"], [\"Scrypt\"], [\"CryptoNight-V7\"], [\"Ethash\"], [\"Equihash\"], [\"Multiple\"], [\"Scrypt\"], [\"X11\"], [\"Scrypt\"], [\"Multiple\"], [\"Scrypt\"], [\"SHA-256\"], [\"Scrypt\"], [\"Scrypt\"], [\"Quark\"], [\"Groestl\"], [\"Scrypt\"], [\"Scrypt\"], [\"Scrypt\"], [\"X11\"], [\"Multiple\"], [\"SHA-256\"], [\"Scrypt\"], [\"Scrypt\"], [\"Scrypt\"], [\"Scrypt\"], [\"Scrypt\"], [\"NeoScrypt\"], [\"Scrypt\"], [\"Scrypt\"], [\"Scrypt\"], [\"Scrypt\"], [\"SHA-256\"], [\"Scrypt\"], [\"Scrypt\"], [\"Scrypt\"], [\"Scrypt\"], [\"HybridScryptHash256\"], [\"Scrypt\"], [\"Scrypt\"], [\"SHA-256\"], [\"Scrypt\"], [\"Scrypt\"], [\"Scrypt\"], [\"Scrypt\"], [\"SHA-256\"], [\"SHA-256\"], [\"SHA-256\"], [\"SHA-256\"], [\"SHA-256\"], [\"X11\"], [\"Scrypt\"], [\"Lyra2REv2\"], [\"Scrypt\"], [\"SHA-256\"], [\"CryptoNight\"], [\"CryptoNight\"], [\"Scrypt\"], [\"Scrypt\"], [\"Scrypt\"], [\"Scrypt\"], [\"Scrypt\"], [\"Scrypt\"], [\"Stanford Folding\"], [\"Multiple\"], [\"QuBit\"], [\"Scrypt\"], [\"Scrypt\"], [\"M7 POW\"], [\"Scrypt\"], [\"SHA-256\"], [\"Scrypt\"], [\"X11\"], [\"Lyra2RE\"], [\"SHA-256\"], [\"X11\"], [\"Scrypt\"], [\"Scrypt\"], [\"Ethash\"], [\"Blake2b\"], [\"X11\"], [\"SHA-256\"], [\"Scrypt\"], [\"1GB AES Pattern Search\"], [\"Scrypt\"], [\"SHA-256\"], [\"X11\"], [\"Dagger\"], [\"Scrypt\"], [\"X11GOST\"], [\"Scrypt\"], [\"X11\"], [\"Scrypt\"], [\"X11\"], [\"Equihash\"], [\"CryptoNight\"], [\"SHA-256\"], [\"Multiple\"], [\"Scrypt\"], [\"SHA-256\"], [\"Scrypt\"], [\"Lyra2Z\"], [\"Ethash\"], [\"Equihash\"], [\"Scrypt\"], [\"X11\"], [\"X11\"], [\"CryptoNight\"], [\"Scrypt\"], [\"CryptoNight\"], [\"Lyra2RE\"], [\"X11\"], [\"CryptoNight-V7\"], [\"Scrypt\"], [\"X11\"], [\"Equihash\"], [\"Scrypt\"], [\"Lyra2RE\"], [\"Dagger-Hashimoto\"], [\"Scrypt\"], [\"NIST5\"], [\"Scrypt\"], [\"SHA-256\"], [\"Scrypt\"], [\"CryptoNight-V7\"], [\"Argon2d\"], [\"Blake2b\"], [\"Cloverhash\"], [\"CryptoNight\"], [\"X11\"], [\"Scrypt\"], [\"Scrypt\"], [\"X11\"], [\"X11\"], [\"CryptoNight\"], [\"Time Travel\"], [\"Scrypt\"], [\"Keccak\"], [\"X11\"], [\"SHA-256\"], [\"Scrypt\"], [\"Scrypt\"], [\"Scrypt\"], [\"Scrypt\"], [\"Scrypt\"], [\"Scrypt\"], [\"CryptoNight\"], [\"Equihash\"], [\"X11\"], [\"NeoScrypt\"], [\"Equihash\"], [\"Dagger\"], [\"Scrypt\"], [\"X11\"], [\"NeoScrypt\"], [\"Ethash\"], [\"NeoScrypt\"], [\"Multiple\"], [\"CryptoNight\"], [\"CryptoNight\"], [\"Ethash\"], [\"X11\"], [\"CryptoNight-V7\"], [\"Scrypt\"], [\"BLAKE256\"], [\"X11\"], [\"NeoScrypt\"], [\"NeoScrypt\"], [\"Scrypt\"], [\"X11\"], [\"SHA-256\"], [\"C11\"], [\"CryptoNight\"], [\"SkunkHash\"], [\"CryptoNight\"], [\"Scrypt\"], [\"Dagger\"], [\"Lyra2REv2\"], [\"Scrypt\"], [\"Scrypt\"], [\"X11\"], [\"Ethash\"], [\"CryptoNight\"], [\"Scrypt\"], [\"IMesh\"], [\"Equihash\"], [\"Lyra2Z\"], [\"X11\"], [\"CryptoNight\"], [\"NIST5\"], [\"Lyra2RE\"], [\"Tribus\"], [\"Lyra2Z\"], [\"CryptoNight\"], [\"CryptoNight Heavy\"], [\"CryptoNight\"], [\"Jump Consistent Hash\"], [\"CryptoNight\"], [\"X16R\"], [\"HMQ1725\"], [\"X11\"], [\"Scrypt\"], [\"CryptoNight-V7\"], [\"Cryptonight-GPU\"], [\"XEVAN\"], [\"CryptoNight Heavy\"], [\"SHA-256\"], [\"X11\"], [\"X16R\"], [\"Equihash\"], [\"Lyra2Z\"], [\"SHA-256\"], [\"XEVAN\"], [\"CryptoNight\"], [\"Blake\"], [\"Blake\"], [\"Exosis\"], [\"Scrypt\"], [\"Equihash\"], [\"Equihash\"], [\"QuBit\"], [\"SHA-256\"], [\"X13\"], [\"SHA-256\"], [\"Scrypt\"], [\"NeoScrypt\"], [\"Blake\"], [\"Scrypt\"], [\"SHA-256\"], [\"Scrypt\"], [\"Groestl\"], [\"Scrypt\"], [\"Scrypt\"], [\"Multiple\"], [\"Equihash+Scrypt\"], [\"Ethash\"], [\"CryptoNight\"], [\"Equihash\"]], \"hovertemplate\": \"<b>%{hovertext}</b><br><br>Class=%{marker.color}<br>PC 1=%{x}<br>PC 2=%{y}<br>PC 3=%{z}<br>Algorithm=%{customdata[0]}<extra></extra>\", \"hovertext\": [\"Bitcoin\", \"Ethereum\", \"Litecoin\", \"Monero\", \"Ethereum Classic\", \"ZCash\", \"DigiByte\", \"ProsperCoin\", \"Spreadcoin\", \"Argentum\", \"MyriadCoin\", \"MoonCoin\", \"ZetaCoin\", \"SexCoin\", \"Quatloo\", \"QuarkCoin\", \"Riecoin\", \"Digitalcoin \", \"Catcoin\", \"CannaCoin\", \"CryptCoin\", \"Verge\", \"DevCoin\", \"EarthCoin\", \"E-Gulden\", \"Einsteinium\", \"Emerald\", \"Franko\", \"FeatherCoin\", \"GrandCoin\", \"GlobalCoin\", \"GoldCoin\", \"Infinite Coin\", \"IXcoin\", \"KrugerCoin\", \"LuckyCoin\", \"Litebar \", \"MegaCoin\", \"MediterraneanCoin\", \"MinCoin\", \"NobleCoin\", \"Namecoin\", \"NyanCoin\", \"RonPaulCoin\", \"StableCoin\", \"SmartCoin\", \"SysCoin\", \"TigerCoin\", \"TerraCoin\", \"UnbreakableCoin\", \"Unobtanium\", \"UroCoin\", \"ViaCoin\", \"Vertcoin\", \"WorldCoin\", \"JouleCoin\", \"ByteCoin\", \"DigitalNote \", \"MonaCoin\", \"Gulden\", \"PesetaCoin\", \"Wild Beast Coin\", \"Flo\", \"ArtByte\", \"Folding Coin\", \"Unitus\", \"CypherPunkCoin\", \"OmniCron\", \"GreenCoin\", \"Cryptonite\", \"MasterCoin\", \"SoonCoin\", \"1Credit\", \"MarsCoin \", \"Crypto\", \"Anarchists Prime\", \"BowsCoin\", \"Song Coin\", \"BitZeny\", \"Expanse\", \"Siacoin\", \"MindCoin\", \"I0coin\", \"Revolution VR\", \"HOdlcoin\", \"Gamecredits\", \"CarpeDiemCoin\", \"Adzcoin\", \"SoilCoin\", \"YoCoin\", \"SibCoin\", \"Francs\", \"BolivarCoin\", \"Omni\", \"PizzaCoin\", \"Komodo\", \"Karbo\", \"ZayedCoin\", \"Circuits of Value\", \"DopeCoin\", \"DollarCoin\", \"Shilling\", \"ZCoin\", \"Elementrem\", \"ZClassic\", \"KiloCoin\", \"ArtexCoin\", \"Kurrent\", \"Cannabis Industry Coin\", \"OsmiumCoin\", \"Bikercoins\", \"HexxCoin\", \"PacCoin\", \"Citadel\", \"BeaverCoin\", \"VaultCoin\", \"Zero\", \"Canada eCoin\", \"Zoin\", \"DubaiCoin\", \"EB3coin\", \"Coinonat\", \"BenjiRolls\", \"ILCoin\", \"EquiTrader\", \"Quantum Resistant Ledger\", \"Dynamic\", \"Nano\", \"ChanCoin\", \"Dinastycoin\", \"DigitalPrice\", \"Unify\", \"SocialCoin\", \"ArcticCoin\", \"DAS\", \"LeviarCoin\", \"Bitcore\", \"gCn Coin\", \"SmartCash\", \"Onix\", \"Bitcoin Cash\", \"Sojourn Coin\", \"NewYorkCoin\", \"FrazCoin\", \"Kronecoin\", \"AdCoin\", \"Linx\", \"Sumokoin\", \"BitcoinZ\", \"Elements\", \"VIVO Coin\", \"Bitcoin Gold\", \"Pirl\", \"eBoost\", \"Pura\", \"Innova\", \"Ellaism\", \"GoByte\", \"SHIELD\", \"UltraNote\", \"BitCoal\", \"DaxxCoin\", \"AC3\", \"Lethean\", \"PopularCoin\", \"Photon\", \"Sucre\", \"SparksPay\", \"GunCoin\", \"IrishCoin\", \"Pioneer Coin\", \"UnitedBitcoin\", \"Interzone\", \"TurtleCoin\", \"MUNcoin\", \"Niobio Cash\", \"ShareChain\", \"Travelflex\", \"KREDS\", \"BitFlip\", \"LottoCoin\", \"Crypto Improvement Fund\", \"Callisto Network\", \"BitTube\", \"Poseidon\", \"Aidos Kuneen\", \"Bitrolium\", \"Alpenschillling\", \"FuturoCoin\", \"Monero Classic\", \"Jumpcoin\", \"Infinex\", \"KEYCO\", \"GINcoin\", \"PlatinCoin\", \"Loki\", \"Newton Coin\", \"MassGrid\", \"PluraCoin\", \"Motion\", \"PlusOneCoin\", \"Axe\", \"HexCoin\", \"Webchain\", \"Ryo\", \"Urals Coin\", \"Qwertycoin\", \"Project Pai\", \"Azart\", \"Xchange\", \"CrypticCoin\", \"Actinium\", \"Bitcoin SV\", \"BitMoney\", \"FREDEnergy\", \"Universal Molecule\", \"Lithium\", \"Exosis\", \"Block-Logic\", \"Beam\", \"Bithereum\", \"SLICE\", \"BLAST\", \"Bitcoin Rhodium\", \"GlobalToken\", \"SolarCoin\", \"UFO Coin\", \"BlakeCoin\", \"Crypto Escudo\", \"Crown Coin\", \"SmileyCoin\", \"Groestlcoin\", \"Bata\", \"Pakcoin\", \"JoinCoin\", \"Vollar\", \"Reality Clash\", \"Beldex\", \"Horizen\"], \"legendgroup\": \"3\", \"marker\": {\"color\": [3, 3, 3, 3, 3, 3, 3, 3, 3, 3, 3, 3, 3, 3, 3, 3, 3, 3, 3, 3, 3, 3, 3, 3, 3, 3, 3, 3, 3, 3, 3, 3, 3, 3, 3, 3, 3, 3, 3, 3, 3, 3, 3, 3, 3, 3, 3, 3, 3, 3, 3, 3, 3, 3, 3, 3, 3, 3, 3, 3, 3, 3, 3, 3, 3, 3, 3, 3, 3, 3, 3, 3, 3, 3, 3, 3, 3, 3, 3, 3, 3, 3, 3, 3, 3, 3, 3, 3, 3, 3, 3, 3, 3, 3, 3, 3, 3, 3, 3, 3, 3, 3, 3, 3, 3, 3, 3, 3, 3, 3, 3, 3, 3, 3, 3, 3, 3, 3, 3, 3, 3, 3, 3, 3, 3, 3, 3, 3, 3, 3, 3, 3, 3, 3, 3, 3, 3, 3, 3, 3, 3, 3, 3, 3, 3, 3, 3, 3, 3, 3, 3, 3, 3, 3, 3, 3, 3, 3, 3, 3, 3, 3, 3, 3, 3, 3, 3, 3, 3, 3, 3, 3, 3, 3, 3, 3, 3, 3, 3, 3, 3, 3, 3, 3, 3, 3, 3, 3, 3, 3, 3, 3, 3, 3, 3, 3, 3, 3, 3, 3, 3, 3, 3, 3, 3, 3, 3, 3, 3, 3, 3, 3, 3, 3, 3, 3, 3, 3, 3, 3, 3, 3, 3, 3, 3, 3, 3, 3, 3, 3, 3, 3, 3, 3, 3, 3, 3, 3, 3], \"coloraxis\": \"coloraxis\", \"symbol\": \"diamond\"}, \"mode\": \"markers\", \"name\": \"3\", \"scene\": \"scene\", \"showlegend\": true, \"type\": \"scatter3d\", \"x\": [-0.15395343048536003, -0.15376675416085903, -0.14996204045853218, -0.154764747285637, -0.15221153918389155, -0.14765393615859104, 0.1514665836249586, -0.15110667058201688, -0.24511671882111277, -0.1507238497898795, -0.1015598132832325, 2.565859415205392, -0.1510424073672294, -0.14798326601869105, -0.15052827085773646, -0.23344341391683987, -0.1981005493576935, -0.15057674682465222, -0.15108895703149436, -0.15117527655387786, -0.24520594902090662, 0.17520893770157256, 0.22336110516751054, 0.09720626821349018, -0.15092190001621705, -0.14653356247502275, -0.15086131440501396, -0.15123220507581217, -0.1797837531328911, -0.13048497322318292, -0.15002896979648153, -0.15030610816251827, 1.5952444097579688, -0.15391484442239756, -0.1475995130048609, -0.1509483065442948, -0.15130262554024923, -0.15056291628708596, -0.1655562750699345, -0.151184068609384, -0.016313961267839548, -0.15399236554873438, -0.14485679020211084, -0.15116358436510155, -0.14926117012372256, -0.15065105781342678, -0.14116324128169747, -0.1534568712365353, -0.1537437221887019, -0.1537269017412383, -0.1543165602223231, -0.24537956015712345, -0.1508804096253968, -0.17793499055592996, -0.14798804557610104, -0.1535240792187007, 3.852179521230139, 0.45587004572761824, -0.14974968672155156, -0.13437358393977597, -0.14847026268473457, -0.15130483819303564, -0.14833542813262557, -0.13457880674803513, -0.1391722540374352, -0.1355180087756625, -0.17506479757992877, -0.1511780654658645, -0.024308476832659857, -0.12683640939472612, -0.15131371124011034, -0.15402011108654207, 0.49966767848511506, -0.24476760408130194, -0.15956901361258113, -0.1537604239118734, -0.24505211951486588, -0.14944062064055966, -0.1486339758795613, -0.1548330613199991, 0.33649512970753753, -0.2450874524580728, -0.15391596548150027, -0.1472771924498011, -0.1191421283242188, -0.14987910259975154, 0.26398633289584245, -0.24424945446638138, -0.1646305137083866, -0.15012663314904473, -0.1353307598374597, -0.15110395419983694, -0.24505077978389722, -0.1513137696536239, -0.2452005782753873, -0.2386571149748092, 0.30099939273514725, -0.15417569912649165, -0.11561895849403218, -0.14848466282271655, -0.1541343805740373, -0.15097769293983931, -0.16690690498660987, -0.15457555792017189, -0.14767552835421266, -0.07817032264986033, -0.23180152600694243, -0.24303216654143475, 0.3009937121353589, -0.15129553823261951, 0.3011242592305962, -0.16010857815917473, 0.4687584476148879, -0.1535317298912673, -0.15126386483165224, -0.2379475133948881, -0.14768787037859712, -0.14939972584164857, -0.1598273331180838, -0.162096127350519, -0.12223951798200196, -0.18755037107418385, -0.15082689456995685, -0.12055111221650656, -0.15064933341407807, -0.1533892579348399, -0.11802543672831725, -0.06334922461710082, -0.14132409658164807, 0.33706499974012444, -0.2442579126562762, -0.1509679828690534, -0.1507318943908125, -0.24465195310794444, -0.24522855030193424, 0.30138809229104474, -0.16970091534581755, 3.253535895320286, -0.11600265695449803, -0.23611619432843117, -0.1539525956635341, -0.07702170380849002, 1.5936967151731476, -0.1510657212696808, -0.1505182921822574, -0.15021968553399775, -0.15020663148485053, 0.3015713288940815, 0.06429681194223294, -0.1996762031173928, -0.18446566375834303, -0.1475341172255123, -0.16339162330090745, -0.1493979370553315, -0.24077963996416915, -0.1843113370843764, -0.1529438195761586, -0.18441136563216318, -0.12576412289241468, 1.137577615333716, 0.30097654114055167, -0.07796460886186117, -0.24052244144972265, -0.14251800325682695, -0.06757293204091808, 1.0939041590919296, -0.24520258298462255, -0.18446319730959115, -0.17751129928896284, -0.15031778794305334, -0.24512809106507297, -0.15393201286822195, -0.21631919644133465, 8.025268662448296, -0.17220055376647941, 0.30484501277759346, 0.04145821894213392, -0.16289514793413906, -0.1635143679379869, -0.15089074156801438, 0.15574711638906458, -0.2392779558004369, -0.1060652780168681, 0.3088859728443505, -0.15112739142489426, -0.14896065267989023, -0.1465265959475169, -0.16469426237623716, -0.2442986382830687, 0.30115882275961675, -0.18760963721670834, -0.15995407031722386, -0.1506818970048127, -0.1669911337592663, 0.30507981437056875, 0.5786466501786998, 2.1067093026959887, -0.13448589072824296, 0.3147435672957799, -0.19264117553928356, -0.16475045265661, -0.2451847692791978, -0.15115195020701244, -0.1424015217987941, -0.164863655679418, -0.23718625640164145, 3.0974470947294064, -0.11383616755494994, -0.24515618643534193, -0.19206991885324065, -0.04243654303877702, -0.16638992060808538, -0.1539526331858662, 0.25897008197869076, 0.3807898042755581, -0.15564364154004393, -0.1560348429134413, -0.15706952109712508, -0.15004597575757053, -0.14559757673665633, -0.14736717410685476, -0.17427714349220527, -0.15322980714692616, -0.11447887882031209, -0.152099530779571, 0.5435082454666755, -0.10973326237453522, -0.1065897017570365, -0.13472922005058133, -0.15374309336217953, 0.563469697766406, -0.19766215131984052, -0.1512286205330004, -0.14918750475245526, -0.13625206391252792, -0.12044572399193032, -0.1546086703805889, 0.3227022124488245, -0.1476549918936442], \"y\": [-1.320222028981849, -2.0577996555371225, -1.1427337753115616, -2.2499746040777575, -2.0579092935234327, -1.8843495263112513, -1.8494117901954126, -1.1427219852613262, -0.8761463898942575, -1.1427424316926402, -1.8429874420194585, -1.347134806141984, -1.320243414763716, -1.1427971198274554, -1.1427634372034239, -0.4022783821062665, -1.2202038195146152, -1.142725937935252, -1.1427214340171163, -1.1427182052062406, -0.8761476616244516, -1.845327831695809, -1.3242678432239752, -1.145138170319905, -1.1427162352167852, -1.1427894766420201, -1.1427226278814853, -1.1427185438152911, -1.5915212838997241, -1.143133520287662, -1.1427253224038771, -1.142735636935075, -1.1565411910081327, -1.3202208281867975, -1.142796782436282, -1.1427163044326518, -1.1427132956952555, -1.1427208672878066, -2.175197768793989, -1.1427161157976096, -1.1497997399744484, -1.3202232406377603, -1.1427652962794765, -1.1427237564134913, -1.142836888096231, -1.142730533733038, -1.3204764628824321, -1.3202261514861533, -1.3202313064918312, -1.320259380057848, -1.3202177140725122, -0.8761395184330878, -1.1427164491454507, -1.345558626794461, -1.142808873537375, -1.320226728880222, -2.3265699464031027, -2.300966803578891, -1.1427430608020357, -1.1434497385608313, -1.142749351149939, -1.1427143263156578, -1.1427403493060124, -1.142944388984942, -2.0612856385059897, -1.8425391120661345, -1.484209174841382, -1.142710940559547, -1.146285763243555, -2.3334360984374394, -1.1427130909247283, -1.3202241040765739, -1.191689021483163, -0.8761453086627828, -2.172833049392807, -1.3202406762722465, -0.8761451321223324, -1.1428125510709435, -1.142817369863855, -2.0578455618877323, -2.147611930774119, -0.876142468915181, -1.320220863074063, -1.1427450447540084, -2.4425012619364295, -1.1427311942923415, -1.3234748984789855, -0.8761675640970783, -2.165908356807021, -1.1428023762526962, -2.2893703106546424, -1.1427211481746624, -0.8761481006423253, -1.1427130904623157, -0.8761527623588407, -0.7262461843297008, -2.2982683600945246, -1.3202204692054917, -1.8428229189797638, -1.142775095600164, -1.320219862402734, -1.1427247444655928, -2.22208774133283, -2.0578445465014132, -1.8843501982585726, -1.1479619393766332, -0.8760932476855512, -0.876238049841871, -2.298276814958164, -1.1427141018364624, -2.2982757625557966, -2.1728078563366973, -0.9291709111324814, -2.25007545499895, -1.1427136020969342, -0.8766607868371912, -1.88434757212903, -1.1427283169769935, -2.172807382099163, -2.120590166226427, -1.144818050583092, -0.6518048309766716, -1.142724206026953, -1.3210481307118196, -1.1427461331738809, -2.2500108170374165, -2.354752682624342, -2.1603111341523027, -2.3927682933057395, -2.298643582047215, -0.8761798681644752, -1.1427163725118454, -1.1427509601237973, -0.8761620285472572, -0.8761490422721947, -2.2982893761322805, -2.262731070247528, -1.1872646054391716, -1.3083176232811102, -0.8766790516488632, -1.3202220030022618, -1.1483024709930456, -1.0884080463387753, -1.1427199583690766, -1.1427510858186425, -1.142753834053981, -1.1427534278130635, -2.298309929564557, -1.8935414477794659, -0.8760718293268, -1.5914344456656102, -1.884345797556085, -2.165964855161621, -1.1427282613101128, -0.876259762878764, -1.5914431889878249, -2.0579847607433437, -1.591436368167239, -1.8427322569849014, -2.336193601869004, -2.2982709526169285, -2.0629662298928806, -0.8764022694979666, -2.250345649319238, -1.1438693840811807, -1.3615284936505216, -0.8761489114692228, -1.5914298535914684, -1.5915739840309904, -1.1427297950819582, -0.8761490014567695, -1.3202207348381276, -1.033252800629554, -2.8104352986962775, -2.0516502465376814, -2.298394017023889, -1.1442391091763462, -2.165907031084798, -1.3458744521521813, -1.1427295640769526, -1.1470091468035135, -0.8763259135548758, -2.0612067845944515, -2.298767957928147, -1.1427226300922222, -2.2191960467512337, -1.8843513186790368, -2.222228545367325, -0.8761811355425719, -2.298269720091357, -0.6517861667576059, -2.17281529963044, -2.2234675898482306, -2.222082159696642, -2.298585384420177, -2.2330083084238734, -2.3805370595277546, -2.1583513873259133, -2.298585670079155, -1.2557130731194308, -2.16719964326206, -0.8761492601718939, -1.1427242261285373, -2.250906829420653, -2.278619373612724, -1.153132816450869, -2.2933340326286626, -1.3205381409651726, -0.876151380888495, -1.2557539378309346, -1.8867787696172478, -2.2221187626448797, -1.3202220041699535, -0.29929278396621173, -2.301858392499698, -2.1322165051924635, -2.1321685569769713, -2.2020178832305497, -1.1427634792818235, -1.8844674999122488, -1.8843480420399288, -1.484259918419827, -1.3202318696664492, -0.33408430156272406, -1.320274961080542, -1.1949152804795575, -1.5920986729661222, -2.135878713852616, -1.1429490698343265, -1.3202312869228028, -1.1580962787411249, -1.2202059802189968, -1.1427137394843565, -1.1427834220267932, -1.8425640629491622, -2.1977980436085813, -2.057844284377007, -2.298639186464932, -1.8843495591656396], \"z\": [0.17846739035123588, 0.3336334068365345, 0.0042066981961151936, 0.3688597549826614, 0.3336159882017053, 0.39120491900720883, 0.34449420879008913, 0.004229271214929339, 0.036365045494277805, 0.004224057667796339, 0.3489436515124196, -0.02437874830845478, 0.17840876553898688, 0.004173756395536559, 0.004222888809757028, 0.0628548489673549, 0.15849549765823268, 0.0042186075676915935, 0.0042288180367486255, 0.004230189150418433, 0.03636711528998291, 0.3434133033244544, 0.17104900314302057, -0.0006876891419714776, 0.004224544100014724, 0.004141971582036776, 0.00422416583262246, 0.004231442755801158, 0.21089979630917216, 0.003850780425005879, 0.004206919194941665, 0.004214248635430265, -0.03080023953416951, 0.17846640317693482, 0.00416558122028916, 0.004225113155209665, 0.004232191320036294, 0.004217596919632274, 0.32771219185486933, 0.0042300796061503, 0.0023763607569524184, 0.17846838645425456, 0.004103036945614611, 0.004230727280140213, 0.004206449912104795, 0.004220831904117465, 0.1782325241364251, 0.17845745736235916, 0.1784642621888866, 0.1784678796775252, 0.17847447023222202, 0.03636963951794316, 0.004223695665309755, 0.2232365827678745, 0.004175521321432218, 0.17845896247338267, 0.34070751308315417, 0.4090131415161442, 0.0042035151361965485, 0.003977896138404747, 0.004177308881878979, 0.0042323840623921215, 0.004173179068552715, 0.003910711860595182, 0.28689434229401545, 0.34959938478406144, 0.2110573429398015, 0.004229219928232015, 0.0020482824296559495, 0.29766474995570014, 0.004232397116950018, 0.1784690962877987, -0.0026222018513072255, 0.036357498626970214, 0.34745131876545493, 0.17846594217390904, 0.03636349932646485, 0.004206805624656062, 0.004190403962074473, 0.3336624878152824, 0.39167058904666685, 0.03636387066629692, 0.17846643185777572, 0.0041514315594578305, 0.509760534609931, 0.004204576338731758, 0.17007637176301799, 0.03634967503989176, 0.34022885614249065, 0.004219894315385195, 0.44529344132210963, 0.0042290951982951585, 0.03636389113728697, 0.004232398288623561, 0.03636772353710789, 0.4995384131712405, 0.4119111559690987, 0.17847187694724267, 0.34921811926048807, 0.004181257905234253, 0.17847091597990825, 0.004226930183214456, 0.3818882794503443, 0.33365689048407093, 0.3912054714154865, 0.0034262677899673144, 0.036075523914008395, 0.0363338714091061, 0.41191247303663703, 0.00423215532630146, 0.4119095592448808, 0.34745918008340243, 0.02875149870067032, 0.3688479163163463, 0.004231413785920385, 0.03628602178021434, 0.3912053610840498, 0.004194016451466589, 0.347453156531233, 0.3463268045456752, 0.003914591759914014, 0.047436100483454424, 0.00422366024422836, 0.17787690228660918, 0.004223003435313471, 0.36883574963443383, 0.4417969704568985, 0.40193633486279723, 0.4571058189837373, 0.41120044209612566, 0.036351595776088236, 0.004225539512053049, 0.004225435215232949, 0.03635741592821024, 0.03636778938377176, 0.41190589854295623, 0.3452636318554944, -0.061572018321701755, 0.06079305410029605, 0.036249822013195314, 0.17846736899340157, 0.003450142631270974, -0.04041149391438835, 0.0042281170584404434, 0.004220929173912136, 0.004214994055092433, 0.0042146600842017405, 0.4119049270900302, 0.38801714950091715, 0.03539211723979032, 0.2109866617597377, 0.39120185359544746, 0.34021061512644196, 0.004193970687692329, 0.03628923906860182, 0.2109846308996942, 0.3336421791510589, 0.21098578391602946, 0.3494201484900309, 0.39956165321624776, 0.4119120069012747, 0.33275932266054176, 0.03630396328363827, 0.3686529042398105, 0.002622539693437105, 0.1375452380208745, 0.036367220913061424, 0.21098595952970212, 0.21085912805947182, 0.0042136691029073916, 0.036365656002941435, 0.17846675357036834, 0.09984976521862853, 0.3208162197595529, 0.32810369123482014, 0.4118474967927027, 0.0003657269472223878, 0.34019191557007183, 0.22297587573922262, 0.004225770860560312, -0.0016626817256207454, 0.036266798658617004, 0.3331054164425761, 0.41181484437086646, 0.004229801330778706, 0.26588403513384185, 0.3911812970269992, 0.38186134876008954, 0.03635263768834832, 0.4119079719398249, 0.04743471380613545, 0.34745696137149545, 0.35674147134312695, 0.38188927324946326, 0.4118696114366395, 0.3369011348425785, 0.3853133088111197, 0.4202373238349513, 0.411664985425666, 0.22916038524267823, 0.4218621859317453, 0.03636689299837707, 0.004230547369617941, 0.36872987058622675, 0.30188741965311594, -0.0025590871822013745, 0.29209494474346975, 0.1776625005400839, 0.03636658782954412, 0.2291540709976565, 0.38932039531400475, 0.3818817213240118, 0.17846736995336168, -0.42609951270987695, 0.4107294506393336, 0.32093176606200474, 0.3209332643083985, 0.4736799932611632, 0.004212680346599626, 0.39117806662721544, 0.39119863564440377, 0.21104784398557377, 0.1784534578136458, -0.1063449770638625, 0.1784356193995487, -0.003094024509417894, 0.20949794036302297, 0.3204112378621661, 0.00391455998955851, 0.17846424610117695, -0.008728397674156452, 0.15848651876591835, 0.004230686801621151, 0.004197321815591877, 0.3496184628914917, 0.3853079884908076, 0.33365755466252056, 0.411504006150094, 0.39120494601681916]}, {\"customdata\": [[\"Proof-of-BibleHash\"], [\"Proof-of-Authority\"], [\"ECC 256K1\"], [\"Leased POS\"]], \"hovertemplate\": \"<b>%{hovertext}</b><br><br>Class=%{marker.color}<br>PC 1=%{x}<br>PC 2=%{y}<br>PC 3=%{z}<br>Algorithm=%{customdata[0]}<extra></extra>\", \"hovertext\": [\"BiblePay\", \"Poa Network\", \"Acute Angle Cloud\", \"Waves\"], \"legendgroup\": \"1\", \"marker\": {\"color\": [1, 1, 1, 1], \"coloraxis\": \"coloraxis\", \"symbol\": \"square\"}, \"mode\": \"markers\", \"name\": \"1\", \"scene\": \"scene\", \"showlegend\": true, \"type\": \"scatter3d\", \"x\": [-0.2304828751874043, -0.32429740734472134, -0.3850361848753018, -0.408235706947486], \"y\": [2.9702356303541517, 2.3396068848521296, 3.575355132290002, 4.066420384592615], \"z\": [13.673122557743456, 20.797310583289423, 12.212059217566603, 14.202639620271729]}, {\"customdata\": [[\"TRC10\"]], \"hovertemplate\": \"<b>%{hovertext}</b><br><br>Class=%{marker.color}<br>PC 1=%{x}<br>PC 2=%{y}<br>PC 3=%{z}<br>Algorithm=%{customdata[0]}<extra></extra>\", \"hovertext\": [\"BitTorrent\"], \"legendgroup\": \"2\", \"marker\": {\"color\": [2], \"coloraxis\": \"coloraxis\", \"symbol\": \"x\"}, \"mode\": \"markers\", \"name\": \"2\", \"scene\": \"scene\", \"showlegend\": true, \"type\": \"scatter3d\", \"x\": [34.027742211132306], \"y\": [1.6975290342385425], \"z\": [-0.836108332955882]}],                        {\"coloraxis\": {\"colorbar\": {\"title\": {\"text\": \"Class\"}}, \"colorscale\": [[0.0, \"#0d0887\"], [0.1111111111111111, \"#46039f\"], [0.2222222222222222, \"#7201a8\"], [0.3333333333333333, \"#9c179e\"], [0.4444444444444444, \"#bd3786\"], [0.5555555555555556, \"#d8576b\"], [0.6666666666666666, \"#ed7953\"], [0.7777777777777778, \"#fb9f3a\"], [0.8888888888888888, \"#fdca26\"], [1.0, \"#f0f921\"]]}, \"legend\": {\"title\": {\"text\": \"Class\"}, \"tracegroupgap\": 0, \"x\": 0, \"y\": 1}, \"margin\": {\"t\": 60}, \"scene\": {\"domain\": {\"x\": [0.0, 1.0], \"y\": [0.0, 1.0]}, \"xaxis\": {\"title\": {\"text\": \"PC 1\"}}, \"yaxis\": {\"title\": {\"text\": \"PC 2\"}}, \"zaxis\": {\"title\": {\"text\": \"PC 3\"}}}, \"template\": {\"data\": {\"bar\": [{\"error_x\": {\"color\": \"#2a3f5f\"}, \"error_y\": {\"color\": \"#2a3f5f\"}, \"marker\": {\"line\": {\"color\": \"#E5ECF6\", \"width\": 0.5}}, \"type\": \"bar\"}], \"barpolar\": [{\"marker\": {\"line\": {\"color\": \"#E5ECF6\", \"width\": 0.5}}, \"type\": \"barpolar\"}], \"carpet\": [{\"aaxis\": {\"endlinecolor\": \"#2a3f5f\", \"gridcolor\": \"white\", \"linecolor\": \"white\", \"minorgridcolor\": \"white\", \"startlinecolor\": \"#2a3f5f\"}, \"baxis\": {\"endlinecolor\": \"#2a3f5f\", \"gridcolor\": \"white\", \"linecolor\": \"white\", \"minorgridcolor\": \"white\", \"startlinecolor\": \"#2a3f5f\"}, \"type\": \"carpet\"}], \"choropleth\": [{\"colorbar\": {\"outlinewidth\": 0, \"ticks\": \"\"}, \"type\": \"choropleth\"}], \"contour\": [{\"colorbar\": {\"outlinewidth\": 0, \"ticks\": \"\"}, \"colorscale\": [[0.0, \"#0d0887\"], [0.1111111111111111, \"#46039f\"], [0.2222222222222222, \"#7201a8\"], [0.3333333333333333, \"#9c179e\"], [0.4444444444444444, \"#bd3786\"], [0.5555555555555556, \"#d8576b\"], [0.6666666666666666, \"#ed7953\"], [0.7777777777777778, \"#fb9f3a\"], [0.8888888888888888, \"#fdca26\"], [1.0, \"#f0f921\"]], \"type\": \"contour\"}], \"contourcarpet\": [{\"colorbar\": {\"outlinewidth\": 0, \"ticks\": \"\"}, \"type\": \"contourcarpet\"}], \"heatmap\": [{\"colorbar\": {\"outlinewidth\": 0, \"ticks\": \"\"}, \"colorscale\": [[0.0, \"#0d0887\"], [0.1111111111111111, \"#46039f\"], [0.2222222222222222, \"#7201a8\"], [0.3333333333333333, \"#9c179e\"], [0.4444444444444444, \"#bd3786\"], [0.5555555555555556, \"#d8576b\"], [0.6666666666666666, \"#ed7953\"], [0.7777777777777778, \"#fb9f3a\"], [0.8888888888888888, \"#fdca26\"], [1.0, \"#f0f921\"]], \"type\": \"heatmap\"}], \"heatmapgl\": [{\"colorbar\": {\"outlinewidth\": 0, \"ticks\": \"\"}, \"colorscale\": [[0.0, \"#0d0887\"], [0.1111111111111111, \"#46039f\"], [0.2222222222222222, \"#7201a8\"], [0.3333333333333333, \"#9c179e\"], [0.4444444444444444, \"#bd3786\"], [0.5555555555555556, \"#d8576b\"], [0.6666666666666666, \"#ed7953\"], [0.7777777777777778, \"#fb9f3a\"], [0.8888888888888888, \"#fdca26\"], [1.0, \"#f0f921\"]], \"type\": \"heatmapgl\"}], \"histogram\": [{\"marker\": {\"colorbar\": {\"outlinewidth\": 0, \"ticks\": \"\"}}, \"type\": \"histogram\"}], \"histogram2d\": [{\"colorbar\": {\"outlinewidth\": 0, \"ticks\": \"\"}, \"colorscale\": [[0.0, \"#0d0887\"], [0.1111111111111111, \"#46039f\"], [0.2222222222222222, \"#7201a8\"], [0.3333333333333333, \"#9c179e\"], [0.4444444444444444, \"#bd3786\"], [0.5555555555555556, \"#d8576b\"], [0.6666666666666666, \"#ed7953\"], [0.7777777777777778, \"#fb9f3a\"], [0.8888888888888888, \"#fdca26\"], [1.0, \"#f0f921\"]], \"type\": \"histogram2d\"}], \"histogram2dcontour\": [{\"colorbar\": {\"outlinewidth\": 0, \"ticks\": \"\"}, \"colorscale\": [[0.0, \"#0d0887\"], [0.1111111111111111, \"#46039f\"], [0.2222222222222222, \"#7201a8\"], [0.3333333333333333, \"#9c179e\"], [0.4444444444444444, \"#bd3786\"], [0.5555555555555556, \"#d8576b\"], [0.6666666666666666, \"#ed7953\"], [0.7777777777777778, \"#fb9f3a\"], [0.8888888888888888, \"#fdca26\"], [1.0, \"#f0f921\"]], \"type\": \"histogram2dcontour\"}], \"mesh3d\": [{\"colorbar\": {\"outlinewidth\": 0, \"ticks\": \"\"}, \"type\": \"mesh3d\"}], \"parcoords\": [{\"line\": {\"colorbar\": {\"outlinewidth\": 0, \"ticks\": \"\"}}, \"type\": \"parcoords\"}], \"pie\": [{\"automargin\": true, \"type\": \"pie\"}], \"scatter\": [{\"marker\": {\"colorbar\": {\"outlinewidth\": 0, \"ticks\": \"\"}}, \"type\": \"scatter\"}], \"scatter3d\": [{\"line\": {\"colorbar\": {\"outlinewidth\": 0, \"ticks\": \"\"}}, \"marker\": {\"colorbar\": {\"outlinewidth\": 0, \"ticks\": \"\"}}, \"type\": \"scatter3d\"}], \"scattercarpet\": [{\"marker\": {\"colorbar\": {\"outlinewidth\": 0, \"ticks\": \"\"}}, \"type\": \"scattercarpet\"}], \"scattergeo\": [{\"marker\": {\"colorbar\": {\"outlinewidth\": 0, \"ticks\": \"\"}}, \"type\": \"scattergeo\"}], \"scattergl\": [{\"marker\": {\"colorbar\": {\"outlinewidth\": 0, \"ticks\": \"\"}}, \"type\": \"scattergl\"}], \"scattermapbox\": [{\"marker\": {\"colorbar\": {\"outlinewidth\": 0, \"ticks\": \"\"}}, \"type\": \"scattermapbox\"}], \"scatterpolar\": [{\"marker\": {\"colorbar\": {\"outlinewidth\": 0, \"ticks\": \"\"}}, \"type\": \"scatterpolar\"}], \"scatterpolargl\": [{\"marker\": {\"colorbar\": {\"outlinewidth\": 0, \"ticks\": \"\"}}, \"type\": \"scatterpolargl\"}], \"scatterternary\": [{\"marker\": {\"colorbar\": {\"outlinewidth\": 0, \"ticks\": \"\"}}, \"type\": \"scatterternary\"}], \"surface\": [{\"colorbar\": {\"outlinewidth\": 0, \"ticks\": \"\"}, \"colorscale\": [[0.0, \"#0d0887\"], [0.1111111111111111, \"#46039f\"], [0.2222222222222222, \"#7201a8\"], [0.3333333333333333, \"#9c179e\"], [0.4444444444444444, \"#bd3786\"], [0.5555555555555556, \"#d8576b\"], [0.6666666666666666, \"#ed7953\"], [0.7777777777777778, \"#fb9f3a\"], [0.8888888888888888, \"#fdca26\"], [1.0, \"#f0f921\"]], \"type\": \"surface\"}], \"table\": [{\"cells\": {\"fill\": {\"color\": \"#EBF0F8\"}, \"line\": {\"color\": \"white\"}}, \"header\": {\"fill\": {\"color\": \"#C8D4E3\"}, \"line\": {\"color\": \"white\"}}, \"type\": \"table\"}]}, \"layout\": {\"annotationdefaults\": {\"arrowcolor\": \"#2a3f5f\", \"arrowhead\": 0, \"arrowwidth\": 1}, \"autotypenumbers\": \"strict\", \"coloraxis\": {\"colorbar\": {\"outlinewidth\": 0, \"ticks\": \"\"}}, \"colorscale\": {\"diverging\": [[0, \"#8e0152\"], [0.1, \"#c51b7d\"], [0.2, \"#de77ae\"], [0.3, \"#f1b6da\"], [0.4, \"#fde0ef\"], [0.5, \"#f7f7f7\"], [0.6, \"#e6f5d0\"], [0.7, \"#b8e186\"], [0.8, \"#7fbc41\"], [0.9, \"#4d9221\"], [1, \"#276419\"]], \"sequential\": [[0.0, \"#0d0887\"], [0.1111111111111111, \"#46039f\"], [0.2222222222222222, \"#7201a8\"], [0.3333333333333333, \"#9c179e\"], [0.4444444444444444, \"#bd3786\"], [0.5555555555555556, \"#d8576b\"], [0.6666666666666666, \"#ed7953\"], [0.7777777777777778, \"#fb9f3a\"], [0.8888888888888888, \"#fdca26\"], [1.0, \"#f0f921\"]], \"sequentialminus\": [[0.0, \"#0d0887\"], [0.1111111111111111, \"#46039f\"], [0.2222222222222222, \"#7201a8\"], [0.3333333333333333, \"#9c179e\"], [0.4444444444444444, \"#bd3786\"], [0.5555555555555556, \"#d8576b\"], [0.6666666666666666, \"#ed7953\"], [0.7777777777777778, \"#fb9f3a\"], [0.8888888888888888, \"#fdca26\"], [1.0, \"#f0f921\"]]}, \"colorway\": [\"#636efa\", \"#EF553B\", \"#00cc96\", \"#ab63fa\", \"#FFA15A\", \"#19d3f3\", \"#FF6692\", \"#B6E880\", \"#FF97FF\", \"#FECB52\"], \"font\": {\"color\": \"#2a3f5f\"}, \"geo\": {\"bgcolor\": \"white\", \"lakecolor\": \"white\", \"landcolor\": \"#E5ECF6\", \"showlakes\": true, \"showland\": true, \"subunitcolor\": \"white\"}, \"hoverlabel\": {\"align\": \"left\"}, \"hovermode\": \"closest\", \"mapbox\": {\"style\": \"light\"}, \"paper_bgcolor\": \"white\", \"plot_bgcolor\": \"#E5ECF6\", \"polar\": {\"angularaxis\": {\"gridcolor\": \"white\", \"linecolor\": \"white\", \"ticks\": \"\"}, \"bgcolor\": \"#E5ECF6\", \"radialaxis\": {\"gridcolor\": \"white\", \"linecolor\": \"white\", \"ticks\": \"\"}}, \"scene\": {\"xaxis\": {\"backgroundcolor\": \"#E5ECF6\", \"gridcolor\": \"white\", \"gridwidth\": 2, \"linecolor\": \"white\", \"showbackground\": true, \"ticks\": \"\", \"zerolinecolor\": \"white\"}, \"yaxis\": {\"backgroundcolor\": \"#E5ECF6\", \"gridcolor\": \"white\", \"gridwidth\": 2, \"linecolor\": \"white\", \"showbackground\": true, \"ticks\": \"\", \"zerolinecolor\": \"white\"}, \"zaxis\": {\"backgroundcolor\": \"#E5ECF6\", \"gridcolor\": \"white\", \"gridwidth\": 2, \"linecolor\": \"white\", \"showbackground\": true, \"ticks\": \"\", \"zerolinecolor\": \"white\"}}, \"shapedefaults\": {\"line\": {\"color\": \"#2a3f5f\"}}, \"ternary\": {\"aaxis\": {\"gridcolor\": \"white\", \"linecolor\": \"white\", \"ticks\": \"\"}, \"baxis\": {\"gridcolor\": \"white\", \"linecolor\": \"white\", \"ticks\": \"\"}, \"bgcolor\": \"#E5ECF6\", \"caxis\": {\"gridcolor\": \"white\", \"linecolor\": \"white\", \"ticks\": \"\"}}, \"title\": {\"x\": 0.05}, \"xaxis\": {\"automargin\": true, \"gridcolor\": \"white\", \"linecolor\": \"white\", \"ticks\": \"\", \"title\": {\"standoff\": 15}, \"zerolinecolor\": \"white\", \"zerolinewidth\": 2}, \"yaxis\": {\"automargin\": true, \"gridcolor\": \"white\", \"linecolor\": \"white\", \"ticks\": \"\", \"title\": {\"standoff\": 15}, \"zerolinecolor\": \"white\", \"zerolinewidth\": 2}}}, \"width\": 800},                        {\"responsive\": true}                    ).then(function(){\n",
       "                            \n",
       "var gd = document.getElementById('578175f8-7b81-4e67-9e9c-ad1e337b8e36');\n",
       "var x = new MutationObserver(function (mutations, observer) {{\n",
       "        var display = window.getComputedStyle(gd).display;\n",
       "        if (!display || display === 'none') {{\n",
       "            console.log([gd, 'removed!']);\n",
       "            Plotly.purge(gd);\n",
       "            observer.disconnect();\n",
       "        }}\n",
       "}});\n",
       "\n",
       "// Listen for the removal of the full notebook cells\n",
       "var notebookContainer = gd.closest('#notebook-container');\n",
       "if (notebookContainer) {{\n",
       "    x.observe(notebookContainer, {childList: true});\n",
       "}}\n",
       "\n",
       "// Listen for the clearing of the current output cell\n",
       "var outputEl = gd.closest('.output');\n",
       "if (outputEl) {{\n",
       "    x.observe(outputEl, {childList: true});\n",
       "}}\n",
       "\n",
       "                        })                };                });            </script>        </div>"
      ]
     },
     "metadata": {},
     "output_type": "display_data"
    }
   ],
   "source": [
    "# Create a 3D-Scatter with the PCA data and the clusters\n",
    "fig = px.scatter_3d(\n",
    "    clustered_df,\n",
    "    x=\"PC 1\",\n",
    "    y=\"PC 2\",\n",
    "    z=\"PC 3\",\n",
    "    color=\"Class\",\n",
    "    symbol=\"Class\",\n",
    "    width=800,\n",
    "    hover_name = \"CoinName\",\n",
    "    hover_data = [\"Algorithm\"],\n",
    ")\n",
    "fig.update_layout(legend=dict(x=0, y=1))\n",
    "fig.show()"
   ]
  },
  {
   "cell_type": "markdown",
   "metadata": {},
   "source": [
    "#### Table of Tradable Cryptocurrencies"
   ]
  },
  {
   "cell_type": "code",
   "execution_count": 106,
   "metadata": {},
   "outputs": [
    {
     "data": {},
     "metadata": {},
     "output_type": "display_data"
    },
    {
     "data": {
      "application/vnd.holoviews_exec.v0+json": "",
      "text/html": [
       "<div id='2767'>\n",
       "\n",
       "\n",
       "\n",
       "\n",
       "\n",
       "  <div class=\"bk-root\" id=\"12314f7b-e500-4a87-a2f9-eeabd5a206be\" data-root-id=\"2767\"></div>\n",
       "</div>\n",
       "<script type=\"application/javascript\">(function(root) {\n",
       "  function embed_document(root) {\n",
       "    var docs_json = {\"0434a816-9249-436a-bbe3-d3b43677aa2b\":{\"defs\":[],\"roots\":{\"references\":[{\"attributes\":{\"source\":{\"id\":\"2769\"}},\"id\":\"2818\",\"type\":\"CDSView\"},{\"attributes\":{\"margin\":[5,5,5,5],\"name\":\"HSpacer05051\",\"sizing_mode\":\"stretch_width\"},\"id\":\"2823\",\"type\":\"Spacer\"},{\"attributes\":{},\"id\":\"2819\",\"type\":\"UnionRenderers\"},{\"attributes\":{\"columns\":[{\"id\":\"2773\"},{\"id\":\"2778\"},{\"id\":\"2783\"},{\"id\":\"2788\"},{\"id\":\"2793\"},{\"id\":\"2798\"},{\"id\":\"2803\"},{\"id\":\"2808\"},{\"id\":\"2813\"}],\"height\":300,\"reorderable\":false,\"source\":{\"id\":\"2769\"},\"view\":{\"id\":\"2818\"},\"width\":700},\"id\":\"2816\",\"type\":\"DataTable\"},{\"attributes\":{\"editor\":{\"id\":\"2812\"},\"field\":\"Class\",\"formatter\":{\"id\":\"2811\"},\"title\":\"Class\"},\"id\":\"2813\",\"type\":\"TableColumn\"},{\"attributes\":{\"children\":[{\"id\":\"2768\"},{\"id\":\"2816\"},{\"id\":\"2823\"}],\"margin\":[0,0,0,0],\"name\":\"Row05046\",\"tags\":[\"embedded\"]},\"id\":\"2767\",\"type\":\"Row\"},{\"attributes\":{\"margin\":[5,5,5,5],\"name\":\"HSpacer05050\",\"sizing_mode\":\"stretch_width\"},\"id\":\"2768\",\"type\":\"Spacer\"},{\"attributes\":{\"editor\":{\"id\":\"2772\"},\"field\":\"Algorithm\",\"formatter\":{\"id\":\"2771\"},\"title\":\"Algorithm\"},\"id\":\"2773\",\"type\":\"TableColumn\"},{\"attributes\":{},\"id\":\"2776\",\"type\":\"StringFormatter\"},{\"attributes\":{},\"id\":\"2770\",\"type\":\"Selection\"},{\"attributes\":{},\"id\":\"2771\",\"type\":\"StringFormatter\"},{\"attributes\":{},\"id\":\"2777\",\"type\":\"StringEditor\"},{\"attributes\":{\"data\":{\"Algorithm\":[\"Scrypt\",\"Scrypt\",\"X13\",\"SHA-256\",\"Ethash\",\"Scrypt\",\"X11\",\"CryptoNight-V7\",\"Ethash\",\"Equihash\",\"SHA-512\",\"Multiple\",\"SHA-256\",\"SHA-256\",\"Scrypt\",\"X15\",\"X11\",\"Scrypt\",\"Scrypt\",\"Scrypt\",\"Multiple\",\"Scrypt\",\"SHA-256\",\"Scrypt\",\"Scrypt\",\"Scrypt\",\"Quark\",\"Groestl\",\"Scrypt\",\"Scrypt\",\"Scrypt\",\"Scrypt\",\"Scrypt\",\"X11\",\"Scrypt\",\"Groestl\",\"Multiple\",\"SHA-256\",\"Scrypt\",\"Scrypt\",\"Scrypt\",\"Scrypt\",\"PoS\",\"Scrypt\",\"Scrypt\",\"NeoScrypt\",\"Scrypt\",\"Scrypt\",\"Scrypt\",\"Scrypt\",\"X11\",\"Scrypt\",\"X11\",\"SHA-256\",\"Scrypt\",\"Scrypt\",\"Scrypt\",\"SHA3\",\"Scrypt\",\"HybridScryptHash256\",\"Scrypt\",\"Scrypt\",\"SHA-256\",\"Scrypt\",\"X13\",\"Scrypt\",\"SHA-256\",\"Scrypt\",\"X13\",\"NeoScrypt\",\"Scrypt\",\"Scrypt\",\"Scrypt\",\"Scrypt\",\"Scrypt\",\"Scrypt\",\"X11\",\"X11\",\"SHA-256\",\"Multiple\",\"SHA-256\",\"PHI1612\",\"X11\",\"SHA-256\",\"SHA-256\",\"SHA-256\",\"X11\",\"Scrypt\",\"Scrypt\",\"Scrypt\",\"Scrypt\",\"Lyra2REv2\",\"Scrypt\",\"X11\",\"Multiple\",\"SHA-256\",\"X13\",\"Scrypt\",\"CryptoNight\",\"CryptoNight\",\"Shabal256\",\"Counterparty\",\"Scrypt\",\"SHA-256\",\"Groestl\",\"Scrypt\",\"Scrypt\",\"Scrypt\",\"X13\",\"Scrypt\",\"Scrypt\",\"Scrypt\",\"Scrypt\",\"X13\",\"Scrypt\",\"Stanford Folding\",\"X11\",\"Multiple\",\"QuBit\",\"Scrypt\",\"Scrypt\",\"Scrypt\",\"M7 POW\",\"Scrypt\",\"SHA-256\",\"Scrypt\",\"X11\",\"SHA3\",\"X11\",\"Lyra2RE\",\"SHA-256\",\"QUAIT\",\"X11\",\"X11\",\"Scrypt\",\"Scrypt\",\"Scrypt\",\"Ethash\",\"X13\",\"Blake2b\",\"SHA-256\",\"X15\",\"X11\",\"SHA-256\",\"BLAKE256\",\"Scrypt\",\"1GB AES Pattern Search\",\"SHA-256\",\"X11\",\"Scrypt\",\"SHA-256\",\"SHA-256\",\"NIST5\",\"Scrypt\",\"Scrypt\",\"X11\",\"Dagger\",\"Scrypt\",\"X11GOST\",\"X11\",\"Scrypt\",\"SHA-256\",\"Scrypt\",\"PoS\",\"Scrypt\",\"X11\",\"X11\",\"SHA-256\",\"SHA-256\",\"NIST5\",\"X11\",\"Scrypt\",\"POS 3.0\",\"Scrypt\",\"Scrypt\",\"Scrypt\",\"X13\",\"X11\",\"X11\",\"Equihash\",\"X11\",\"Scrypt\",\"CryptoNight\",\"SHA-256\",\"SHA-256\",\"X11\",\"Scrypt\",\"Multiple\",\"Scrypt\",\"Scrypt\",\"Scrypt\",\"SHA-256\",\"Scrypt\",\"Scrypt\",\"SHA-256D\",\"PoS\",\"Scrypt\",\"X11\",\"Lyra2Z\",\"PoS\",\"X13\",\"X14\",\"PoS\",\"SHA-256D\",\"Ethash\",\"Equihash\",\"DPoS\",\"X11\",\"Scrypt\",\"X11\",\"X13\",\"X11\",\"PoS\",\"Scrypt\",\"Scrypt\",\"X11\",\"PoS\",\"X11\",\"SHA-256\",\"Scrypt\",\"X11\",\"Scrypt\",\"Scrypt\",\"X11\",\"CryptoNight\",\"Scrypt\",\"Scrypt\",\"Scrypt\",\"Scrypt\",\"Quark\",\"QuBit\",\"Scrypt\",\"CryptoNight\",\"Lyra2RE\",\"Scrypt\",\"SHA-256\",\"X11\",\"Scrypt\",\"X11\",\"Scrypt\",\"CryptoNight-V7\",\"Scrypt\",\"Scrypt\",\"Scrypt\",\"X13\",\"X11\",\"Equihash\",\"Scrypt\",\"Scrypt\",\"Lyra2RE\",\"Scrypt\",\"Dagger-Hashimoto\",\"X11\",\"Blake2S\",\"X11\",\"Scrypt\",\"PoS\",\"X11\",\"NIST5\",\"PoS\",\"X11\",\"Scrypt\",\"Scrypt\",\"Scrypt\",\"SHA-256\",\"X11\",\"Scrypt\",\"Scrypt\",\"SHA-256\",\"PoS\",\"Scrypt\",\"X15\",\"SHA-256\",\"Scrypt\",\"POS 3.0\",\"CryptoNight-V7\",\"536\",\"Argon2d\",\"Blake2b\",\"Cloverhash\",\"CryptoNight\",\"NIST5\",\"X11\",\"NIST5\",\"Skein\",\"Scrypt\",\"X13\",\"Scrypt\",\"X11\",\"X11\",\"Scrypt\",\"CryptoNight\",\"X13\",\"Time Travel\",\"Scrypt\",\"Keccak\",\"SkunkHash v2 Raptor\",\"X11\",\"Skein\",\"SHA-256\",\"X11\",\"Scrypt\",\"VeChainThor Authority\",\"Scrypt\",\"PoS\",\"Scrypt\",\"Scrypt\",\"Scrypt\",\"Scrypt\",\"Scrypt\",\"Scrypt\",\"Scrypt\",\"CryptoNight\",\"SHA-512\",\"Ouroboros\",\"X11\",\"Equihash\",\"NeoScrypt\",\"X11\",\"Scrypt\",\"NeoScrypt\",\"Lyra2REv2\",\"Equihash\",\"Scrypt\",\"SHA-256\",\"NIST5\",\"PHI1612\",\"Dagger\",\"Scrypt\",\"Quark\",\"Scrypt\",\"POS 2.0\",\"Scrypt\",\"SHA-256\",\"X11\",\"NeoScrypt\",\"Ethash\",\"NeoScrypt\",\"X11\",\"DPoS\",\"NIST5\",\"X13\",\"Multiple\",\"Scrypt\",\"CryptoNight\",\"CryptoNight\",\"Ethash\",\"NIST5\",\"Quark\",\"X11\",\"CryptoNight-V7\",\"Scrypt\",\"Scrypt\",\"Scrypt\",\"X11\",\"BLAKE256\",\"X11\",\"NeoScrypt\",\"Quark\",\"NeoScrypt\",\"Scrypt\",\"Scrypt\",\"Scrypt\",\"X11\",\"X11\",\"SHA-256\",\"C11\",\"POS 3.0\",\"Ethash\",\"Scrypt\",\"CryptoNight\",\"SkunkHash\",\"Scrypt\",\"CryptoNight\",\"Scrypt\",\"Dagger\",\"Lyra2REv2\",\"X13\",\"Proof-of-BibleHash\",\"SHA-256 + Hive\",\"Scrypt\",\"Scrypt\",\"X11\",\"C11\",\"Proof-of-Authority\",\"X11\",\"XEVAN\",\"Scrypt\",\"VBFT\",\"Ethash\",\"CryptoNight\",\"Scrypt\",\"IMesh\",\"NIST5\",\"Scrypt\",\"Scrypt\",\"Equihash\",\"Scrypt\",\"Lyra2Z\",\"Green Protocol\",\"PoS\",\"Scrypt\",\"Semux BFT consensus\",\"X11\",\"Quark\",\"PoS\",\"CryptoNight\",\"X16R\",\"Scrypt\",\"NIST5\",\"Lyra2RE\",\"XEVAN\",\"Tribus\",\"Scrypt\",\"Lyra2Z\",\"CryptoNight\",\"CryptoNight Heavy\",\"CryptoNight\",\"Scrypt\",\"Scrypt\",\"Jump Consistent Hash\",\"SHA-256D\",\"CryptoNight\",\"Scrypt\",\"X15\",\"Scrypt\",\"Quark\",\"SHA-256\",\"DPoS\",\"X16R\",\"HMQ1725\",\"X11\",\"X16R\",\"Quark\",\"Quark\",\"Scrypt\",\"Lyra2REv2\",\"Quark\",\"Scrypt\",\"Scrypt\",\"CryptoNight-V7\",\"Cryptonight-GPU\",\"XEVAN\",\"CryptoNight Heavy\",\"X11\",\"X11\",\"Scrypt\",\"PoS\",\"SHA-256\",\"Keccak\",\"X11\",\"X11\",\"Scrypt\",\"SHA-512\",\"X16R\",\"ECC 256K1\",\"Equihash\",\"XEVAN\",\"Lyra2Z\",\"SHA-256\",\"XEVAN\",\"X11\",\"CryptoNight\",\"Quark\",\"Blake\",\"Blake\",\"Equihash\",\"Exosis\",\"Scrypt\",\"Scrypt\",\"Equihash\",\"Quark\",\"Equihash\",\"Quark\",\"Scrypt\",\"QuBit\",\"X11\",\"Scrypt\",\"XEVAN\",\"SHA-256D\",\"X11\",\"SHA-256\",\"X13\",\"SHA-256\",\"X11\",\"DPoS\",\"Scrypt\",\"Scrypt\",\"X11\",\"NeoScrypt\",\"Scrypt\",\"Blake\",\"Scrypt\",\"SHA-256\",\"Scrypt\",\"X11\",\"Scrypt\",\"Scrypt\",\"SHA-256\",\"X11\",\"SHA-256\",\"Scrypt\",\"Scrypt\",\"Scrypt\",\"Groestl\",\"X11\",\"Scrypt\",\"PoS\",\"Scrypt\",\"Scrypt\",\"X11\",\"SHA-256\",\"DPoS\",\"Scrypt\",\"Scrypt\",\"NeoScrypt\",\"Multiple\",\"X13\",\"Equihash+Scrypt\",\"DPoS\",\"Ethash\",\"DPoS\",\"SHA-256\",\"Leased POS\",\"PoS\",\"TRC10\",\"PoS\",\"SHA-256\",\"Scrypt\",\"CryptoNight\",\"Equihash\",\"Scrypt\"],\"Class\":{\"__ndarray__\":\"AAAAAAAAAAAAAAAAAwAAAAMAAAADAAAAAAAAAAMAAAADAAAAAwAAAAAAAAADAAAAAAAAAAAAAAADAAAAAAAAAAMAAAADAAAAAAAAAAAAAAADAAAAAwAAAAMAAAADAAAAAwAAAAAAAAADAAAAAwAAAAMAAAAAAAAAAwAAAAAAAAADAAAAAwAAAAAAAAAAAAAAAwAAAAMAAAADAAAAAwAAAAMAAAADAAAAAAAAAAAAAAADAAAAAwAAAAMAAAADAAAAAwAAAAAAAAAAAAAAAwAAAAAAAAADAAAAAwAAAAMAAAADAAAAAAAAAAMAAAADAAAAAAAAAAMAAAAAAAAAAAAAAAAAAAADAAAAAwAAAAMAAAAAAAAAAAAAAAAAAAAAAAAAAAAAAAMAAAADAAAAAwAAAAAAAAAAAAAAAwAAAAAAAAADAAAAAAAAAAAAAAADAAAAAwAAAAMAAAADAAAAAAAAAAAAAAADAAAAAAAAAAMAAAADAAAAAAAAAAAAAAADAAAAAAAAAAAAAAADAAAAAwAAAAAAAAAAAAAAAwAAAAAAAAAAAAAAAwAAAAAAAAADAAAAAAAAAAMAAAAAAAAAAwAAAAAAAAAAAAAAAwAAAAMAAAAAAAAAAwAAAAMAAAADAAAAAAAAAAMAAAADAAAAAwAAAAMAAAADAAAAAAAAAAAAAAADAAAAAwAAAAMAAAAAAAAAAwAAAAAAAAADAAAAAwAAAAAAAAADAAAAAAAAAAMAAAAAAAAAAAAAAAMAAAADAAAAAAAAAAMAAAADAAAAAAAAAAAAAAADAAAAAAAAAAMAAAAAAAAAAAAAAAAAAAADAAAAAwAAAAMAAAADAAAAAAAAAAAAAAAAAAAAAAAAAAAAAAADAAAAAwAAAAAAAAAAAAAAAAAAAAAAAAAAAAAAAwAAAAAAAAAAAAAAAAAAAAAAAAAAAAAAAwAAAAAAAAADAAAAAAAAAAAAAAADAAAAAAAAAAMAAAAAAAAAAAAAAAMAAAAAAAAAAwAAAAAAAAADAAAAAAAAAAMAAAAAAAAAAAAAAAAAAAAAAAAAAwAAAAAAAAAAAAAAAAAAAAAAAAAAAAAAAwAAAAMAAAAAAAAAAAAAAAMAAAADAAAAAAAAAAAAAAAAAAAAAAAAAAAAAAADAAAAAAAAAAAAAAAAAAAAAAAAAAAAAAAAAAAAAAAAAAAAAAADAAAAAAAAAAAAAAAAAAAAAAAAAAAAAAAAAAAAAwAAAAMAAAADAAAAAAAAAAAAAAAAAAAAAAAAAAMAAAAAAAAAAwAAAAAAAAAAAAAAAwAAAAAAAAADAAAAAwAAAAAAAAADAAAAAwAAAAAAAAADAAAAAAAAAAAAAAAAAAAAAwAAAAAAAAAAAAAAAwAAAAAAAAAAAAAAAAAAAAAAAAAAAAAAAAAAAAAAAAADAAAAAAAAAAMAAAAAAAAAAAAAAAAAAAAAAAAAAwAAAAAAAAADAAAAAAAAAAMAAAADAAAAAwAAAAMAAAAAAAAAAwAAAAAAAAAAAAAAAwAAAAAAAAADAAAAAwAAAAMAAAAAAAAAAwAAAAAAAAADAAAAAwAAAAMAAAAAAAAAAwAAAAAAAAADAAAAAAAAAAAAAAAAAAAAAwAAAAAAAAADAAAAAwAAAAMAAAADAAAAAwAAAAAAAAAAAAAAAwAAAAAAAAAAAAAAAAAAAAMAAAAAAAAAAwAAAAAAAAADAAAAAAAAAAMAAAAAAAAAAAAAAAAAAAAAAAAAAwAAAAAAAAAAAAAAAwAAAAAAAAAAAAAAAAAAAAMAAAADAAAAAwAAAAMAAAAAAAAAAAAAAAAAAAAAAAAAAwAAAAAAAAADAAAAAwAAAAMAAAAAAAAAAAAAAAMAAAADAAAAAAAAAAAAAAADAAAAAAAAAAMAAAADAAAAAwAAAAAAAAADAAAAAwAAAAAAAAAAAAAAAAAAAAMAAAADAAAAAwAAAAAAAAAAAAAAAAAAAAMAAAADAAAAAAAAAAMAAAADAAAAAwAAAAMAAAAAAAAAAQAAAAAAAAADAAAAAwAAAAMAAAAAAAAAAQAAAAAAAAAAAAAAAAAAAAAAAAADAAAAAwAAAAMAAAADAAAAAAAAAAAAAAAAAAAAAwAAAAAAAAADAAAAAAAAAAAAAAAAAAAAAAAAAAMAAAAAAAAAAAAAAAMAAAAAAAAAAAAAAAMAAAADAAAAAAAAAAMAAAAAAAAAAwAAAAMAAAADAAAAAwAAAAAAAAAAAAAAAwAAAAAAAAADAAAAAAAAAAAAAAAAAAAAAAAAAAAAAAAAAAAAAwAAAAMAAAADAAAAAAAAAAAAAAAAAAAAAAAAAAAAAAAAAAAAAwAAAAAAAAADAAAAAwAAAAMAAAADAAAAAAAAAAAAAAAAAAAAAAAAAAMAAAAAAAAAAAAAAAMAAAAAAAAAAAAAAAMAAAABAAAAAwAAAAAAAAADAAAAAwAAAAMAAAAAAAAAAwAAAAAAAAADAAAAAwAAAAAAAAADAAAAAwAAAAAAAAADAAAAAAAAAAMAAAAAAAAAAAAAAAMAAAAAAAAAAAAAAAAAAAAAAAAAAAAAAAMAAAADAAAAAwAAAAAAAAAAAAAAAAAAAAMAAAAAAAAAAwAAAAAAAAADAAAAAAAAAAAAAAAAAAAAAAAAAAMAAAAAAAAAAAAAAAAAAAADAAAAAAAAAAMAAAAAAAAAAwAAAAAAAAAAAAAAAAAAAAMAAAADAAAAAAAAAAAAAAAAAAAAAAAAAAAAAAAAAAAAAwAAAAAAAAADAAAAAAAAAAMAAAAAAAAAAAAAAAEAAAAAAAAAAgAAAAAAAAAAAAAAAAAAAAMAAAADAAAAAAAAAA==\",\"dtype\":\"int32\",\"order\":\"little\",\"shape\":[532]},\"CoinName\":[\"42 Coin\",\"404Coin\",\"EliteCoin\",\"Bitcoin\",\"Ethereum\",\"Litecoin\",\"Dash\",\"Monero\",\"Ethereum Classic\",\"ZCash\",\"Bitshares\",\"DigiByte\",\"BitcoinDark\",\"PayCoin\",\"ProsperCoin\",\"KoboCoin\",\"Spreadcoin\",\"Argentum\",\"Aurora Coin\",\"BlueCoin\",\"MyriadCoin\",\"MoonCoin\",\"ZetaCoin\",\"SexCoin\",\"Quatloo\",\"EnergyCoin\",\"QuarkCoin\",\"Riecoin\",\"Digitalcoin \",\"BitBar\",\"Catcoin\",\"CryptoBullion\",\"CannaCoin\",\"CryptCoin\",\"CasinoCoin\",\"Diamond\",\"Verge\",\"DevCoin\",\"EarthCoin\",\"E-Gulden\",\"Einsteinium\",\"Emerald\",\"Exclusive Coin\",\"FlutterCoin\",\"Franko\",\"FeatherCoin\",\"GrandCoin\",\"GlobalCoin\",\"GoldCoin\",\"HoboNickels\",\"HyperStake\",\"Infinite Coin\",\"IOCoin\",\"IXcoin\",\"KrugerCoin\",\"LuckyCoin\",\"Litebar \",\"MaxCoin\",\"MegaCoin\",\"MediterraneanCoin\",\"MintCoin\",\"MinCoin\",\"MazaCoin\",\"Nautilus Coin\",\"NavCoin\",\"NobleCoin\",\"Namecoin\",\"NyanCoin\",\"OpalCoin\",\"Orbitcoin\",\"PotCoin\",\"PhoenixCoin\",\"Reddcoin\",\"RonPaulCoin\",\"StableCoin\",\"SmartCoin\",\"SuperCoin\",\"SyncCoin\",\"SysCoin\",\"TeslaCoin\",\"TigerCoin\",\"TittieCoin\",\"TorCoin\",\"TerraCoin\",\"UnbreakableCoin\",\"Unobtanium\",\"UroCoin\",\"UnitaryStatus Dollar\",\"UltraCoin\",\"ViaCoin\",\"VeriCoin\",\"Vertcoin\",\"WorldCoin\",\"X11 Coin\",\"Crypti\",\"JouleCoin\",\"StealthCoin\",\"ZCC Coin\",\"ByteCoin\",\"DigitalNote \",\"BurstCoin\",\"StorjCoin\",\"MonaCoin\",\"Neutron\",\"FairCoin\",\"Gulden\",\"RubyCoin\",\"PesetaCoin\",\"Kore\",\"Wild Beast Coin\",\"Dnotes\",\"Flo\",\"8BIT Coin\",\"Sativa Coin\",\"ArtByte\",\"Folding Coin\",\"Ucoin\",\"Unitus\",\"CypherPunkCoin\",\"OmniCron\",\"Vtorrent\",\"GreenCoin\",\"Cryptonite\",\"MasterCoin\",\"SoonCoin\",\"1Credit\",\"IslaCoin\",\"Nexus\",\"MarsCoin \",\"Crypto\",\"Anarchists Prime\",\"Droidz\",\"BowsCoin\",\"Squall Coin\",\"Song Coin\",\"BitZeny\",\"Diggits\",\"Expanse\",\"Paycon\",\"Siacoin\",\"Emercoin\",\"EverGreenCoin\",\"MindCoin\",\"I0coin\",\"Decred\",\"Revolution VR\",\"HOdlcoin\",\"EDRCoin\",\"Hitcoin\",\"Gamecredits\",\"DubaiCoin\",\"CarpeDiemCoin\",\"PWR Coin\",\"BillaryCoin\",\"GPU Coin\",\"Adzcoin\",\"SoilCoin\",\"YoCoin\",\"SibCoin\",\"EuropeCoin\",\"ZeitCoin\",\"SwingCoin\",\"SafeExchangeCoin\",\"Nebuchadnezzar\",\"Francs\",\"BolivarCoin\",\"Ratecoin\",\"Revenu\",\"Clockcoin\",\"VIP Tokens\",\"BitSend\",\"Omni\",\"Let it Ride\",\"PutinCoin\",\"iBankCoin\",\"Frankywillcoin\",\"MudraCoin\",\"PizzaCoin\",\"Lutetium Coin\",\"Komodo\",\"GoldBlocks\",\"CarterCoin\",\"Karbo\",\"BitTokens\",\"ZayedCoin\",\"MustangCoin\",\"ZoneCoin\",\"Circuits of Value\",\"RootCoin\",\"DopeCoin\",\"BitCurrency\",\"DollarCoin\",\"Swiscoin\",\"Shilling\",\"BuzzCoin\",\"Opair\",\"PesoBit\",\"Halloween Coin\",\"ZCoin\",\"CoffeeCoin\",\"RoyalCoin\",\"GanjaCoin V2\",\"TeamUP\",\"LanaCoin\",\"Elementrem\",\"ZClassic\",\"ARK\",\"InsaneCoin\",\"KiloCoin\",\"ArtexCoin\",\"EmberCoin\",\"XenixCoin\",\"FreeCoin\",\"PLNCoin\",\"AquariusCoin\",\"Kurrent\",\"Creatio\",\"Eternity\",\"Eurocoin\",\"BitcoinFast\",\"Stakenet\",\"BitConnect Coin\",\"MoneyCoin\",\"Enigma\",\"Cannabis Industry Coin\",\"Russiacoin\",\"PandaCoin\",\"GameUnits\",\"GAKHcoin\",\"Allsafe\",\"LiteCreed\",\"OsmiumCoin\",\"Bikercoins\",\"HexxCoin\",\"Klingon Empire Darsek\",\"Internet of People\",\"KushCoin\",\"Printerium\",\"PacCoin\",\"Impeach\",\"Citadel\",\"Zilbercoin\",\"FirstCoin\",\"BeaverCoin\",\"FindCoin\",\"VaultCoin\",\"Zero\",\"OpenChat\",\"Canada eCoin\",\"Zoin\",\"RenosCoin\",\"DubaiCoin\",\"VirtacoinPlus\",\"TajCoin\",\"Impact\",\"EB3coin\",\"Atmos\",\"HappyCoin\",\"Coinonat\",\"MacronCoin\",\"Condensate\",\"Independent Money System\",\"ArgusCoin\",\"LomoCoin\",\"ProCurrency\",\"GoldReserve\",\"BenjiRolls\",\"GrowthCoin\",\"ILCoin\",\"Phreak\",\"Degas Coin\",\"HTML5 Coin\",\"Ultimate Secure Cash\",\"EquiTrader\",\"QTUM\",\"Quantum Resistant Ledger\",\"Espers\",\"Dynamic\",\"Nano\",\"ChanCoin\",\"Dinastycoin\",\"Denarius\",\"DigitalPrice\",\"Virta Unique Coin\",\"Bitcoin Planet\",\"Unify\",\"BritCoin\",\"SocialCoin\",\"ArcticCoin\",\"DAS\",\"Linda\",\"LeviarCoin\",\"DeepOnion\",\"Bitcore\",\"gCn Coin\",\"SmartCash\",\"Signatum\",\"Onix\",\"Cream\",\"Bitcoin Cash\",\"Monoeci\",\"Draftcoin\",\"Vechain\",\"Sojourn Coin\",\"Stakecoin\",\"NewYorkCoin\",\"FrazCoin\",\"Kronecoin\",\"AdCoin\",\"Linx\",\"CoinonatX\",\"Ethereum Dark\",\"Sumokoin\",\"Obsidian\",\"Cardano\",\"Regalcoin\",\"BitcoinZ\",\"TrezarCoin\",\"Elements\",\"TerraNovaCoin\",\"VIVO Coin\",\"Rupee\",\"Bitcoin Gold\",\"WomenCoin\",\"Theresa May Coin\",\"NamoCoin\",\"LUXCoin\",\"Pirl\",\"Xios\",\"Bitcloud 2.0\",\"eBoost\",\"KekCoin\",\"BlackholeCoin\",\"Infinity Economics\",\"Pura\",\"Innova\",\"Ellaism\",\"GoByte\",\"Magnet\",\"Lamden Tau\",\"Electra\",\"Bitcoin Diamond\",\"SHIELD\",\"Cash & Back Coin\",\"UltraNote\",\"BitCoal\",\"DaxxCoin\",\"Bulwark\",\"Kalkulus\",\"AC3\",\"Lethean\",\"GermanCoin\",\"LiteCoin Ultra\",\"PopularCoin\",\"PhantomX\",\"Photon\",\"Sucre\",\"SparksPay\",\"Digiwage\",\"GunCoin\",\"IrishCoin\",\"Trollcoin\",\"Litecoin Plus\",\"Monkey Project\",\"Pioneer Coin\",\"UnitedBitcoin\",\"Interzone\",\"TokenPay\",\"1717 Masonic Commemorative Token\",\"My Big Coin\",\"TurtleCoin\",\"MUNcoin\",\"Unified Society USDEX\",\"Niobio Cash\",\"ShareChain\",\"Travelflex\",\"KREDS\",\"Tokyo Coin\",\"BiblePay\",\"LitecoinCash\",\"BitFlip\",\"LottoCoin\",\"Crypto Improvement Fund\",\"Stipend\",\"Poa Network\",\"Pushi\",\"Ellerium\",\"Velox\",\"Ontology\",\"Callisto Network\",\"BitTube\",\"Poseidon\",\"Aidos Kuneen\",\"Bitspace\",\"Briacoin\",\"Ignition\",\"Bitrolium\",\"MedicCoin\",\"Alpenschillling\",\"Bitcoin Green\",\"Deviant Coin\",\"Abjcoin\",\"Semux\",\"FuturoCoin\",\"Carebit\",\"Zealium\",\"Monero Classic\",\"Proton\",\"iDealCash\",\"Jumpcoin\",\"Infinex\",\"Bitcoin Incognito\",\"KEYCO\",\"HollyWoodCoin\",\"GINcoin\",\"PlatinCoin\",\"Loki\",\"Newton Coin\",\"Swisscoin\",\"Xt3ch\",\"MassGrid\",\"TheVig\",\"PluraCoin\",\"EmaratCoin\",\"Dekado\",\"Lynx\",\"Poseidon Quark\",\"BitcoinWSpectrum\",\"Muse\",\"Motion\",\"PlusOneCoin\",\"Axe\",\"Trivechain\",\"Dystem\",\"Giant\",\"Peony Coin\",\"Absolute Coin\",\"Vitae\",\"HexCoin\",\"TPCash\",\"Webchain\",\"Ryo\",\"Urals Coin\",\"Qwertycoin\",\"ARENON\",\"EUNO\",\"MMOCoin\",\"Ketan\",\"Project Pai\",\"XDNA\",\"PAXEX\",\"Azart\",\"ThunderStake\",\"Kcash\",\"Xchange\",\"Acute Angle Cloud\",\"CrypticCoin\",\"Bettex coin\",\"Actinium\",\"Bitcoin SV\",\"BitMoney\",\"Junson Ming Chan Coin\",\"FREDEnergy\",\"HerbCoin\",\"Universal Molecule\",\"Lithium\",\"PirateCash\",\"Exosis\",\"Block-Logic\",\"Oduwa\",\"Beam\",\"Galilel\",\"Bithereum\",\"Crypto Sports\",\"Credit\",\"SLICE\",\"Dash Platinum\",\"Nasdacoin\",\"Beetle Coin\",\"Titan Coin\",\"Award\",\"BLAST\",\"Bitcoin Rhodium\",\"GlobalToken\",\"Insane Coin\",\"ALAX\",\"LiteDoge\",\"SolarCoin\",\"TruckCoin\",\"UFO Coin\",\"OrangeCoin\",\"BlakeCoin\",\"BitstarCoin\",\"NeosCoin\",\"HyperCoin\",\"PinkCoin\",\"Crypto Escudo\",\"AudioCoin\",\"IncaKoin\",\"Piggy Coin\",\"Crown Coin\",\"Genstake\",\"SmileyCoin\",\"XiaoMiCoin\",\"Groestlcoin\",\"CapriCoin\",\" ClubCoin\",\"Radium\",\"Bata\",\"Pakcoin\",\"Creditbit \",\"OKCash\",\"Lisk\",\"HiCoin\",\"WhiteCoin\",\"FriendshipCoin\",\"JoinCoin\",\"Triangles Coin\",\"Vollar\",\"EOS\",\"Reality Clash\",\"Oxycoin\",\"TigerCash\",\"Waves\",\"Particl\",\"BitTorrent\",\"Nxt\",\"ZEPHYR\",\"Gapcoin\",\"Beldex\",\"Horizen\",\"BitcoinPlus\"],\"PC_1\":{\"__ndarray__\":\"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\",\"dtype\":\"float64\",\"order\":\"little\",\"shape\":[532]},\"PC_2\":{\"__ndarray__\":\"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\",\"dtype\":\"float64\",\"order\":\"little\",\"shape\":[532]},\"PC_3\":{\"__ndarray__\":\"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\",\"dtype\":\"float64\",\"order\":\"little\",\"shape\":[532]},\"ProofType\":[\"PoW/PoS\",\"PoW/PoS\",\"PoW/PoS\",\"PoW\",\"PoW\",\"PoW\",\"PoW/PoS\",\"PoW\",\"PoW\",\"PoW\",\"PoS\",\"PoW\",\"PoW/PoS\",\"PoS\",\"PoW\",\"PoW/PoS\",\"PoW\",\"PoW\",\"PoW/PoS\",\"PoW/PoS\",\"PoW\",\"PoW\",\"PoW\",\"PoW\",\"PoW\",\"PoW/PoS\",\"PoW\",\"PoW\",\"PoW\",\"PoW/PoS\",\"PoW\",\"PoW/PoS\",\"PoW\",\"PoW\",\"PoC\",\"PoW/PoS\",\"PoW\",\"PoW\",\"PoW\",\"PoW\",\"PoW\",\"PoW\",\"PoS\",\"PoS/PoW/PoT\",\"PoW\",\"PoW\",\"PoW\",\"PoW\",\"PoW\",\"PoW/PoS\",\"PoS\",\"PoW\",\"PoW/PoS\",\"PoW\",\"PoW\",\"PoW\",\"PoW\",\"PoW/PoS\",\"PoW\",\"PoW\",\"PoS\",\"PoW\",\"PoW/PoS\",\"PoS\",\"PoW/PoS\",\"PoW\",\"PoW\",\"PoW\",\"PoW/PoS\",\"PoW/PoS\",\"PoW/PoS\",\"PoW/PoS\",\"PoW/PoS\",\"PoW\",\"PoW\",\"PoW\",\"PoS\",\"PoW/PoS\",\"PoW\",\"PoS\",\"PoW\",\"PoS\",\"PoW/PoS\",\"PoW\",\"PoW\",\"PoW\",\"PoW\",\"PoW/PoS\",\"PoW/PoS\",\"PoW\",\"PoST\",\"PoW\",\"PoW\",\"PoW/PoS\",\"PoS\",\"PoW\",\"PoW/PoS\",\"PoW/PoS\",\"PoW\",\"PoW\",\"PoC\",\"PoS\",\"PoW\",\"PoW/PoS\",\"PoW/PoS\",\"PoW\",\"PoS\",\"PoW\",\"PoW/PoS\",\"PoW\",\"PoS\",\"PoW\",\"PoW/PoS\",\"PoW/PoS\",\"PoW\",\"PoW\",\"PoS\",\"PoW\",\"PoW\",\"PoW\",\"PoW/PoS\",\"PoW\",\"PoW\",\"PoW\",\"PoW\",\"PoW\",\"PoW/PoS\",\"PoW/nPoS\",\"PoW\",\"PoW\",\"PoW\",\"PoW/PoS\",\"PoW\",\"PoS/PoW\",\"PoW\",\"PoW\",\"PoS\",\"PoW\",\"PoW/PoS\",\"PoW\",\"PoW/PoS\",\"PoW/PoS\",\"PoW\",\"PoW\",\"PoW/PoS\",\"PoW\",\"PoW\",\"PoW/PoS\",\"PoW/PoS\",\"PoW\",\"PoW/PoS\",\"PoW\",\"PoW/PoS\",\"PoW/PoS\",\"PoS\",\"PoW\",\"PoW\",\"PoW\",\"PoW\",\"PoW/PoS\",\"PoS\",\"PoW/PoS\",\"PoC\",\"PoS\",\"PoW\",\"PoW\",\"PoW/PoS\",\"PoW/PoS\",\"PoW/PoS\",\"PoW/PoS\",\"PoW/PoS\",\"PoW\",\"PoS\",\"PoW/PoS\",\"PoW/PoS\",\"PoW/PoS\",\"PoS\",\"PoW\",\"PoS\",\"dPoW/PoW\",\"PoW/PoS\",\"PoW/PoS\",\"PoW\",\"PoW/PoS\",\"PoW\",\"PoW/PoS\",\"PoW/PoS\",\"PoW\",\"PoW/PoS\",\"PoW\",\"PoS\",\"PoW\",\"PoW/PoW\",\"PoW\",\"PoW/PoS\",\"PoS\",\"PoW/PoS\",\"PoW/PoS\",\"PoW\",\"PoS\",\"PoS\",\"PoW/PoS\",\"PoS\",\"PoW/PoS\",\"PoW\",\"PoW\",\"DPoS\",\"PoW/PoS\",\"PoW\",\"PoW\",\"PoW/PoS\",\"PoW/PoS\",\"PoS\",\"PoW/PoS\",\"PoW/PoS\",\"PoW\",\"PoS\",\"PoW/PoS\",\"PoW/PoS\",\"PoW/PoS\",\"TPoS\",\"PoW/PoS\",\"PoW/PoS\",\"PoW/PoS\",\"PoW\",\"PoW/PoS\",\"PoS\",\"PoW/PoS\",\"PoW/PoS\",\"PoS\",\"PoW/PoS\",\"PoW\",\"PoW\",\"PoW\",\"PoW/PoS\",\"PoW/PoS\",\"PoW/PoS\",\"PoW/PoS\",\"PoW\",\"PoW/PoS\",\"PoW\",\"PoS\",\"PoW/PoS \",\"PoW\",\"PoS\",\"PoW\",\"PoW\",\"PoW/PoS\",\"PoW\",\"PoW\",\"PoS\",\"PoW\",\"PoW/PoS\",\"PoW/PoS\",\"PoW/PoS\",\"PoW\",\"PoS\",\"PoW/PoS\",\"PoW\",\"PoS\",\"PoW/PoS\",\"PoW/PoS\",\"PoW/PoS\",\"PoW/PoS\",\"PoS\",\"PoW/PoS\",\"PoW\",\"PoS\",\"PoW\",\"PoS\",\"PoW/PoS\",\"PoW/PoS\",\"PoS\",\"PoW\",\"PoS\",\"PoW\",\"PoW/PoS\",\"PoW\",\"PoW\",\"PoW\",\"PoW\",\"PoW/PoS\",\"PoW\",\"PoW/PoS\",\"PoW/PoS\",\"PoW\",\"PoW/PoS\",\"PoW\",\"PoW\",\"PoW\",\"PoW/PoS\",\"PoW\",\"PoW/PoS\",\"PoW\",\"PoW\",\"PoW\",\"PoS\",\"PoW\",\"PoW/PoS\",\"PoW\",\"PoW/PoS\",\"PoS\",\"Proof of Authority\",\"PoW\",\"PoS\",\"PoW\",\"PoW\",\"PoW\",\"PoW\",\"PoW\",\"PoW/PoS\",\"PoW/PoS\",\"PoW\",\"PoS\",\"PoS\",\"PoW/PoS\",\"PoW\",\"PoW/PoS\",\"PoW\",\"PoW/PoS\",\"PoW\",\"PoS\",\"PoW\",\"PoW/PoS\",\"PoW/PoS\",\"PoW/PoS\",\"PoW/PoS\",\"PoW\",\"PoW/PoS\",\"PoW/PoS\",\"PoW\",\"PoS\",\"PoW/PoS\",\"PoS\",\"PoW\",\"PoW\",\"PoW\",\"PoW\",\"PoW/PoS\",\"DPoS\",\"PoW/PoS\",\"PoW/PoS\",\"PoW\",\"PoW/PoS\",\"PoW\",\"PoW\",\"PoW\",\"PoS\",\"PoS\",\"PoW\",\"PoW\",\"PoW/PoS\",\"PoW/PoS\",\"PoW\",\"PoW/PoS\",\"PoW\",\"PoW\",\"PoW\",\"PoS\",\"PoW\",\"PoW\",\"PoW/PoS\",\"PoW/PoS\",\"PoS\",\"PoW\",\"PoW\",\"PoW\",\"PoS\",\"PoS\",\"PoW and PoS\",\"PoW\",\"PoW\",\"PoW/PoS\",\"PoW\",\"PoW\",\"PoW\",\"PoW\",\"PoS\",\"POBh\",\"PoW + Hive\",\"PoW\",\"PoW\",\"PoW\",\"PoW/PoS\",\"PoA\",\"PoW/PoS\",\"PoW/PoS\",\"PoS\",\"PoS\",\"PoW\",\"PoW\",\"PoW\",\"PoW\",\"PoW/PoS\",\"PoW/PoS\",\"PoW/PoS\",\"PoW\",\"PoS\",\"PoW\",\"PoS\",\"PoS\",\"PoW/PoS\",\"DPoS\",\"PoW\",\"PoW/PoS\",\"PoS\",\"PoW\",\"PoS\",\"PoW/PoS\",\"PoW\",\"PoW\",\"PoS/PoW\",\"PoW\",\"PoS\",\"PoW\",\"PoW\",\"PoW\",\"PoW\",\"PoW/PoS\",\"PoS\",\"PoW\",\"PoW/PoS\",\"PoW\",\"PoW/PoS\",\"PoS\",\"HPoW\",\"PoS\",\"PoS\",\"PoS\",\"PoW\",\"PoW\",\"PoW\",\"PoW/PoS\",\"PoS\",\"PoW/PoS\",\"PoS\",\"PoW/PoS\",\"PoS\",\"PoW\",\"PoW/PoS\",\"PoW\",\"PoW\",\"PoW\",\"PoW\",\"PoS\",\"PoW/PoS\",\"PoS\",\"PoS\",\"PoW\",\"PoW/PoS\",\"PoS\",\"PoW\",\"PoW/PoS\",\"Zero-Knowledge Proof\",\"PoW\",\"DPOS\",\"PoW\",\"PoS\",\"PoW\",\"PoW\",\"Pos\",\"PoS\",\"PoW\",\"PoW/PoS\",\"PoW\",\"PoW\",\"PoS\",\"PoW\",\"PoW\",\"PoW/PoS\",\"PoW\",\"PoW/PoS\",\"PoW\",\"PoS\",\"PoW/PoS\",\"PoW\",\"PoS\",\"PoW/PoS\",\"PoW/PoS\",\"PoW/PoS\",\"PoW/PoS\",\"PoW\",\"PoW\",\"PoW\",\"PoW/PoS\",\"DPoS\",\"PoW/PoS\",\"PoW\",\"PoW/PoS\",\"PoW\",\"PoW/PoS\",\"PoW\",\"PoW/PoS\",\"PoS\",\"PoW/PoS\",\"PoW/PoS\",\"PoW\",\"PoW/PoS\",\"PoW/PoS\",\"PoW/PoS\",\"PoW\",\"PoW/PoS\",\"PoW\",\"PoW/PoS\",\"PoW\",\"PoW/PoS\",\"PoW/PoS\",\"PoS\",\"PoW\",\"PoW\",\"Proof of Trust\",\"PoW/PoS\",\"DPoS\",\"PoS\",\"PoW/PoS\",\"PoW/PoS\",\"PoW\",\"PoW/PoS\",\"PoW\",\"DPoS\",\"PoW\",\"DPoS\",\"PoS\",\"LPoS\",\"PoS\",\"DPoS\",\"PoS/LPoS\",\"DPoS\",\"PoW/PoS\",\"PoW\",\"PoW\",\"PoS\"],\"TotalCoinSupply\":[\"42\",\"532000000\",\"314159265359\",\"21000000\",\"0\",\"84000000\",\"22000000\",\"0\",\"210000000\",\"21000000\",\"3600570502\",\"21000000000\",\"22000000\",\"12500000\",\"21000000\",\"350000000\",\"20000000\",\"64000000\",\"16768584\",\"0\",\"2000000000\",\"384000000000\",\"169795588\",\"250000000\",\"100000000\",\"0\",\"247000000\",\"84000000\",\"48166000\",\"500000\",\"21000000 \",\"1000000\",\"13140000\",\"18000000\",\"40000000000\",\"4380000\",\"16555000000\",\"21000000000\",\"13500000000\",\"21000000 \",\"299792458\",\"32000000\",\"0\",\"0\",\"11235813\",\"336000000\",\"1420609614\",\"70000000\",\"72245700\",\"120000000\",\"0\",\"90600000000\",\"22000000\",\"21000000\",\"265420800\",\"20000000\",\"1350000\",\"100000000\",\"42000000\",\"200000000\",\"0\",\"10000000\",\"2419200000\",\"16180000\",\"0\",\"15000000000\",\"21000000\",\"337000000\",\"0\",\"3770000\",\"420000000\",\"98000000\",\"0\",\"21000000\",\"250000000\",\"51200000\",\"0\",\"1000\",\"888000000\",\"100000000\",\"47011968\",\"2300000000\",\"10000000\",\"42000000\",\"80000000\",\"250000\",\"0\",\"1600000000\",\"100000000\",\"23000000\",\"0\",\"84000000\",\"265420800\",\"5500000\",\"0\",\"45000000\",\"0\",\"1000000000\",\"184467440735\",\"10000000000\",\"2158812800\",\"500000000\",\"105120000\",\"68000000\",\"0\",\"1680000000\",\"0\",\"166386000\",\"12000000\",\"2628000\",\"500000000\",\"160000000\",\"0\",\"10000000\",\"1000000000\",\"1000000000\",\"20000000\",\"0\",\"0\",\"3371337\",\"20000000\",\"10000000000\",\"1840000000\",\"619478\",\"21000000\",\"92000000000\",\"0\",\"78000000\",\"33000000\",\"65789100\",\"53760000\",\"5060000\",\"21000000\",\"0\",\"210240000\",\"250000000\",\"100000000\",\"16906397\",\"50000000\",\"0\",\"1000000000\",\"26298000\",\"16000000\",\"21000000\",\"21000000\",\"210000000\",\"81962100\",\"22000000\",\"26550000000\",\"84000000\",\"10500000\",\"21626280000 \",\"0\",\"42000000\",\"221052632\",\"84000000\",\"30000000\",\"168351300\",\"24000000\",\"384000000\",\" 99000000000\",\"40000000\",\"2147483647\",\"20000000\",\"20000000\",\"25000000\",\"75000000\",\"222725000\",\"525000000\",\"90000000\",\"139000000\",\"616448\",\"33500000\",\"2000000000\",\"44333333\",\"100000000\",\"200000000\",\"25000000\",\"657000000\",\"200000000\",\"50000000\",\"90000000\",\"10000000\",\"21000000\",\"9736000\",\"3000000\",\"21000000\",\"1200000000\",\"0\",\"200000000\",\"0\",\"10638298\",\"3100000000\",\"30000000\",\"20000000000\",\"74000000\",\"0\",\"1500000000\",\"21400000\",\"39999898\",\"2500124\",\"100000000\",\"301000000\",\"7506000000\",\"26205539\",\"21000000\",\"125000000\",\"30000000\",\"10000000000\",\"500000000\",\"850000000\",\"3853326.77707314\",\"50000000\",\"38540000 \",\"42000000\",\"228000000\",\"20000000\",\"60000000\",\"20000000\",\"33000000\",\"76500000\",\"28000000\",\"650659833\",\"5000000\",\"21000000\",\"144000000\",\"32514916898\",\"13000000\",\"3315789\",\"15000000\",\"78835200\",\"2714286\",\"25000000\",\"9999999\",\"500000000\",\"21000000\",\"9354000\",\"20000000\",\"100000000000\",\"21933333\",\"185000000\",\"55000000\",\"110000000\",\"3360000\",\"14524851.4827\",\"1000000000\",\"17000000\",\"1000000000\",\"100000000 \",\"21000000\",\"34426423\",\"2232901\",\"100000000\",\"36900000\",\"110000000\",\"4000000000\",\"110290030\",\"100000000\",\"48252000\",\"400000000\",\"500000000\",\"21212121\",\"28600000\",\"1000000000\",\"75000000000\",\"40000000\",\"35520400\",\"2000000000\",\"2500000000\",\"30000000\",\"105000000\",\"90000000000\",\"200084200\",\"72000000\",\"100000000\",\"105000000\",\"50000000000\",\"0\",\"340282367\",\"30000000\",\"2000000000\",\"10000000\",\"100000000\",\"120000000\",\"100000000\",\"19276800\",\"30000000\",\" 75000000\",\"60000000\",\"18900000\",\"50000000000\",\"54000000\",\"18898187.6216583\",\"21000000\",\"200000000000\",\"5000000000\",\"137500000\",\"1100000000\",\"100000000\",\"21000000\",\"9507271\",\"17405891.19707116\",\"86712634466\",\"10500000000\",\"61599965\",\"0\",\"20000000\",\"84000000\",\"100000000\",\"100000000\",\"48252000\",\"4200000\",\"88888888\",\"91388946\",\"45000000000\",\"27000000\",\"21000000000\",\"400000000\",\"1800000000\",\"15733333\",\"27000000\",\"24000000\",\"21000000\",\"25000000000\",\"100000000\",\"1200000000\",\"60000000\",\"156306732.71\",\"21000000\",\"200000000\",\"100000000\",\"21000000\",\"14788275.991\",\"9000000000\",\"350000000\",\"45000000\",\"280000000\",\"31800000\",\"144000000\",\"500000000\",\"30000000000\",\"210000000\",\"660000000\",\"210000000\",\"85000000000\",\"12500000\",\"10000000000\",\"27716121\",\"20000000\",\"550000000\",\"999481516\",\"50000000000\",\"150000000\",\"4999999999\",\"50000000\",\" 90000000000\",\"19800000\",\"21000000\",\"120000000\",\"500000000\",\"64000000\",\"900000000\",\"4000000\",\"21000000\",\"23000000\",\"20166000\",\"23000000\",\"25000000\",\"1618033\",\"30000000\",\"1000000000000\",\"16600000\",\"232000000\",\"336000000\",\"10000000000\",\"100000000\",\"1100000000\",\"800000000\",\"5200000000\",\"840000000\",\"40000000\",\"18406979840\",\"500000000\",\"19340594\",\"252460800\",\"25000000\",\"60000000\",\"124000000\",\"1000000000\",\"6500000000\",\"1000000000\",\"21000000\",\"25000000\",\"50000000\",\"3000000\",\"5000000\",\"70000000\",\"500000000\",\"300000000\",\"21000000\",\"88000000\",\"30000000\",\"100000000\",\"100000000\",\"200000000\",\"80000000\",\"18400000\",\"45000000\",\"5121951220\",\"21000000\",\"26280000\",\"21000000\",\"18000000\",\"26000000\",\"10500000\",\"600000518\",\"150000000\",\"184000000000\",\"10200000000\",\"44000000\",\"168000000\",\"100000000\",\"1000000000\",\"84000000\",\"90000000\",\"92000000000\",\"650000000 \",\"100262205\",\"18081806 \",\"22075700\",\"21000000\",\"21000000\",\"82546564\",\"21000000\",\"5151000\",\"16880000000\",\"52500000\",\"100000000\",\"22105263\",\"1000000000\",\"1750000000\",\"88188888\",\"210000000\",\"184470000000\",\"55000000\",\"50000000\",\"260000000\",\"210000000\",\"2100000000\",\"366000000\",\"100000000\",\"25000000\",\"18000000000\",\"1000000000\",\"100000000\",\"1000000000\",\"7600000000\",\"50000000\",\"84000000\",\"21000000\",\"70000000000\",\"0\",\"8080000000\",\"54000000\",\"105120001.44\",\"25228800\",\"105000000\",\"21000000\",\"120000000\",\"21000000\",\"262800000\",\"19035999\",\"30886000\",\"13370000\",\"74800000000\",\"100000000\",\"19700000\",\"84000000\",\"500000000\",\"5000000000\",\"420000000\",\"64000000\",\"2100000\",\"168000000\",\"30000000\",\"1000000000\",\"35000000000\",\"98100000000\",\"0\",\"4000000000\",\"200000000\",\"7000000000\",\"54256119\",\"21000000\",\"0\",\"500000000\",\"1000000000\",\"10500000000\",\"190000000\",\"1000000000\",\"42000000\",\"15000000\",\"50000000000\",\"400000000\",\"105000000\",\"208000000\",\"160000000\",\"9000000\",\"5000000\",\"182000000\",\"16504333\",\"105000000\",\"159918400\",\"10008835635\",\"300000000\",\"60168145\",\"2800000\",\"120000\",\"2100000000\",\"0\",\"24487944\",\"0\",\"1000000000\",\"100000000\",\"8634140\",\"990000000000\",\"1000000000\",\"2000000000\",\"250000000\",\"1400222610\",\"21000000\",\"1000000\"],\"TotalCoinsMined\":{\"__ndarray__\":\"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\",\"dtype\":\"float64\",\"order\":\"little\",\"shape\":[532]}},\"selected\":{\"id\":\"2770\"},\"selection_policy\":{\"id\":\"2819\"}},\"id\":\"2769\",\"type\":\"ColumnDataSource\"},{\"attributes\":{},\"id\":\"2787\",\"type\":\"StringEditor\"},{\"attributes\":{},\"id\":\"2782\",\"type\":\"NumberEditor\"},{\"attributes\":{},\"id\":\"2792\",\"type\":\"NumberEditor\"},{\"attributes\":{},\"id\":\"2786\",\"type\":\"StringFormatter\"},{\"attributes\":{\"format\":\"0,0.0[00000]\"},\"id\":\"2781\",\"type\":\"NumberFormatter\"},{\"attributes\":{\"editor\":{\"id\":\"2777\"},\"field\":\"ProofType\",\"formatter\":{\"id\":\"2776\"},\"title\":\"ProofType\"},\"id\":\"2778\",\"type\":\"TableColumn\"},{\"attributes\":{\"editor\":{\"id\":\"2782\"},\"field\":\"TotalCoinsMined\",\"formatter\":{\"id\":\"2781\"},\"title\":\"TotalCoinsMined\"},\"id\":\"2783\",\"type\":\"TableColumn\"},{\"attributes\":{\"format\":\"0,0.0[00000]\"},\"id\":\"2796\",\"type\":\"NumberFormatter\"},{\"attributes\":{},\"id\":\"2797\",\"type\":\"NumberEditor\"},{\"attributes\":{\"format\":\"0,0.0[00000]\"},\"id\":\"2791\",\"type\":\"NumberFormatter\"},{\"attributes\":{\"editor\":{\"id\":\"2787\"},\"field\":\"TotalCoinSupply\",\"formatter\":{\"id\":\"2786\"},\"title\":\"TotalCoinSupply\"},\"id\":\"2788\",\"type\":\"TableColumn\"},{\"attributes\":{\"editor\":{\"id\":\"2792\"},\"field\":\"PC_1\",\"formatter\":{\"id\":\"2791\"},\"title\":\"PC 1\"},\"id\":\"2793\",\"type\":\"TableColumn\"},{\"attributes\":{\"format\":\"0,0.0[00000]\"},\"id\":\"2801\",\"type\":\"NumberFormatter\"},{\"attributes\":{},\"id\":\"2772\",\"type\":\"StringEditor\"},{\"attributes\":{},\"id\":\"2802\",\"type\":\"NumberEditor\"},{\"attributes\":{\"editor\":{\"id\":\"2797\"},\"field\":\"PC_2\",\"formatter\":{\"id\":\"2796\"},\"title\":\"PC 2\"},\"id\":\"2798\",\"type\":\"TableColumn\"},{\"attributes\":{},\"id\":\"2806\",\"type\":\"StringFormatter\"},{\"attributes\":{},\"id\":\"2807\",\"type\":\"StringEditor\"},{\"attributes\":{\"editor\":{\"id\":\"2802\"},\"field\":\"PC_3\",\"formatter\":{\"id\":\"2801\"},\"title\":\"PC 3\"},\"id\":\"2803\",\"type\":\"TableColumn\"},{\"attributes\":{},\"id\":\"2812\",\"type\":\"IntEditor\"},{\"attributes\":{},\"id\":\"2811\",\"type\":\"NumberFormatter\"},{\"attributes\":{\"editor\":{\"id\":\"2807\"},\"field\":\"CoinName\",\"formatter\":{\"id\":\"2806\"},\"title\":\"CoinName\"},\"id\":\"2808\",\"type\":\"TableColumn\"}],\"root_ids\":[\"2767\"]},\"title\":\"Bokeh Application\",\"version\":\"2.3.2\"}};\n",
       "    var render_items = [{\"docid\":\"0434a816-9249-436a-bbe3-d3b43677aa2b\",\"root_ids\":[\"2767\"],\"roots\":{\"2767\":\"12314f7b-e500-4a87-a2f9-eeabd5a206be\"}}];\n",
       "    root.Bokeh.embed.embed_items_notebook(docs_json, render_items);\n",
       "  }\n",
       "  if (root.Bokeh !== undefined && root.Bokeh.Panel !== undefined) {\n",
       "    embed_document(root);\n",
       "  } else {\n",
       "    var attempts = 0;\n",
       "    var timer = setInterval(function(root) {\n",
       "      if (root.Bokeh !== undefined && root.Bokeh.Panel !== undefined) {\n",
       "        clearInterval(timer);\n",
       "        embed_document(root);\n",
       "      } else if (document.readyState == \"complete\") {\n",
       "        attempts++;\n",
       "        if (attempts > 100) {\n",
       "          clearInterval(timer);\n",
       "          console.log(\"Bokeh: ERROR: Unable to run BokehJS code because BokehJS library is missing\");\n",
       "        }\n",
       "      }\n",
       "    }, 10, root)\n",
       "  }\n",
       "})(window);</script>"
      ],
      "text/plain": [
       ":Table   [Algorithm,ProofType,TotalCoinsMined,TotalCoinSupply,PC 1,PC 2,PC 3,CoinName,Class]"
      ]
     },
     "execution_count": 106,
     "metadata": {
      "application/vnd.holoviews_exec.v0+json": {
       "id": "2767"
      }
     },
     "output_type": "execute_result"
    }
   ],
   "source": [
    "# Table with tradable cryptos\n",
    "clustered_df.hvplot.table()"
   ]
  },
  {
   "cell_type": "code",
   "execution_count": 107,
   "metadata": {},
   "outputs": [
    {
     "name": "stdout",
     "output_type": "stream",
     "text": [
      " There are a total of 532 tradable cryptocurrencies\n"
     ]
    }
   ],
   "source": [
    "# Print the total number of tradable cryptocurrencies\n",
    "print(f' There are a total of {clustered_df[\"CoinName\"].count()} tradable cryptocurrencies')"
   ]
  },
  {
   "cell_type": "markdown",
   "metadata": {},
   "source": [
    "#### Scatter Plot with Tradable Cryptocurrencies"
   ]
  },
  {
   "cell_type": "code",
   "execution_count": 108,
   "metadata": {},
   "outputs": [
    {
     "data": {
      "text/plain": [
       "array([[0.00000000e+00, 4.20000000e-11],\n",
       "       [1.06585544e-03, 5.32000000e-04],\n",
       "       [2.95755135e-02, 3.14159265e-01],\n",
       "       ...,\n",
       "       [9.90135079e-04, 1.40022261e-03],\n",
       "       [7.37028150e-06, 2.10000000e-05],\n",
       "       [1.29582282e-07, 1.00000000e-06]])"
      ]
     },
     "execution_count": 108,
     "metadata": {},
     "output_type": "execute_result"
    }
   ],
   "source": [
    "# Scale data to create the scatter plot\n",
    "scaling_data = clustered_df.copy()\n",
    "scaling_data_2 = scaling_data.drop(\n",
    "    [\"Algorithm\", \"ProofType\",\"PC 1\", \"PC 2\", \"PC 3\", \"CoinName\", \"Class\"], \n",
    "    axis=1\n",
    ")\n",
    "min_max = MinMaxScaler().fit_transform(scaling_data_2)\n",
    "min_max"
   ]
  },
  {
   "cell_type": "code",
   "execution_count": 109,
   "metadata": {},
   "outputs": [
    {
     "data": {
      "text/html": [
       "<div>\n",
       "<style scoped>\n",
       "    .dataframe tbody tr th:only-of-type {\n",
       "        vertical-align: middle;\n",
       "    }\n",
       "\n",
       "    .dataframe tbody tr th {\n",
       "        vertical-align: top;\n",
       "    }\n",
       "\n",
       "    .dataframe thead th {\n",
       "        text-align: right;\n",
       "    }\n",
       "</style>\n",
       "<table border=\"1\" class=\"dataframe\">\n",
       "  <thead>\n",
       "    <tr style=\"text-align: right;\">\n",
       "      <th></th>\n",
       "      <th>TotalCoinSupply</th>\n",
       "      <th>TotalCoinsMined</th>\n",
       "      <th>CoinName</th>\n",
       "      <th>Class</th>\n",
       "    </tr>\n",
       "  </thead>\n",
       "  <tbody>\n",
       "    <tr>\n",
       "      <th>42</th>\n",
       "      <td>4.200000e-11</td>\n",
       "      <td>0.000000</td>\n",
       "      <td>42 Coin</td>\n",
       "      <td>0</td>\n",
       "    </tr>\n",
       "    <tr>\n",
       "      <th>404</th>\n",
       "      <td>5.320000e-04</td>\n",
       "      <td>0.001066</td>\n",
       "      <td>404Coin</td>\n",
       "      <td>0</td>\n",
       "    </tr>\n",
       "    <tr>\n",
       "      <th>1337</th>\n",
       "      <td>3.141593e-01</td>\n",
       "      <td>0.029576</td>\n",
       "      <td>EliteCoin</td>\n",
       "      <td>0</td>\n",
       "    </tr>\n",
       "    <tr>\n",
       "      <th>BTC</th>\n",
       "      <td>2.100000e-05</td>\n",
       "      <td>0.000018</td>\n",
       "      <td>Bitcoin</td>\n",
       "      <td>3</td>\n",
       "    </tr>\n",
       "    <tr>\n",
       "      <th>ETH</th>\n",
       "      <td>0.000000e+00</td>\n",
       "      <td>0.000109</td>\n",
       "      <td>Ethereum</td>\n",
       "      <td>3</td>\n",
       "    </tr>\n",
       "    <tr>\n",
       "      <th>LTC</th>\n",
       "      <td>8.400000e-05</td>\n",
       "      <td>0.000064</td>\n",
       "      <td>Litecoin</td>\n",
       "      <td>3</td>\n",
       "    </tr>\n",
       "    <tr>\n",
       "      <th>DASH</th>\n",
       "      <td>2.200000e-05</td>\n",
       "      <td>0.000009</td>\n",
       "      <td>Dash</td>\n",
       "      <td>0</td>\n",
       "    </tr>\n",
       "    <tr>\n",
       "      <th>XMR</th>\n",
       "      <td>0.000000e+00</td>\n",
       "      <td>0.000017</td>\n",
       "      <td>Monero</td>\n",
       "      <td>3</td>\n",
       "    </tr>\n",
       "    <tr>\n",
       "      <th>ETC</th>\n",
       "      <td>2.100000e-04</td>\n",
       "      <td>0.000115</td>\n",
       "      <td>Ethereum Classic</td>\n",
       "      <td>3</td>\n",
       "    </tr>\n",
       "    <tr>\n",
       "      <th>ZEC</th>\n",
       "      <td>2.100000e-05</td>\n",
       "      <td>0.000007</td>\n",
       "      <td>ZCash</td>\n",
       "      <td>3</td>\n",
       "    </tr>\n",
       "  </tbody>\n",
       "</table>\n",
       "</div>"
      ],
      "text/plain": [
       "      TotalCoinSupply  TotalCoinsMined          CoinName  Class\n",
       "42       4.200000e-11         0.000000           42 Coin      0\n",
       "404      5.320000e-04         0.001066           404Coin      0\n",
       "1337     3.141593e-01         0.029576         EliteCoin      0\n",
       "BTC      2.100000e-05         0.000018           Bitcoin      3\n",
       "ETH      0.000000e+00         0.000109          Ethereum      3\n",
       "LTC      8.400000e-05         0.000064          Litecoin      3\n",
       "DASH     2.200000e-05         0.000009              Dash      0\n",
       "XMR      0.000000e+00         0.000017            Monero      3\n",
       "ETC      2.100000e-04         0.000115  Ethereum Classic      3\n",
       "ZEC      2.100000e-05         0.000007             ZCash      3"
      ]
     },
     "execution_count": 109,
     "metadata": {},
     "output_type": "execute_result"
    }
   ],
   "source": [
    "# Plot the scatter with x=\"TotalCoinsMined\" and y=\"TotalCoinSupply\"\n",
    "min_max_df = pd.DataFrame(\n",
    "    data=min_max,\n",
    "    columns=[\"TotalCoinsMined\", \"TotalCoinSupply\"],\n",
    "    index=clustered_df.index\n",
    ")\n",
    "\n",
    "# Reorder columns\n",
    "plot_df = min_max_df.reindex(columns=[\"TotalCoinSupply\",\"TotalCoinsMined\"])\n",
    "\n",
    "# Add the \"CoinName\" column from the clustered_df DataFrame to the new DataFrame.\n",
    "plot_df[\"CoinName\"] = coin_name_df[\"CoinName\"]\n",
    "\n",
    "# Add the \"Class\" column from the clustered_df DataFrame to the new DataFrame. \n",
    "plot_df[\"Class\"] = clustered_df[\"Class\"]\n",
    "\n",
    "plot_df.head(10)"
   ]
  },
  {
   "cell_type": "code",
   "execution_count": 110,
   "metadata": {},
   "outputs": [
    {
     "data": {},
     "metadata": {},
     "output_type": "display_data"
    },
    {
     "data": {
      "application/vnd.holoviews_exec.v0+json": "",
      "text/html": [
       "<div id='2835'>\n",
       "\n",
       "\n",
       "\n",
       "\n",
       "\n",
       "  <div class=\"bk-root\" id=\"347c3562-5639-4b2a-bf60-bd97b9c6b815\" data-root-id=\"2835\"></div>\n",
       "</div>\n",
       "<script type=\"application/javascript\">(function(root) {\n",
       "  function embed_document(root) {\n",
       "    var docs_json = {\"fc39b572-b58c-4229-a43e-ff7060eaa180\":{\"defs\":[],\"roots\":{\"references\":[{\"attributes\":{\"fill_color\":{\"value\":\"#e5ae38\"},\"line_color\":{\"value\":\"#e5ae38\"},\"size\":{\"value\":5.477225575051661},\"x\":{\"field\":\"TotalCoinsMined\"},\"y\":{\"field\":\"TotalCoinSupply\"}},\"id\":\"2925\",\"type\":\"Scatter\"},{\"attributes\":{\"fill_alpha\":{\"value\":0.1},\"fill_color\":{\"value\":\"#e5ae38\"},\"line_alpha\":{\"value\":0.1},\"line_color\":{\"value\":\"#e5ae38\"},\"size\":{\"value\":5.477225575051661},\"x\":{\"field\":\"TotalCoinsMined\"},\"y\":{\"field\":\"TotalCoinSupply\"}},\"id\":\"2926\",\"type\":\"Scatter\"},{\"attributes\":{\"below\":[{\"id\":\"2852\"}],\"center\":[{\"id\":\"2855\"},{\"id\":\"2859\"}],\"height\":300,\"left\":[{\"id\":\"2856\"}],\"margin\":[5,5,5,5],\"min_border_bottom\":10,\"min_border_left\":10,\"min_border_right\":10,\"min_border_top\":10,\"renderers\":[{\"id\":\"2885\"},{\"id\":\"2906\"},{\"id\":\"2928\"},{\"id\":\"2952\"}],\"right\":[{\"id\":\"2897\"}],\"sizing_mode\":\"fixed\",\"title\":{\"id\":\"2844\"},\"toolbar\":{\"id\":\"2866\"},\"width\":700,\"x_range\":{\"id\":\"2837\"},\"x_scale\":{\"id\":\"2848\"},\"y_range\":{\"id\":\"2838\"},\"y_scale\":{\"id\":\"2850\"}},\"id\":\"2843\",\"subtype\":\"Figure\",\"type\":\"Plot\"},{\"attributes\":{},\"id\":\"2874\",\"type\":\"BasicTickFormatter\"},{\"attributes\":{\"fill_alpha\":{\"value\":0.2},\"fill_color\":{\"value\":\"#e5ae38\"},\"line_alpha\":{\"value\":0.2},\"line_color\":{\"value\":\"#e5ae38\"},\"size\":{\"value\":5.477225575051661},\"x\":{\"field\":\"TotalCoinsMined\"},\"y\":{\"field\":\"TotalCoinSupply\"}},\"id\":\"2927\",\"type\":\"Scatter\"},{\"attributes\":{\"data_source\":{\"id\":\"2922\"},\"glyph\":{\"id\":\"2925\"},\"hover_glyph\":null,\"muted_glyph\":{\"id\":\"2927\"},\"nonselection_glyph\":{\"id\":\"2926\"},\"selection_glyph\":{\"id\":\"2945\"},\"view\":{\"id\":\"2929\"}},\"id\":\"2928\",\"type\":\"GlyphRenderer\"},{\"attributes\":{},\"id\":\"2873\",\"type\":\"AllLabels\"},{\"attributes\":{\"source\":{\"id\":\"2922\"}},\"id\":\"2929\",\"type\":\"CDSView\"},{\"attributes\":{\"angle\":{\"value\":0.0},\"fill_alpha\":{\"value\":1.0},\"fill_color\":{\"value\":\"#6d904f\"},\"hatch_alpha\":{\"value\":1.0},\"hatch_color\":{\"value\":\"black\"},\"hatch_scale\":{\"value\":12.0},\"hatch_weight\":{\"value\":1.0},\"line_alpha\":{\"value\":1.0},\"line_cap\":{\"value\":\"butt\"},\"line_color\":{\"value\":\"#6d904f\"},\"line_dash\":{\"value\":[]},\"line_dash_offset\":{\"value\":0},\"line_join\":{\"value\":\"bevel\"},\"line_width\":{\"value\":1},\"marker\":{\"value\":\"circle\"},\"size\":{\"value\":5.477225575051661},\"x\":{\"field\":\"TotalCoinsMined\"},\"y\":{\"field\":\"TotalCoinSupply\"}},\"id\":\"2971\",\"type\":\"Scatter\"},{\"attributes\":{\"label\":{\"value\":\"2\"},\"renderers\":[{\"id\":\"2928\"}]},\"id\":\"2944\",\"type\":\"LegendItem\"},{\"attributes\":{\"fill_color\":{\"value\":\"#fc4f30\"},\"line_color\":{\"value\":\"#fc4f30\"},\"size\":{\"value\":5.477225575051661},\"x\":{\"field\":\"TotalCoinsMined\"},\"y\":{\"field\":\"TotalCoinSupply\"}},\"id\":\"2903\",\"type\":\"Scatter\"},{\"attributes\":{\"angle\":{\"value\":0.0},\"fill_alpha\":{\"value\":1.0},\"fill_color\":{\"value\":\"#e5ae38\"},\"hatch_alpha\":{\"value\":1.0},\"hatch_color\":{\"value\":\"black\"},\"hatch_scale\":{\"value\":12.0},\"hatch_weight\":{\"value\":1.0},\"line_alpha\":{\"value\":1.0},\"line_cap\":{\"value\":\"butt\"},\"line_color\":{\"value\":\"#e5ae38\"},\"line_dash\":{\"value\":[]},\"line_dash_offset\":{\"value\":0},\"line_join\":{\"value\":\"bevel\"},\"line_width\":{\"value\":1},\"marker\":{\"value\":\"circle\"},\"size\":{\"value\":5.477225575051661},\"x\":{\"field\":\"TotalCoinsMined\"},\"y\":{\"field\":\"TotalCoinSupply\"}},\"id\":\"2945\",\"type\":\"Scatter\"},{\"attributes\":{\"end\":1.1,\"reset_end\":1.1,\"reset_start\":-0.1,\"start\":-0.1,\"tags\":[[[\"TotalCoinSupply\",\"TotalCoinSupply\",null]]]},\"id\":\"2838\",\"type\":\"Range1d\"},{\"attributes\":{\"click_policy\":\"mute\",\"items\":[{\"id\":\"2898\"},{\"id\":\"2920\"},{\"id\":\"2944\"},{\"id\":\"2970\"}],\"location\":[0,0],\"title\":\"Class\"},\"id\":\"2897\",\"type\":\"Legend\"},{\"attributes\":{},\"id\":\"2941\",\"type\":\"UnionRenderers\"},{\"attributes\":{},\"id\":\"2876\",\"type\":\"AllLabels\"},{\"attributes\":{},\"id\":\"2877\",\"type\":\"BasicTickFormatter\"},{\"attributes\":{\"angle\":{\"value\":0.0},\"fill_alpha\":{\"value\":1.0},\"fill_color\":{\"value\":\"#30a2da\"},\"hatch_alpha\":{\"value\":1.0},\"hatch_color\":{\"value\":\"black\"},\"hatch_scale\":{\"value\":12.0},\"hatch_weight\":{\"value\":1.0},\"line_alpha\":{\"value\":1.0},\"line_cap\":{\"value\":\"butt\"},\"line_color\":{\"value\":\"#30a2da\"},\"line_dash\":{\"value\":[]},\"line_dash_offset\":{\"value\":0},\"line_join\":{\"value\":\"bevel\"},\"line_width\":{\"value\":1},\"marker\":{\"value\":\"circle\"},\"size\":{\"value\":5.477225575051661},\"x\":{\"field\":\"TotalCoinsMined\"},\"y\":{\"field\":\"TotalCoinSupply\"}},\"id\":\"2899\",\"type\":\"Scatter\"},{\"attributes\":{\"end\":1.042857142857143,\"reset_end\":1.042857142857143,\"reset_start\":-0.04285714285714286,\"start\":-0.04285714285714286,\"tags\":[[[\"TotalCoinsMined\",\"TotalCoinsMined\",null]]]},\"id\":\"2837\",\"type\":\"Range1d\"},{\"attributes\":{\"fill_color\":{\"value\":\"#30a2da\"},\"line_color\":{\"value\":\"#30a2da\"},\"size\":{\"value\":5.477225575051661},\"x\":{\"field\":\"TotalCoinsMined\"},\"y\":{\"field\":\"TotalCoinSupply\"}},\"id\":\"2882\",\"type\":\"Scatter\"},{\"attributes\":{\"axis_label\":\"TotalCoinsMined\",\"formatter\":{\"id\":\"2874\"},\"major_label_policy\":{\"id\":\"2873\"},\"ticker\":{\"id\":\"2853\"}},\"id\":\"2852\",\"type\":\"LinearAxis\"},{\"attributes\":{\"fill_alpha\":{\"value\":0.1},\"fill_color\":{\"value\":\"#30a2da\"},\"line_alpha\":{\"value\":0.1},\"line_color\":{\"value\":\"#30a2da\"},\"size\":{\"value\":5.477225575051661},\"x\":{\"field\":\"TotalCoinsMined\"},\"y\":{\"field\":\"TotalCoinSupply\"}},\"id\":\"2883\",\"type\":\"Scatter\"},{\"attributes\":{\"text_color\":\"black\",\"text_font_size\":\"12pt\"},\"id\":\"2844\",\"type\":\"Title\"},{\"attributes\":{},\"id\":\"2853\",\"type\":\"BasicTicker\"},{\"attributes\":{\"fill_alpha\":{\"value\":0.2},\"fill_color\":{\"value\":\"#30a2da\"},\"line_alpha\":{\"value\":0.2},\"line_color\":{\"value\":\"#30a2da\"},\"size\":{\"value\":5.477225575051661},\"x\":{\"field\":\"TotalCoinsMined\"},\"y\":{\"field\":\"TotalCoinSupply\"}},\"id\":\"2884\",\"type\":\"Scatter\"},{\"attributes\":{\"data_source\":{\"id\":\"2900\"},\"glyph\":{\"id\":\"2903\"},\"hover_glyph\":null,\"muted_glyph\":{\"id\":\"2905\"},\"nonselection_glyph\":{\"id\":\"2904\"},\"selection_glyph\":{\"id\":\"2921\"},\"view\":{\"id\":\"2907\"}},\"id\":\"2906\",\"type\":\"GlyphRenderer\"},{\"attributes\":{\"data\":{\"Class\":[1,1,1,1],\"CoinName\":[\"BiblePay\",\"Poa Network\",\"Acute Angle Cloud\",\"Waves\"],\"TotalCoinSupply\":{\"__ndarray__\":\"lPYGX5hMdT+EWijhloswP/yp8dJNYlA/LEMc6+I2Gj8=\",\"dtype\":\"float64\",\"order\":\"little\",\"shape\":[4]},\"TotalCoinsMined\":{\"__ndarray__\":\"j1gNkdpTXT+cGSV4jxIrP3pDQwW4jFA/+0V+YL96Gj8=\",\"dtype\":\"float64\",\"order\":\"little\",\"shape\":[4]}},\"selected\":{\"id\":\"2901\"},\"selection_policy\":{\"id\":\"2917\"}},\"id\":\"2900\",\"type\":\"ColumnDataSource\"},{\"attributes\":{\"callback\":null,\"renderers\":[{\"id\":\"2885\"},{\"id\":\"2906\"},{\"id\":\"2928\"},{\"id\":\"2952\"}],\"tags\":[\"hv_created\"],\"tooltips\":[[\"Class\",\"@{Class}\"],[\"TotalCoinsMined\",\"@{TotalCoinsMined}\"],[\"TotalCoinSupply\",\"@{TotalCoinSupply}\"],[\"CoinName\",\"@{CoinName}\"]]},\"id\":\"2839\",\"type\":\"HoverTool\"},{\"attributes\":{\"margin\":[5,5,5,5],\"name\":\"HSpacer05245\",\"sizing_mode\":\"stretch_width\"},\"id\":\"3116\",\"type\":\"Spacer\"},{\"attributes\":{\"fill_alpha\":{\"value\":0.2},\"fill_color\":{\"value\":\"#fc4f30\"},\"line_alpha\":{\"value\":0.2},\"line_color\":{\"value\":\"#fc4f30\"},\"size\":{\"value\":5.477225575051661},\"x\":{\"field\":\"TotalCoinsMined\"},\"y\":{\"field\":\"TotalCoinSupply\"}},\"id\":\"2905\",\"type\":\"Scatter\"},{\"attributes\":{},\"id\":\"2880\",\"type\":\"Selection\"},{\"attributes\":{\"fill_alpha\":{\"value\":0.1},\"fill_color\":{\"value\":\"#fc4f30\"},\"line_alpha\":{\"value\":0.1},\"line_color\":{\"value\":\"#fc4f30\"},\"size\":{\"value\":5.477225575051661},\"x\":{\"field\":\"TotalCoinsMined\"},\"y\":{\"field\":\"TotalCoinSupply\"}},\"id\":\"2904\",\"type\":\"Scatter\"},{\"attributes\":{},\"id\":\"2848\",\"type\":\"LinearScale\"},{\"attributes\":{\"data_source\":{\"id\":\"2879\"},\"glyph\":{\"id\":\"2882\"},\"hover_glyph\":null,\"muted_glyph\":{\"id\":\"2884\"},\"nonselection_glyph\":{\"id\":\"2883\"},\"selection_glyph\":{\"id\":\"2899\"},\"view\":{\"id\":\"2886\"}},\"id\":\"2885\",\"type\":\"GlyphRenderer\"},{\"attributes\":{},\"id\":\"2861\",\"type\":\"PanTool\"},{\"attributes\":{\"label\":{\"value\":\"1\"},\"renderers\":[{\"id\":\"2906\"}]},\"id\":\"2920\",\"type\":\"LegendItem\"},{\"attributes\":{},\"id\":\"2850\",\"type\":\"LinearScale\"},{\"attributes\":{\"source\":{\"id\":\"2879\"}},\"id\":\"2886\",\"type\":\"CDSView\"},{\"attributes\":{\"source\":{\"id\":\"2900\"}},\"id\":\"2907\",\"type\":\"CDSView\"},{\"attributes\":{},\"id\":\"2862\",\"type\":\"WheelZoomTool\"},{\"attributes\":{\"label\":{\"value\":\"0\"},\"renderers\":[{\"id\":\"2885\"}]},\"id\":\"2898\",\"type\":\"LegendItem\"},{\"attributes\":{},\"id\":\"2901\",\"type\":\"Selection\"},{\"attributes\":{\"axis\":{\"id\":\"2852\"},\"grid_line_color\":null,\"ticker\":null},\"id\":\"2855\",\"type\":\"Grid\"},{\"attributes\":{\"angle\":{\"value\":0.0},\"fill_alpha\":{\"value\":1.0},\"fill_color\":{\"value\":\"#fc4f30\"},\"hatch_alpha\":{\"value\":1.0},\"hatch_color\":{\"value\":\"black\"},\"hatch_scale\":{\"value\":12.0},\"hatch_weight\":{\"value\":1.0},\"line_alpha\":{\"value\":1.0},\"line_cap\":{\"value\":\"butt\"},\"line_color\":{\"value\":\"#fc4f30\"},\"line_dash\":{\"value\":[]},\"line_dash_offset\":{\"value\":0},\"line_join\":{\"value\":\"bevel\"},\"line_width\":{\"value\":1},\"marker\":{\"value\":\"circle\"},\"size\":{\"value\":5.477225575051661},\"x\":{\"field\":\"TotalCoinsMined\"},\"y\":{\"field\":\"TotalCoinSupply\"}},\"id\":\"2921\",\"type\":\"Scatter\"},{\"attributes\":{\"fill_color\":{\"value\":\"#6d904f\"},\"line_color\":{\"value\":\"#6d904f\"},\"size\":{\"value\":5.477225575051661},\"x\":{\"field\":\"TotalCoinsMined\"},\"y\":{\"field\":\"TotalCoinSupply\"}},\"id\":\"2949\",\"type\":\"Scatter\"},{\"attributes\":{\"axis_label\":\"TotalCoinSupply\",\"formatter\":{\"id\":\"2877\"},\"major_label_policy\":{\"id\":\"2876\"},\"ticker\":{\"id\":\"2857\"}},\"id\":\"2856\",\"type\":\"LinearAxis\"},{\"attributes\":{\"axis\":{\"id\":\"2856\"},\"dimension\":1,\"grid_line_color\":null,\"ticker\":null},\"id\":\"2859\",\"type\":\"Grid\"},{\"attributes\":{},\"id\":\"2857\",\"type\":\"BasicTicker\"},{\"attributes\":{\"data\":{\"Class\":[0,0,0,0,0,0,0,0,0,0,0,0,0,0,0,0,0,0,0,0,0,0,0,0,0,0,0,0,0,0,0,0,0,0,0,0,0,0,0,0,0,0,0,0,0,0,0,0,0,0,0,0,0,0,0,0,0,0,0,0,0,0,0,0,0,0,0,0,0,0,0,0,0,0,0,0,0,0,0,0,0,0,0,0,0,0,0,0,0,0,0,0,0,0,0,0,0,0,0,0,0,0,0,0,0,0,0,0,0,0,0,0,0,0,0,0,0,0,0,0,0,0,0,0,0,0,0,0,0,0,0,0,0,0,0,0,0,0,0,0,0,0,0,0,0,0,0,0,0,0,0,0,0,0,0,0,0,0,0,0,0,0,0,0,0,0,0,0,0,0,0,0,0,0,0,0,0,0,0,0,0,0,0,0,0,0,0,0,0,0,0,0,0,0,0,0,0,0,0,0,0,0,0,0,0,0,0,0,0,0,0,0,0,0,0,0,0,0,0,0,0,0,0,0,0,0,0,0,0,0,0,0,0,0,0,0,0,0,0,0,0,0,0,0,0,0,0,0,0,0,0,0,0,0,0,0,0,0,0,0,0,0,0,0,0,0,0,0,0,0,0,0,0,0,0,0,0,0,0,0,0,0,0,0,0,0,0,0],\"CoinName\":[\"42 Coin\",\"404Coin\",\"EliteCoin\",\"Dash\",\"Bitshares\",\"BitcoinDark\",\"PayCoin\",\"KoboCoin\",\"Aurora Coin\",\"BlueCoin\",\"EnergyCoin\",\"BitBar\",\"CryptoBullion\",\"CasinoCoin\",\"Diamond\",\"Exclusive Coin\",\"FlutterCoin\",\"HoboNickels\",\"HyperStake\",\"IOCoin\",\"MaxCoin\",\"MintCoin\",\"MazaCoin\",\"Nautilus Coin\",\"NavCoin\",\"OpalCoin\",\"Orbitcoin\",\"PotCoin\",\"PhoenixCoin\",\"Reddcoin\",\"SuperCoin\",\"SyncCoin\",\"TeslaCoin\",\"TittieCoin\",\"TorCoin\",\"UnitaryStatus Dollar\",\"UltraCoin\",\"VeriCoin\",\"X11 Coin\",\"Crypti\",\"StealthCoin\",\"ZCC Coin\",\"BurstCoin\",\"StorjCoin\",\"Neutron\",\"FairCoin\",\"RubyCoin\",\"Kore\",\"Dnotes\",\"8BIT Coin\",\"Sativa Coin\",\"Ucoin\",\"Vtorrent\",\"IslaCoin\",\"Nexus\",\"Droidz\",\"Squall Coin\",\"Diggits\",\"Paycon\",\"Emercoin\",\"EverGreenCoin\",\"Decred\",\"EDRCoin\",\"Hitcoin\",\"DubaiCoin\",\"PWR Coin\",\"BillaryCoin\",\"GPU Coin\",\"EuropeCoin\",\"ZeitCoin\",\"SwingCoin\",\"SafeExchangeCoin\",\"Nebuchadnezzar\",\"Ratecoin\",\"Revenu\",\"Clockcoin\",\"VIP Tokens\",\"BitSend\",\"Let it Ride\",\"PutinCoin\",\"iBankCoin\",\"Frankywillcoin\",\"MudraCoin\",\"Lutetium Coin\",\"GoldBlocks\",\"CarterCoin\",\"BitTokens\",\"MustangCoin\",\"ZoneCoin\",\"RootCoin\",\"BitCurrency\",\"Swiscoin\",\"BuzzCoin\",\"Opair\",\"PesoBit\",\"Halloween Coin\",\"CoffeeCoin\",\"RoyalCoin\",\"GanjaCoin V2\",\"TeamUP\",\"LanaCoin\",\"ARK\",\"InsaneCoin\",\"EmberCoin\",\"XenixCoin\",\"FreeCoin\",\"PLNCoin\",\"AquariusCoin\",\"Creatio\",\"Eternity\",\"Eurocoin\",\"BitcoinFast\",\"Stakenet\",\"BitConnect Coin\",\"MoneyCoin\",\"Enigma\",\"Russiacoin\",\"PandaCoin\",\"GameUnits\",\"GAKHcoin\",\"Allsafe\",\"LiteCreed\",\"Klingon Empire Darsek\",\"Internet of People\",\"KushCoin\",\"Printerium\",\"Impeach\",\"Zilbercoin\",\"FirstCoin\",\"FindCoin\",\"OpenChat\",\"RenosCoin\",\"VirtacoinPlus\",\"TajCoin\",\"Impact\",\"Atmos\",\"HappyCoin\",\"MacronCoin\",\"Condensate\",\"Independent Money System\",\"ArgusCoin\",\"LomoCoin\",\"ProCurrency\",\"GoldReserve\",\"GrowthCoin\",\"Phreak\",\"Degas Coin\",\"HTML5 Coin\",\"Ultimate Secure Cash\",\"QTUM\",\"Espers\",\"Denarius\",\"Virta Unique Coin\",\"Bitcoin Planet\",\"BritCoin\",\"Linda\",\"DeepOnion\",\"Signatum\",\"Cream\",\"Monoeci\",\"Draftcoin\",\"Vechain\",\"Stakecoin\",\"CoinonatX\",\"Ethereum Dark\",\"Obsidian\",\"Cardano\",\"Regalcoin\",\"TrezarCoin\",\"TerraNovaCoin\",\"Rupee\",\"WomenCoin\",\"Theresa May Coin\",\"NamoCoin\",\"LUXCoin\",\"Xios\",\"Bitcloud 2.0\",\"KekCoin\",\"BlackholeCoin\",\"Infinity Economics\",\"Magnet\",\"Lamden Tau\",\"Electra\",\"Bitcoin Diamond\",\"Cash & Back Coin\",\"Bulwark\",\"Kalkulus\",\"GermanCoin\",\"LiteCoin Ultra\",\"PhantomX\",\"Digiwage\",\"Trollcoin\",\"Litecoin Plus\",\"Monkey Project\",\"TokenPay\",\"1717 Masonic Commemorative Token\",\"My Big Coin\",\"Unified Society USDEX\",\"Tokyo Coin\",\"LitecoinCash\",\"Stipend\",\"Pushi\",\"Ellerium\",\"Velox\",\"Ontology\",\"Bitspace\",\"Briacoin\",\"Ignition\",\"MedicCoin\",\"Bitcoin Green\",\"Deviant Coin\",\"Abjcoin\",\"Semux\",\"Carebit\",\"Zealium\",\"Proton\",\"iDealCash\",\"Bitcoin Incognito\",\"HollyWoodCoin\",\"Swisscoin\",\"Xt3ch\",\"TheVig\",\"EmaratCoin\",\"Dekado\",\"Lynx\",\"Poseidon Quark\",\"BitcoinWSpectrum\",\"Muse\",\"Trivechain\",\"Dystem\",\"Giant\",\"Peony Coin\",\"Absolute Coin\",\"Vitae\",\"TPCash\",\"ARENON\",\"EUNO\",\"MMOCoin\",\"Ketan\",\"XDNA\",\"PAXEX\",\"ThunderStake\",\"Kcash\",\"Bettex coin\",\"Junson Ming Chan Coin\",\"HerbCoin\",\"PirateCash\",\"Oduwa\",\"Galilel\",\"Crypto Sports\",\"Credit\",\"Dash Platinum\",\"Nasdacoin\",\"Beetle Coin\",\"Titan Coin\",\"Award\",\"Insane Coin\",\"ALAX\",\"LiteDoge\",\"TruckCoin\",\"OrangeCoin\",\"BitstarCoin\",\"NeosCoin\",\"HyperCoin\",\"PinkCoin\",\"AudioCoin\",\"IncaKoin\",\"Piggy Coin\",\"Genstake\",\"XiaoMiCoin\",\"CapriCoin\",\" ClubCoin\",\"Radium\",\"Creditbit \",\"OKCash\",\"Lisk\",\"HiCoin\",\"WhiteCoin\",\"FriendshipCoin\",\"Triangles Coin\",\"EOS\",\"Oxycoin\",\"TigerCash\",\"Particl\",\"Nxt\",\"ZEPHYR\",\"Gapcoin\",\"BitcoinPlus\"],\"TotalCoinSupply\":{\"__ndarray__\":\"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\",\"dtype\":\"float64\",\"order\":\"little\",\"shape\":[288]},\"TotalCoinsMined\":{\"__ndarray__\":\"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\",\"dtype\":\"float64\",\"order\":\"little\",\"shape\":[288]}},\"selected\":{\"id\":\"2880\"},\"selection_policy\":{\"id\":\"2894\"}},\"id\":\"2879\",\"type\":\"ColumnDataSource\"},{\"attributes\":{\"fill_alpha\":{\"value\":0.1},\"fill_color\":{\"value\":\"#6d904f\"},\"line_alpha\":{\"value\":0.1},\"line_color\":{\"value\":\"#6d904f\"},\"size\":{\"value\":5.477225575051661},\"x\":{\"field\":\"TotalCoinsMined\"},\"y\":{\"field\":\"TotalCoinSupply\"}},\"id\":\"2950\",\"type\":\"Scatter\"},{\"attributes\":{},\"id\":\"2860\",\"type\":\"SaveTool\"},{\"attributes\":{},\"id\":\"2917\",\"type\":\"UnionRenderers\"},{\"attributes\":{\"overlay\":{\"id\":\"2865\"}},\"id\":\"2863\",\"type\":\"BoxZoomTool\"},{\"attributes\":{},\"id\":\"2864\",\"type\":\"ResetTool\"},{\"attributes\":{\"margin\":[5,5,5,5],\"name\":\"HSpacer05244\",\"sizing_mode\":\"stretch_width\"},\"id\":\"2836\",\"type\":\"Spacer\"},{\"attributes\":{\"data_source\":{\"id\":\"2946\"},\"glyph\":{\"id\":\"2949\"},\"hover_glyph\":null,\"muted_glyph\":{\"id\":\"2951\"},\"nonselection_glyph\":{\"id\":\"2950\"},\"selection_glyph\":{\"id\":\"2971\"},\"view\":{\"id\":\"2953\"}},\"id\":\"2952\",\"type\":\"GlyphRenderer\"},{\"attributes\":{\"fill_alpha\":{\"value\":0.2},\"fill_color\":{\"value\":\"#6d904f\"},\"line_alpha\":{\"value\":0.2},\"line_color\":{\"value\":\"#6d904f\"},\"size\":{\"value\":5.477225575051661},\"x\":{\"field\":\"TotalCoinsMined\"},\"y\":{\"field\":\"TotalCoinSupply\"}},\"id\":\"2951\",\"type\":\"Scatter\"},{\"attributes\":{\"label\":{\"value\":\"3\"},\"renderers\":[{\"id\":\"2952\"}]},\"id\":\"2970\",\"type\":\"LegendItem\"},{\"attributes\":{\"source\":{\"id\":\"2946\"}},\"id\":\"2953\",\"type\":\"CDSView\"},{\"attributes\":{},\"id\":\"2947\",\"type\":\"Selection\"},{\"attributes\":{\"bottom_units\":\"screen\",\"fill_alpha\":0.5,\"fill_color\":\"lightgrey\",\"left_units\":\"screen\",\"level\":\"overlay\",\"line_alpha\":1.0,\"line_color\":\"black\",\"line_dash\":[4,4],\"line_width\":2,\"right_units\":\"screen\",\"syncable\":false,\"top_units\":\"screen\"},\"id\":\"2865\",\"type\":\"BoxAnnotation\"},{\"attributes\":{\"children\":[{\"id\":\"2836\"},{\"id\":\"2843\"},{\"id\":\"3116\"}],\"margin\":[0,0,0,0],\"name\":\"Row05240\",\"tags\":[\"embedded\"]},\"id\":\"2835\",\"type\":\"Row\"},{\"attributes\":{},\"id\":\"2967\",\"type\":\"UnionRenderers\"},{\"attributes\":{},\"id\":\"2894\",\"type\":\"UnionRenderers\"},{\"attributes\":{},\"id\":\"2923\",\"type\":\"Selection\"},{\"attributes\":{\"data\":{\"Class\":[3,3,3,3,3,3,3,3,3,3,3,3,3,3,3,3,3,3,3,3,3,3,3,3,3,3,3,3,3,3,3,3,3,3,3,3,3,3,3,3,3,3,3,3,3,3,3,3,3,3,3,3,3,3,3,3,3,3,3,3,3,3,3,3,3,3,3,3,3,3,3,3,3,3,3,3,3,3,3,3,3,3,3,3,3,3,3,3,3,3,3,3,3,3,3,3,3,3,3,3,3,3,3,3,3,3,3,3,3,3,3,3,3,3,3,3,3,3,3,3,3,3,3,3,3,3,3,3,3,3,3,3,3,3,3,3,3,3,3,3,3,3,3,3,3,3,3,3,3,3,3,3,3,3,3,3,3,3,3,3,3,3,3,3,3,3,3,3,3,3,3,3,3,3,3,3,3,3,3,3,3,3,3,3,3,3,3,3,3,3,3,3,3,3,3,3,3,3,3,3,3,3,3,3,3,3,3,3,3,3,3,3,3,3,3,3,3,3,3,3,3,3,3,3,3,3,3,3,3,3,3,3,3,3,3,3,3,3,3],\"CoinName\":[\"Bitcoin\",\"Ethereum\",\"Litecoin\",\"Monero\",\"Ethereum Classic\",\"ZCash\",\"DigiByte\",\"ProsperCoin\",\"Spreadcoin\",\"Argentum\",\"MyriadCoin\",\"MoonCoin\",\"ZetaCoin\",\"SexCoin\",\"Quatloo\",\"QuarkCoin\",\"Riecoin\",\"Digitalcoin \",\"Catcoin\",\"CannaCoin\",\"CryptCoin\",\"Verge\",\"DevCoin\",\"EarthCoin\",\"E-Gulden\",\"Einsteinium\",\"Emerald\",\"Franko\",\"FeatherCoin\",\"GrandCoin\",\"GlobalCoin\",\"GoldCoin\",\"Infinite Coin\",\"IXcoin\",\"KrugerCoin\",\"LuckyCoin\",\"Litebar \",\"MegaCoin\",\"MediterraneanCoin\",\"MinCoin\",\"NobleCoin\",\"Namecoin\",\"NyanCoin\",\"RonPaulCoin\",\"StableCoin\",\"SmartCoin\",\"SysCoin\",\"TigerCoin\",\"TerraCoin\",\"UnbreakableCoin\",\"Unobtanium\",\"UroCoin\",\"ViaCoin\",\"Vertcoin\",\"WorldCoin\",\"JouleCoin\",\"ByteCoin\",\"DigitalNote \",\"MonaCoin\",\"Gulden\",\"PesetaCoin\",\"Wild Beast Coin\",\"Flo\",\"ArtByte\",\"Folding Coin\",\"Unitus\",\"CypherPunkCoin\",\"OmniCron\",\"GreenCoin\",\"Cryptonite\",\"MasterCoin\",\"SoonCoin\",\"1Credit\",\"MarsCoin \",\"Crypto\",\"Anarchists Prime\",\"BowsCoin\",\"Song Coin\",\"BitZeny\",\"Expanse\",\"Siacoin\",\"MindCoin\",\"I0coin\",\"Revolution VR\",\"HOdlcoin\",\"Gamecredits\",\"CarpeDiemCoin\",\"Adzcoin\",\"SoilCoin\",\"YoCoin\",\"SibCoin\",\"Francs\",\"BolivarCoin\",\"Omni\",\"PizzaCoin\",\"Komodo\",\"Karbo\",\"ZayedCoin\",\"Circuits of Value\",\"DopeCoin\",\"DollarCoin\",\"Shilling\",\"ZCoin\",\"Elementrem\",\"ZClassic\",\"KiloCoin\",\"ArtexCoin\",\"Kurrent\",\"Cannabis Industry Coin\",\"OsmiumCoin\",\"Bikercoins\",\"HexxCoin\",\"PacCoin\",\"Citadel\",\"BeaverCoin\",\"VaultCoin\",\"Zero\",\"Canada eCoin\",\"Zoin\",\"DubaiCoin\",\"EB3coin\",\"Coinonat\",\"BenjiRolls\",\"ILCoin\",\"EquiTrader\",\"Quantum Resistant Ledger\",\"Dynamic\",\"Nano\",\"ChanCoin\",\"Dinastycoin\",\"DigitalPrice\",\"Unify\",\"SocialCoin\",\"ArcticCoin\",\"DAS\",\"LeviarCoin\",\"Bitcore\",\"gCn Coin\",\"SmartCash\",\"Onix\",\"Bitcoin Cash\",\"Sojourn Coin\",\"NewYorkCoin\",\"FrazCoin\",\"Kronecoin\",\"AdCoin\",\"Linx\",\"Sumokoin\",\"BitcoinZ\",\"Elements\",\"VIVO Coin\",\"Bitcoin Gold\",\"Pirl\",\"eBoost\",\"Pura\",\"Innova\",\"Ellaism\",\"GoByte\",\"SHIELD\",\"UltraNote\",\"BitCoal\",\"DaxxCoin\",\"AC3\",\"Lethean\",\"PopularCoin\",\"Photon\",\"Sucre\",\"SparksPay\",\"GunCoin\",\"IrishCoin\",\"Pioneer Coin\",\"UnitedBitcoin\",\"Interzone\",\"TurtleCoin\",\"MUNcoin\",\"Niobio Cash\",\"ShareChain\",\"Travelflex\",\"KREDS\",\"BitFlip\",\"LottoCoin\",\"Crypto Improvement Fund\",\"Callisto Network\",\"BitTube\",\"Poseidon\",\"Aidos Kuneen\",\"Bitrolium\",\"Alpenschillling\",\"FuturoCoin\",\"Monero Classic\",\"Jumpcoin\",\"Infinex\",\"KEYCO\",\"GINcoin\",\"PlatinCoin\",\"Loki\",\"Newton Coin\",\"MassGrid\",\"PluraCoin\",\"Motion\",\"PlusOneCoin\",\"Axe\",\"HexCoin\",\"Webchain\",\"Ryo\",\"Urals Coin\",\"Qwertycoin\",\"Project Pai\",\"Azart\",\"Xchange\",\"CrypticCoin\",\"Actinium\",\"Bitcoin SV\",\"BitMoney\",\"FREDEnergy\",\"Universal Molecule\",\"Lithium\",\"Exosis\",\"Block-Logic\",\"Beam\",\"Bithereum\",\"SLICE\",\"BLAST\",\"Bitcoin Rhodium\",\"GlobalToken\",\"SolarCoin\",\"UFO Coin\",\"BlakeCoin\",\"Crypto Escudo\",\"Crown Coin\",\"SmileyCoin\",\"Groestlcoin\",\"Bata\",\"Pakcoin\",\"JoinCoin\",\"Vollar\",\"Reality Clash\",\"Beldex\",\"Horizen\"],\"TotalCoinSupply\":{\"__ndarray__\":\"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\",\"dtype\":\"float64\",\"order\":\"little\",\"shape\":[239]},\"TotalCoinsMined\":{\"__ndarray__\":\"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\",\"dtype\":\"float64\",\"order\":\"little\",\"shape\":[239]}},\"selected\":{\"id\":\"2947\"},\"selection_policy\":{\"id\":\"2967\"}},\"id\":\"2946\",\"type\":\"ColumnDataSource\"},{\"attributes\":{\"active_multi\":null,\"tools\":[{\"id\":\"2839\"},{\"id\":\"2860\"},{\"id\":\"2861\"},{\"id\":\"2862\"},{\"id\":\"2863\"},{\"id\":\"2864\"}]},\"id\":\"2866\",\"type\":\"Toolbar\"},{\"attributes\":{\"data\":{\"Class\":[2],\"CoinName\":[\"BitTorrent\"],\"TotalCoinSupply\":{\"__ndarray__\":\"rkfhehSu7z8=\",\"dtype\":\"float64\",\"order\":\"little\",\"shape\":[1]},\"TotalCoinsMined\":{\"__ndarray__\":\"AAAAAAAA8D8=\",\"dtype\":\"float64\",\"order\":\"little\",\"shape\":[1]}},\"selected\":{\"id\":\"2923\"},\"selection_policy\":{\"id\":\"2941\"}},\"id\":\"2922\",\"type\":\"ColumnDataSource\"}],\"root_ids\":[\"2835\"]},\"title\":\"Bokeh Application\",\"version\":\"2.3.2\"}};\n",
       "    var render_items = [{\"docid\":\"fc39b572-b58c-4229-a43e-ff7060eaa180\",\"root_ids\":[\"2835\"],\"roots\":{\"2835\":\"347c3562-5639-4b2a-bf60-bd97b9c6b815\"}}];\n",
       "    root.Bokeh.embed.embed_items_notebook(docs_json, render_items);\n",
       "  }\n",
       "  if (root.Bokeh !== undefined && root.Bokeh.Panel !== undefined) {\n",
       "    embed_document(root);\n",
       "  } else {\n",
       "    var attempts = 0;\n",
       "    var timer = setInterval(function(root) {\n",
       "      if (root.Bokeh !== undefined && root.Bokeh.Panel !== undefined) {\n",
       "        clearInterval(timer);\n",
       "        embed_document(root);\n",
       "      } else if (document.readyState == \"complete\") {\n",
       "        attempts++;\n",
       "        if (attempts > 100) {\n",
       "          clearInterval(timer);\n",
       "          console.log(\"Bokeh: ERROR: Unable to run BokehJS code because BokehJS library is missing\");\n",
       "        }\n",
       "      }\n",
       "    }, 10, root)\n",
       "  }\n",
       "})(window);</script>"
      ],
      "text/plain": [
       ":NdOverlay   [Class]\n",
       "   :Scatter   [TotalCoinsMined]   (TotalCoinSupply,CoinName)"
      ]
     },
     "execution_count": 110,
     "metadata": {
      "application/vnd.holoviews_exec.v0+json": {
       "id": "2835"
      }
     },
     "output_type": "execute_result"
    }
   ],
   "source": [
    "plot_df.hvplot.scatter(\n",
    "    x=\"TotalCoinsMined\",\n",
    "    y=\"TotalCoinSupply\",\n",
    "    by=\"Class\",\n",
    "    hover_cols=[\"CoinName\"],\n",
    ")"
   ]
  },
  {
   "cell_type": "code",
   "execution_count": null,
   "metadata": {},
   "outputs": [],
   "source": []
  },
  {
   "cell_type": "code",
   "execution_count": null,
   "metadata": {},
   "outputs": [],
   "source": []
  },
  {
   "cell_type": "code",
   "execution_count": null,
   "metadata": {},
   "outputs": [],
   "source": []
  }
 ],
 "metadata": {
  "file_extension": ".py",
  "kernelspec": {
   "display_name": "Python 3",
   "language": "python",
   "name": "python3"
  },
  "language_info": {
   "codemirror_mode": {
    "name": "ipython",
    "version": 3
   },
   "file_extension": ".py",
   "mimetype": "text/x-python",
   "name": "python",
   "nbconvert_exporter": "python",
   "pygments_lexer": "ipython3",
   "version": "3.8.2"
  },
  "mimetype": "text/x-python",
  "name": "python",
  "npconvert_exporter": "python",
  "pygments_lexer": "ipython3",
  "version": 3
 },
 "nbformat": 4,
 "nbformat_minor": 4
}
